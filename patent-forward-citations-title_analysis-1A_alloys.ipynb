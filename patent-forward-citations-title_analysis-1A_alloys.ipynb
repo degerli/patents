{
 "cells": [
  {
   "cell_type": "markdown",
   "metadata": {
    "slideshow": {
     "slide_type": "slide"
    }
   },
   "source": [
    "## patent-forward-citations-title_analysis-1A_alloys"
   ]
  },
  {
   "cell_type": "raw",
   "metadata": {},
   "source": [
    "### DATA DICTIONARY ###\n",
    "\n",
    "df_patents (dataframe)\n",
    "df_pat05 (top 5% of patents)\n",
    "df_pat10 (top 10% of patents)\n",
    "df_pat15 (top 15% of patents)\n"
   ]
  },
  {
   "cell_type": "markdown",
   "metadata": {},
   "source": [
    "### Load dataframe and create two new dataframes with the top 5% and top 10% of patent citations. "
   ]
  },
  {
   "cell_type": "code",
   "execution_count": 1,
   "metadata": {
    "collapsed": false
   },
   "outputs": [
    {
     "name": "stdout",
     "output_type": "stream",
     "text": [
      "  patent_no                                       url  \\\n",
      "0   3930575  https://www.google.com/patents/US3930575   \n",
      "1   3930848  https://www.google.com/patents/US3930848   \n",
      "2   3930895  https://www.google.com/patents/US3930895   \n",
      "3   3930899  https://www.google.com/patents/US3930899   \n",
      "4   3930904  https://www.google.com/patents/US3930904   \n",
      "\n",
      "                                               title issue_date      date  \\\n",
      "0  Method for a surface treatment of an iron, fer...     1/6/76  6-Jan-76   \n",
      "1          High temperature low density cobalt alloy     1/6/76  6-Jan-76   \n",
      "2         Special magnesium-manganese aluminum alloy     1/6/76  6-Jan-76   \n",
      "3  Method of spraying molybdenum on aluminum or a...     1/6/76  6-Jan-76   \n",
      "4        Nickel-iron-chromium alloy wrought products     1/6/76  6-Jan-76   \n",
      "\n",
      "   num_inventor  num_pc  num_npc  num_rb  num_class  num_le  \n",
      "0             3       6        2       2          5       0  \n",
      "1             1       1        0       0          5       0  \n",
      "2             2       7        0      35         11       0  \n",
      "3             3       5        0       3         15       0  \n",
      "4             3       7        0       8          5       0  \n"
     ]
    }
   ],
   "source": [
    "import numpy as np\n",
    "import pandas as pd\n",
    "\n",
    "df_patents = pd.read_csv('/Users/stevehansen/Desktop/output_alloy_data_total.csv',encoding='latin1')\n",
    "\n",
    "\n",
    "# Drop unwanted columns \n",
    "\n",
    "df_patents = df_patents.drop(['Unnamed: 0'], axis=1)\n",
    "df_patents = df_patents.drop(['num_patent'], axis=1)\n",
    "\n",
    "\n",
    "# Revers the order of the dataframe. \n",
    "df_patents = df_patents.iloc[::-1]\n",
    "\n",
    "# Renumber the index so that the plots are numbered correctly. \n",
    "\n",
    "df_patents = df_patents.reset_index()\n",
    "del df_patents['index']\n",
    "\n",
    "print (df_patents.head(5))       # Looks okay.\n"
   ]
  },
  {
   "cell_type": "markdown",
   "metadata": {},
   "source": [
    "### Save as df_patents."
   ]
  },
  {
   "cell_type": "code",
   "execution_count": 2,
   "metadata": {
    "collapsed": false
   },
   "outputs": [
    {
     "name": "stdout",
     "output_type": "stream",
     "text": [
      "<class 'pandas.core.frame.DataFrame'>\n",
      "RangeIndex: 10137 entries, 0 to 10136\n",
      "Data columns (total 11 columns):\n",
      "patent_no       10137 non-null object\n",
      "url             10137 non-null object\n",
      "title           10137 non-null object\n",
      "issue_date      10137 non-null object\n",
      "date            10137 non-null object\n",
      "num_inventor    10137 non-null int64\n",
      "num_pc          10137 non-null int64\n",
      "num_npc         10137 non-null int64\n",
      "num_rb          10137 non-null int64\n",
      "num_class       10137 non-null int64\n",
      "num_le          10137 non-null int64\n",
      "dtypes: int64(6), object(5)\n",
      "memory usage: 871.2+ KB\n"
     ]
    }
   ],
   "source": [
    "df_patents.info()"
   ]
  },
  {
   "cell_type": "code",
   "execution_count": 65,
   "metadata": {
    "collapsed": false
   },
   "outputs": [
    {
     "name": "stdout",
     "output_type": "stream",
     "text": [
      "     patent_no                                       url  \\\n",
      "1921   4665906  https://www.google.com/patents/US4665906   \n",
      "3487   5190546  https://www.google.com/patents/US5190546   \n",
      "4518   5597378  https://www.google.com/patents/US5597378   \n",
      "2932   4984581  https://www.google.com/patents/US4984581   \n",
      "3160   5067957  https://www.google.com/patents/US5067957   \n",
      "2567   4864824  https://www.google.com/patents/US4864824   \n",
      "3136   5061914  https://www.google.com/patents/US5061914   \n",
      "5070   5888201  https://www.google.com/patents/US5888201   \n",
      "4413   5545210  https://www.google.com/patents/US5545210   \n",
      "5564   6139510  https://www.google.com/patents/US6139510   \n",
      "\n",
      "                                                  title issue_date       date  \\\n",
      "1921   Medical devices incorporating sim alloy elements    5/19/87  19-May-87   \n",
      "3487   Medical devices incorporating SIM alloy elements     3/2/93   2-Mar-93   \n",
      "4518   Medical devices incorporating SIM alloy elements    1/28/97  28-Jan-97   \n",
      "2932   Flexible guide having two-way shape memory alloy    1/15/91  15-Jan-91   \n",
      "3160  Method of inserting medical devices incorporat...   11/26/91  26-Nov-91   \n",
      "2567  Thin film shape memory alloy and method for pr...    9/12/89  12-Sep-89   \n",
      "3136                  Shape-memory alloy micro-actuator   10/29/91  29-Oct-91   \n",
      "5070                Titanium alloy self-expanding stent    3/30/99  30-Mar-99   \n",
      "4413  Method of implanting a permanent shape memory ...    8/13/96  13-Aug-96   \n",
      "5564                      Super elastic alloy guidewire   10/31/00  31-Oct-00   \n",
      "\n",
      "      num_inventor  num_pc  num_npc  num_rb  num_class  num_le  \n",
      "1921             1      12        2    2341         38       4  \n",
      "3487             1      82       35    1045         47       4  \n",
      "4518             1      84       54     918         41       6  \n",
      "2932             1      31        4     839         15       8  \n",
      "3160             1      74       20     797         47       6  \n",
      "2567             3       2        0     752         17       4  \n",
      "3136             2       1        0     493         15       7  \n",
      "5070             3      27       25     490         17       4  \n",
      "4413             2      53        8     487         10       6  \n",
      "5564             1      65        0     472         17       4  \n"
     ]
    }
   ],
   "source": [
    "df_patents = df_patents.sort_values(by=['num_rb'], ascending=[False])\n",
    "print (df_patents.head(10))"
   ]
  },
  {
   "cell_type": "markdown",
   "metadata": {},
   "source": [
    "### df_pat05 is the top 5% of cited patents. "
   ]
  },
  {
   "cell_type": "code",
   "execution_count": 4,
   "metadata": {
    "collapsed": false
   },
   "outputs": [
    {
     "name": "stdout",
     "output_type": "stream",
     "text": [
      "     patent_no                                       url  \\\n",
      "1921   4665906  https://www.google.com/patents/US4665906   \n",
      "3487   5190546  https://www.google.com/patents/US5190546   \n",
      "4518   5597378  https://www.google.com/patents/US5597378   \n",
      "2932   4984581  https://www.google.com/patents/US4984581   \n",
      "3160   5067957  https://www.google.com/patents/US5067957   \n",
      "2567   4864824  https://www.google.com/patents/US4864824   \n",
      "3136   5061914  https://www.google.com/patents/US5061914   \n",
      "5070   5888201  https://www.google.com/patents/US5888201   \n",
      "4413   5545210  https://www.google.com/patents/US5545210   \n",
      "5564   6139510  https://www.google.com/patents/US6139510   \n",
      "\n",
      "                                                  title issue_date       date  \\\n",
      "1921   Medical devices incorporating sim alloy elements    5/19/87  19-May-87   \n",
      "3487   Medical devices incorporating SIM alloy elements     3/2/93   2-Mar-93   \n",
      "4518   Medical devices incorporating SIM alloy elements    1/28/97  28-Jan-97   \n",
      "2932   Flexible guide having two-way shape memory alloy    1/15/91  15-Jan-91   \n",
      "3160  Method of inserting medical devices incorporat...   11/26/91  26-Nov-91   \n",
      "2567  Thin film shape memory alloy and method for pr...    9/12/89  12-Sep-89   \n",
      "3136                  Shape-memory alloy micro-actuator   10/29/91  29-Oct-91   \n",
      "5070                Titanium alloy self-expanding stent    3/30/99  30-Mar-99   \n",
      "4413  Method of implanting a permanent shape memory ...    8/13/96  13-Aug-96   \n",
      "5564                      Super elastic alloy guidewire   10/31/00  31-Oct-00   \n",
      "\n",
      "      num_inventor  num_pc  num_npc  num_rb  num_class  num_le  \n",
      "1921             1      12        2    2341         38       4  \n",
      "3487             1      82       35    1045         47       4  \n",
      "4518             1      84       54     918         41       6  \n",
      "2932             1      31        4     839         15       8  \n",
      "3160             1      74       20     797         47       6  \n",
      "2567             3       2        0     752         17       4  \n",
      "3136             2       1        0     493         15       7  \n",
      "5070             3      27       25     490         17       4  \n",
      "4413             2      53        8     487         10       6  \n",
      "5564             1      65        0     472         17       4  \n"
     ]
    }
   ],
   "source": [
    "df_pat05 = df_patents[df_patents.num_rb > df_patents.num_rb.quantile(.95)]\n",
    "print (df_pat05.head(10))\n"
   ]
  },
  {
   "cell_type": "markdown",
   "metadata": {},
   "source": [
    "### df_pat10 is the top 10% of cited patents."
   ]
  },
  {
   "cell_type": "code",
   "execution_count": 5,
   "metadata": {
    "collapsed": false
   },
   "outputs": [
    {
     "name": "stdout",
     "output_type": "stream",
     "text": [
      "     patent_no                                       url  \\\n",
      "1630   4560625  https://www.google.com/patents/US4560625   \n",
      "5516   6117204  https://www.google.com/patents/US6117204   \n",
      "2807   4943412  https://www.google.com/patents/US4943412   \n",
      "44     3948688  https://www.google.com/patents/US3948688   \n",
      "3557   5219678  https://www.google.com/patents/US5219678   \n",
      "945    4302256  https://www.google.com/patents/US4302256   \n",
      "2831   4952236  https://www.google.com/patents/US4952236   \n",
      "341    4070507  https://www.google.com/patents/US4070507   \n",
      "1651   4566177  https://www.google.com/patents/US4566177   \n",
      "5106   5902943  https://www.google.com/patents/US5902943   \n",
      "\n",
      "                                                  title issue_date       date  \\\n",
      "1630  Aluminum alloy composite materials for brazed ...   12/24/85  24-Dec-85   \n",
      "5516  Sintered titanium alloy material and process f...    9/12/00  12-Sep-00   \n",
      "2807       High strength alpha-beta titanium-base alloy    7/24/90  24-Jul-90   \n",
      "44                       Martensitic alloy conditioning     4/6/76   6-Apr-76   \n",
      "3557  Nickel-metal hydride secondary cell, and metho...    6/15/93  15-Jun-93   \n",
      "945   Method of improving mechanical properties of a...   11/24/81  24-Nov-81   \n",
      "2831  Method of making high strength, low modulus, d...    8/28/90  28-Aug-90   \n",
      "341   Platinum-rhodium-containing high temperature a...    1/24/78  24-Jan-78   \n",
      "1651  Formation of electromigration resistant alumin...    1/28/86  28-Jan-86   \n",
      "5106  Aluminium alloy powder blends and sintered alu...    5/11/99  11-May-99   \n",
      "\n",
      "      num_inventor  num_pc  num_npc  num_rb  num_class  num_le  \n",
      "1630             5       9        0      35         25       4  \n",
      "5516             3       7        0      35         11       4  \n",
      "2807             2       2        0      35          5       9  \n",
      "44               1       1        0      35         10       0  \n",
      "3557             3      16       13      35         33       4  \n",
      "945              1       6        0      35         13       1  \n",
      "2831             3       9        0      35         12       8  \n",
      "341              2       9        0      35         17       1  \n",
      "1651             2       5        0      35         25       6  \n",
      "5106             3      14        4      35         18       5  \n"
     ]
    }
   ],
   "source": [
    "df_pat10 = df_patents[df_patents.num_rb > df_patents.num_rb.quantile(.90)]\n",
    "print (df_pat10.tail(10))"
   ]
  },
  {
   "cell_type": "code",
   "execution_count": 53,
   "metadata": {
    "collapsed": false
   },
   "outputs": [
    {
     "data": {
      "text/plain": [
       "502"
      ]
     },
     "execution_count": 53,
     "metadata": {},
     "output_type": "execute_result"
    }
   ],
   "source": [
    "len (df_pat05)"
   ]
  },
  {
   "cell_type": "markdown",
   "metadata": {},
   "source": [
    "### Do short EDA on highly cited patents. "
   ]
  },
  {
   "cell_type": "code",
   "execution_count": 7,
   "metadata": {
    "collapsed": false
   },
   "outputs": [
    {
     "name": "stderr",
     "output_type": "stream",
     "text": [
      "/Library/Frameworks/Python.framework/Versions/2.7/lib/python2.7/site-packages/IPython/html.py:14: ShimWarning: The `IPython.html` package has been deprecated since IPython 4.0. You should import from `notebook` instead. `IPython.html.widgets` has moved to `ipywidgets`.\n",
      "  \"`IPython.html.widgets` has moved to `ipywidgets`.\", ShimWarning)\n"
     ]
    },
    {
     "data": {
      "image/png": "[encoded data removed]",
      "text/plain": [
       "<matplotlib.figure.Figure at 0x10b2768d0>"
      ]
     },
     "metadata": {},
     "output_type": "display_data"
    },
    {
     "data": {
      "image/png": "[encoded data removed]",
      "text/plain": [
       "<matplotlib.figure.Figure at 0x107b113d0>"
      ]
     },
     "metadata": {},
     "output_type": "display_data"
    },
    {
     "data": {
      "image/png": "[encoded data removed]",
      "text/plain": [
       "<matplotlib.figure.Figure at 0x10d5bdfd0>"
      ]
     },
     "metadata": {},
     "output_type": "display_data"
    },
    {
     "data": {
      "image/png": "[encoded data removed]",
      "text/plain": [
       "<matplotlib.figure.Figure at 0x1111e2890>"
      ]
     },
     "metadata": {},
     "output_type": "display_data"
    },
    {
     "data": {
      "image/png": "[encoded data removed]",
      "text/plain": [
       "<matplotlib.figure.Figure at 0x111346b10>"
      ]
     },
     "metadata": {},
     "output_type": "display_data"
    },
    {
     "data": {
      "image/png": "[encoded data removed]",
      "text/plain": [
       "<matplotlib.figure.Figure at 0x11147c190>"
      ]
     },
     "metadata": {},
     "output_type": "display_data"
    }
   ],
   "source": [
    "import matplotlib\n",
    "import matplotlib.pyplot as plt\n",
    "import seaborn as sns\n",
    "%matplotlib inline\n",
    "\n",
    "num_inventors = []\n",
    "num_pcs = []\n",
    "num_npcs = []\n",
    "num_rbs = []\n",
    "num_classes = []\n",
    "num_les = []\n",
    "\n",
    "# Number of patent citations, num_pc. \n",
    "value  = (df_pat05['num_pc'])\n",
    "num_pcs.append(value)  \n",
    "    \n",
    "# Number of forward citations, num_rb.\n",
    "value  = (df_pat05['num_rb'])\n",
    "num_rbs.append(value)\n",
    "\n",
    "# Number of inventors, num_inventor.\n",
    "value  = (df_pat05['num_inventor'])\n",
    "num_inventors.append(value)\n",
    "\n",
    "# Number of non-patent citations, num_npc.\n",
    "value  = (df_pat05['num_npc'])\n",
    "num_npcs.append(value)\n",
    "\n",
    "# Number of legal events, num_le.\n",
    "value  = (df_pat05['num_le'])\n",
    "num_les.append(value)\n",
    "\n",
    "# Number of classifications, num_class\n",
    "value  = (df_pat05['num_class'])\n",
    "num_classes.append(value)\n",
    "\n",
    "# Plots \n",
    "\n",
    "# No. of forward patent citations vs. No. of back patent references. \n",
    "\n",
    "plt.scatter(num_pcs, num_rbs, marker = 'o', color = 'green', s = 11 )\n",
    "plt.xlabel(\"No. of Patent Citations \")\n",
    "plt.ylabel(\"No. of Forward Citations\")\n",
    "plt.style.use('bmh')\n",
    "ax = plt.axes()\n",
    "ax.set(xlim=(-2,1000), ylim = (-5,2500))\n",
    "plt.savefig('rbs-vw-pcs.png',dpi=600)\n",
    "\n",
    "plt.show()\n",
    "\n",
    "\n",
    "# Number of forward citations vs. number of (back) non-patent citations. \n",
    "\n",
    "plt.scatter(num_npcs, num_rbs,  marker = 'o', color = 'green', s = 11)\n",
    "plt.xlabel(\"No. of Non-Patents Citations\")\n",
    "plt.ylabel(\"No. of Forward Citations\")\n",
    "\n",
    "plt.style.use('bmh')\n",
    "ax = plt.axes()\n",
    "ax.set(xlim=(-4,240), ylim = (-50,2500))\n",
    "plt.savefig('rbs-vs-npcs.png',dpi=800)\n",
    "plt.show()\n",
    "\n",
    "\n",
    "# Number of inventors vs. number of forward citations. \n",
    "\n",
    "plt.scatter(num_inventors, num_rbs,  marker = 'o', color = 'green', s = 13 )\n",
    "plt.xlabel(\"No. of Inventors\")\n",
    "plt.ylabel(\"No. of Forward Citations\")\n",
    "\n",
    "plt.style.use('bmh')\n",
    "ax = plt.axes()\n",
    "ax.set(xlim=(0,25), ylim = (-5,2500))\n",
    "plt.savefig('rbs-vs-inventors.png',dpi=600)\n",
    "\n",
    "plt.show()\n",
    "\n",
    "\n",
    "# Plot the number forward references vs. number of classifications. \n",
    "\n",
    "plt.scatter(num_classes, num_rbs,  marker = 'o', color = 'green', s = 15 )\n",
    "plt.xlabel(\"No. of Classifications\")\n",
    "plt.ylabel(\"No. of Forward Citations\")\n",
    "\n",
    "plt.style.use('bmh')\n",
    "ax = plt.axes()\n",
    "ax.set(xlim=(-5,150), ylim = (-50,2500))\n",
    "plt.savefig('rbs-vs-classes.png',dpi=600)\n",
    "plt.show()\n",
    "\n",
    "\n",
    "# Plot the number of forward citations vs. number of legal events.  \n",
    "\n",
    "plt.scatter(num_les, num_rbs,  marker = 'o', color = 'green', s = 15 )\n",
    "plt.xlabel(\"No. of Legal Events\")\n",
    "plt.ylabel(\"No. of Forward Citations\")\n",
    "\n",
    "plt.style.use('bmh')\n",
    "ax = plt.axes()\n",
    "ax.set(xlim=(-1,25), ylim = (0,2500))\n",
    "plt.savefig('rbs-vs-legal_events.png',dpi=600)\n",
    "plt.show()\n",
    "\n",
    "\n",
    "# Plot the number of Patent Citation versus Non-Patent Citations. \n",
    "\n",
    "plt.scatter(num_pcs, num_npcs,  marker = 'o', color = 'green', s = 15 )\n",
    "plt.xlabel(\"No. of Patent Citations \")\n",
    "plt.ylabel(\"Number of Non-Patent Citations\")\n",
    "\n",
    "plt.style.use('bmh')\n",
    "ax = plt.axes()\n",
    "ax.set(xlim=(-20,1200), ylim = (-10,250))\n",
    "\n",
    "plt.show()\n"
   ]
  },
  {
   "cell_type": "markdown",
   "metadata": {},
   "source": [
    "### Check correlation matrix of highly cited patents."
   ]
  },
  {
   "cell_type": "code",
   "execution_count": 8,
   "metadata": {
    "collapsed": false
   },
   "outputs": [
    {
     "data": {
      "text/html": [
       "<div>\n",
       "<table border=\"1\" class=\"dataframe\">\n",
       "  <thead>\n",
       "    <tr style=\"text-align: right;\">\n",
       "      <th></th>\n",
       "      <th>num_inventor</th>\n",
       "      <th>num_pc</th>\n",
       "      <th>num_npc</th>\n",
       "      <th>num_rb</th>\n",
       "      <th>num_class</th>\n",
       "      <th>num_le</th>\n",
       "    </tr>\n",
       "  </thead>\n",
       "  <tbody>\n",
       "    <tr>\n",
       "      <th>num_inventor</th>\n",
       "      <td>1.000000</td>\n",
       "      <td>0.022383</td>\n",
       "      <td>0.050729</td>\n",
       "      <td>-0.108912</td>\n",
       "      <td>0.036941</td>\n",
       "      <td>-0.029828</td>\n",
       "    </tr>\n",
       "    <tr>\n",
       "      <th>num_pc</th>\n",
       "      <td>0.022383</td>\n",
       "      <td>1.000000</td>\n",
       "      <td>0.769702</td>\n",
       "      <td>0.081991</td>\n",
       "      <td>0.070929</td>\n",
       "      <td>-0.008262</td>\n",
       "    </tr>\n",
       "    <tr>\n",
       "      <th>num_npc</th>\n",
       "      <td>0.050729</td>\n",
       "      <td>0.769702</td>\n",
       "      <td>1.000000</td>\n",
       "      <td>0.104706</td>\n",
       "      <td>0.097511</td>\n",
       "      <td>-0.011268</td>\n",
       "    </tr>\n",
       "    <tr>\n",
       "      <th>num_rb</th>\n",
       "      <td>-0.108912</td>\n",
       "      <td>0.081991</td>\n",
       "      <td>0.104706</td>\n",
       "      <td>1.000000</td>\n",
       "      <td>0.110091</td>\n",
       "      <td>0.047018</td>\n",
       "    </tr>\n",
       "    <tr>\n",
       "      <th>num_class</th>\n",
       "      <td>0.036941</td>\n",
       "      <td>0.070929</td>\n",
       "      <td>0.097511</td>\n",
       "      <td>0.110091</td>\n",
       "      <td>1.000000</td>\n",
       "      <td>0.012637</td>\n",
       "    </tr>\n",
       "    <tr>\n",
       "      <th>num_le</th>\n",
       "      <td>-0.029828</td>\n",
       "      <td>-0.008262</td>\n",
       "      <td>-0.011268</td>\n",
       "      <td>0.047018</td>\n",
       "      <td>0.012637</td>\n",
       "      <td>1.000000</td>\n",
       "    </tr>\n",
       "  </tbody>\n",
       "</table>\n",
       "</div>"
      ],
      "text/plain": [
       "              num_inventor    num_pc   num_npc    num_rb  num_class    num_le\n",
       "num_inventor      1.000000  0.022383  0.050729 -0.108912   0.036941 -0.029828\n",
       "num_pc            0.022383  1.000000  0.769702  0.081991   0.070929 -0.008262\n",
       "num_npc           0.050729  0.769702  1.000000  0.104706   0.097511 -0.011268\n",
       "num_rb           -0.108912  0.081991  0.104706  1.000000   0.110091  0.047018\n",
       "num_class         0.036941  0.070929  0.097511  0.110091   1.000000  0.012637\n",
       "num_le           -0.029828 -0.008262 -0.011268  0.047018   0.012637  1.000000"
      ]
     },
     "execution_count": 8,
     "metadata": {},
     "output_type": "execute_result"
    }
   ],
   "source": [
    "df_pat05.corr()"
   ]
  },
  {
   "cell_type": "code",
   "execution_count": 9,
   "metadata": {
    "collapsed": false
   },
   "outputs": [
    {
     "data": {
      "text/html": [
       "<div>\n",
       "<table border=\"1\" class=\"dataframe\">\n",
       "  <thead>\n",
       "    <tr style=\"text-align: right;\">\n",
       "      <th></th>\n",
       "      <th>num_inventor</th>\n",
       "      <th>num_pc</th>\n",
       "      <th>num_npc</th>\n",
       "      <th>num_rb</th>\n",
       "      <th>num_class</th>\n",
       "      <th>num_le</th>\n",
       "    </tr>\n",
       "  </thead>\n",
       "  <tbody>\n",
       "    <tr>\n",
       "      <th>num_inventor</th>\n",
       "      <td>1.000000</td>\n",
       "      <td>0.032197</td>\n",
       "      <td>0.056563</td>\n",
       "      <td>-0.077596</td>\n",
       "      <td>0.032142</td>\n",
       "      <td>0.021648</td>\n",
       "    </tr>\n",
       "    <tr>\n",
       "      <th>num_pc</th>\n",
       "      <td>0.032197</td>\n",
       "      <td>1.000000</td>\n",
       "      <td>0.728256</td>\n",
       "      <td>0.093338</td>\n",
       "      <td>0.086983</td>\n",
       "      <td>0.016997</td>\n",
       "    </tr>\n",
       "    <tr>\n",
       "      <th>num_npc</th>\n",
       "      <td>0.056563</td>\n",
       "      <td>0.728256</td>\n",
       "      <td>1.000000</td>\n",
       "      <td>0.123210</td>\n",
       "      <td>0.101443</td>\n",
       "      <td>0.033708</td>\n",
       "    </tr>\n",
       "    <tr>\n",
       "      <th>num_rb</th>\n",
       "      <td>-0.077596</td>\n",
       "      <td>0.093338</td>\n",
       "      <td>0.123210</td>\n",
       "      <td>1.000000</td>\n",
       "      <td>0.127755</td>\n",
       "      <td>0.052303</td>\n",
       "    </tr>\n",
       "    <tr>\n",
       "      <th>num_class</th>\n",
       "      <td>0.032142</td>\n",
       "      <td>0.086983</td>\n",
       "      <td>0.101443</td>\n",
       "      <td>0.127755</td>\n",
       "      <td>1.000000</td>\n",
       "      <td>0.012278</td>\n",
       "    </tr>\n",
       "    <tr>\n",
       "      <th>num_le</th>\n",
       "      <td>0.021648</td>\n",
       "      <td>0.016997</td>\n",
       "      <td>0.033708</td>\n",
       "      <td>0.052303</td>\n",
       "      <td>0.012278</td>\n",
       "      <td>1.000000</td>\n",
       "    </tr>\n",
       "  </tbody>\n",
       "</table>\n",
       "</div>"
      ],
      "text/plain": [
       "              num_inventor    num_pc   num_npc    num_rb  num_class    num_le\n",
       "num_inventor      1.000000  0.032197  0.056563 -0.077596   0.032142  0.021648\n",
       "num_pc            0.032197  1.000000  0.728256  0.093338   0.086983  0.016997\n",
       "num_npc           0.056563  0.728256  1.000000  0.123210   0.101443  0.033708\n",
       "num_rb           -0.077596  0.093338  0.123210  1.000000   0.127755  0.052303\n",
       "num_class         0.032142  0.086983  0.101443  0.127755   1.000000  0.012278\n",
       "num_le            0.021648  0.016997  0.033708  0.052303   0.012278  1.000000"
      ]
     },
     "execution_count": 9,
     "metadata": {},
     "output_type": "execute_result"
    }
   ],
   "source": [
    "df_pat10.corr()"
   ]
  },
  {
   "cell_type": "code",
   "execution_count": 10,
   "metadata": {
    "collapsed": false
   },
   "outputs": [
    {
     "data": {
      "text/html": [
       "<div>\n",
       "<table border=\"1\" class=\"dataframe\">\n",
       "  <thead>\n",
       "    <tr style=\"text-align: right;\">\n",
       "      <th></th>\n",
       "      <th>num_inventor</th>\n",
       "      <th>num_pc</th>\n",
       "      <th>num_npc</th>\n",
       "      <th>num_rb</th>\n",
       "      <th>num_class</th>\n",
       "      <th>num_le</th>\n",
       "    </tr>\n",
       "  </thead>\n",
       "  <tbody>\n",
       "    <tr>\n",
       "      <th>num_inventor</th>\n",
       "      <td>1.000000</td>\n",
       "      <td>0.027378</td>\n",
       "      <td>0.028617</td>\n",
       "      <td>-0.065869</td>\n",
       "      <td>0.053925</td>\n",
       "      <td>0.030852</td>\n",
       "    </tr>\n",
       "    <tr>\n",
       "      <th>num_pc</th>\n",
       "      <td>0.027378</td>\n",
       "      <td>1.000000</td>\n",
       "      <td>0.650254</td>\n",
       "      <td>0.098949</td>\n",
       "      <td>0.091335</td>\n",
       "      <td>0.038147</td>\n",
       "    </tr>\n",
       "    <tr>\n",
       "      <th>num_npc</th>\n",
       "      <td>0.028617</td>\n",
       "      <td>0.650254</td>\n",
       "      <td>1.000000</td>\n",
       "      <td>0.110863</td>\n",
       "      <td>0.091853</td>\n",
       "      <td>0.038607</td>\n",
       "    </tr>\n",
       "    <tr>\n",
       "      <th>num_rb</th>\n",
       "      <td>-0.065869</td>\n",
       "      <td>0.098949</td>\n",
       "      <td>0.110863</td>\n",
       "      <td>1.000000</td>\n",
       "      <td>0.130650</td>\n",
       "      <td>0.050232</td>\n",
       "    </tr>\n",
       "    <tr>\n",
       "      <th>num_class</th>\n",
       "      <td>0.053925</td>\n",
       "      <td>0.091335</td>\n",
       "      <td>0.091853</td>\n",
       "      <td>0.130650</td>\n",
       "      <td>1.000000</td>\n",
       "      <td>0.023507</td>\n",
       "    </tr>\n",
       "    <tr>\n",
       "      <th>num_le</th>\n",
       "      <td>0.030852</td>\n",
       "      <td>0.038147</td>\n",
       "      <td>0.038607</td>\n",
       "      <td>0.050232</td>\n",
       "      <td>0.023507</td>\n",
       "      <td>1.000000</td>\n",
       "    </tr>\n",
       "  </tbody>\n",
       "</table>\n",
       "</div>"
      ],
      "text/plain": [
       "              num_inventor    num_pc   num_npc    num_rb  num_class    num_le\n",
       "num_inventor      1.000000  0.027378  0.028617 -0.065869   0.053925  0.030852\n",
       "num_pc            0.027378  1.000000  0.650254  0.098949   0.091335  0.038147\n",
       "num_npc           0.028617  0.650254  1.000000  0.110863   0.091853  0.038607\n",
       "num_rb           -0.065869  0.098949  0.110863  1.000000   0.130650  0.050232\n",
       "num_class         0.053925  0.091335  0.091853  0.130650   1.000000  0.023507\n",
       "num_le            0.030852  0.038147  0.038607  0.050232   0.023507  1.000000"
      ]
     },
     "execution_count": 10,
     "metadata": {},
     "output_type": "execute_result"
    }
   ],
   "source": [
    "df_pat15 = df_patents[df_patents.num_rb > df_patents.num_rb.quantile(.85)]\n",
    "df_pat15.corr()"
   ]
  },
  {
   "cell_type": "raw",
   "metadata": {},
   "source": [
    "# Sum of correlations of df_pat15 with num_rb = 0.45\n",
    "# Sum of correlations of df_pat10 with num_rb = 0.47\n",
    "# Sum of correlations of df_pat05 with num_rb = 0.45   \n",
    "\n",
    "all of the these are better than the correlation with df_patents with num_rb, which is 0.31"
   ]
  },
  {
   "cell_type": "code",
   "execution_count": 11,
   "metadata": {
    "collapsed": false
   },
   "outputs": [
    {
     "data": {
      "text/html": [
       "<div>\n",
       "<table border=\"1\" class=\"dataframe\">\n",
       "  <thead>\n",
       "    <tr style=\"text-align: right;\">\n",
       "      <th></th>\n",
       "      <th>num_inventor</th>\n",
       "      <th>num_pc</th>\n",
       "      <th>num_npc</th>\n",
       "      <th>num_rb</th>\n",
       "      <th>num_class</th>\n",
       "      <th>num_le</th>\n",
       "    </tr>\n",
       "  </thead>\n",
       "  <tbody>\n",
       "    <tr>\n",
       "      <th>count</th>\n",
       "      <td>502.000000</td>\n",
       "      <td>502.000000</td>\n",
       "      <td>502.000000</td>\n",
       "      <td>502.000000</td>\n",
       "      <td>502.000000</td>\n",
       "      <td>502.000000</td>\n",
       "    </tr>\n",
       "    <tr>\n",
       "      <th>mean</th>\n",
       "      <td>2.719124</td>\n",
       "      <td>14.796813</td>\n",
       "      <td>4.374502</td>\n",
       "      <td>117.750996</td>\n",
       "      <td>21.025896</td>\n",
       "      <td>5.378486</td>\n",
       "    </tr>\n",
       "    <tr>\n",
       "      <th>std</th>\n",
       "      <td>1.685559</td>\n",
       "      <td>45.517062</td>\n",
       "      <td>13.067733</td>\n",
       "      <td>146.806646</td>\n",
       "      <td>13.259927</td>\n",
       "      <td>2.645407</td>\n",
       "    </tr>\n",
       "    <tr>\n",
       "      <th>min</th>\n",
       "      <td>1.000000</td>\n",
       "      <td>0.000000</td>\n",
       "      <td>0.000000</td>\n",
       "      <td>54.000000</td>\n",
       "      <td>4.000000</td>\n",
       "      <td>0.000000</td>\n",
       "    </tr>\n",
       "    <tr>\n",
       "      <th>25%</th>\n",
       "      <td>1.000000</td>\n",
       "      <td>5.000000</td>\n",
       "      <td>0.000000</td>\n",
       "      <td>63.000000</td>\n",
       "      <td>12.000000</td>\n",
       "      <td>4.000000</td>\n",
       "    </tr>\n",
       "    <tr>\n",
       "      <th>50%</th>\n",
       "      <td>2.000000</td>\n",
       "      <td>9.000000</td>\n",
       "      <td>0.000000</td>\n",
       "      <td>78.000000</td>\n",
       "      <td>18.000000</td>\n",
       "      <td>5.000000</td>\n",
       "    </tr>\n",
       "    <tr>\n",
       "      <th>75%</th>\n",
       "      <td>3.000000</td>\n",
       "      <td>15.000000</td>\n",
       "      <td>4.000000</td>\n",
       "      <td>114.000000</td>\n",
       "      <td>26.000000</td>\n",
       "      <td>7.000000</td>\n",
       "    </tr>\n",
       "    <tr>\n",
       "      <th>max</th>\n",
       "      <td>11.000000</td>\n",
       "      <td>981.000000</td>\n",
       "      <td>218.000000</td>\n",
       "      <td>2341.000000</td>\n",
       "      <td>116.000000</td>\n",
       "      <td>16.000000</td>\n",
       "    </tr>\n",
       "  </tbody>\n",
       "</table>\n",
       "</div>"
      ],
      "text/plain": [
       "       num_inventor      num_pc     num_npc       num_rb   num_class  \\\n",
       "count    502.000000  502.000000  502.000000   502.000000  502.000000   \n",
       "mean       2.719124   14.796813    4.374502   117.750996   21.025896   \n",
       "std        1.685559   45.517062   13.067733   146.806646   13.259927   \n",
       "min        1.000000    0.000000    0.000000    54.000000    4.000000   \n",
       "25%        1.000000    5.000000    0.000000    63.000000   12.000000   \n",
       "50%        2.000000    9.000000    0.000000    78.000000   18.000000   \n",
       "75%        3.000000   15.000000    4.000000   114.000000   26.000000   \n",
       "max       11.000000  981.000000  218.000000  2341.000000  116.000000   \n",
       "\n",
       "           num_le  \n",
       "count  502.000000  \n",
       "mean     5.378486  \n",
       "std      2.645407  \n",
       "min      0.000000  \n",
       "25%      4.000000  \n",
       "50%      5.000000  \n",
       "75%      7.000000  \n",
       "max     16.000000  "
      ]
     },
     "execution_count": 11,
     "metadata": {},
     "output_type": "execute_result"
    }
   ],
   "source": [
    "df_pat05.describe()"
   ]
  },
  {
   "cell_type": "markdown",
   "metadata": {},
   "source": [
    "### Begin natural language processing on titles. "
   ]
  },
  {
   "cell_type": "code",
   "execution_count": 12,
   "metadata": {
    "collapsed": false
   },
   "outputs": [
    {
     "name": "stdout",
     "output_type": "stream",
     "text": [
      "1921     Medical devices incorporating sim alloy elements\n",
      "3487     Medical devices incorporating SIM alloy elements\n",
      "4518     Medical devices incorporating SIM alloy elements\n",
      "2932     Flexible guide having two-way shape memory alloy\n",
      "3160    Method of inserting medical devices incorporat...\n",
      "2567    Thin film shape memory alloy and method for pr...\n",
      "3136                    Shape-memory alloy micro-actuator\n",
      "5070                  Titanium alloy self-expanding stent\n",
      "4413    Method of implanting a permanent shape memory ...\n",
      "5564                        Super elastic alloy guidewire\n",
      "5076    Cobalt-chromium-molybdenum alloy stent and ste...\n",
      "2773    Apparatus for bending an insertion section of ...\n",
      "3167    Catheter guidewire with pseudo elastic shape m...\n",
      "4457             Two way shape memory alloy medical stent\n",
      "2652    Method of fabricating n-type and p-type microc...\n",
      "Name: title, dtype: object\n"
     ]
    }
   ],
   "source": [
    "df_titles = df_pat05['title']\n",
    "print (df_titles.head(15))"
   ]
  },
  {
   "cell_type": "markdown",
   "metadata": {},
   "source": [
    "### Transform titles in dataframe into a list, call the list 'document1'."
   ]
  },
  {
   "cell_type": "code",
   "execution_count": 14,
   "metadata": {
    "collapsed": false
   },
   "outputs": [
    {
     "name": "stdout",
     "output_type": "stream",
     "text": [
      "[u'medical', u'devices', u'incorporating', u'sim', u'alloy', u'elements', u'medical', u'devices', u'incorporating', u'sim', u'alloy', u'elements', u'medical', u'devices', u'incorporating', u'sim', u'alloy', u'elements', u'flexible', u'guide', u'having', u'two-way', u'shape', u'memory', u'alloy', u'method', u'of', u'inserting', u'medical', u'devices', u'incorporating', u'sim', u'alloy', u'elements', u'thin', u'film', u'shape', u'memory', u'alloy', u'and', u'method', u'for', u'producing', u'shape-memory', u'alloy', u'micro-actuator', u'titanium', u'alloy', u'self-expanding', u'stent', u'method', u'of', u'implanting', u'a', u'permanent', u'shape', u'memory', u'alloy', u'stent', u'super', u'elastic', u'alloy', u'guidewire', u'cobalt-chromium-molybdenum', u'alloy', u'stent', u'and', u'stent-graft', u'apparatus', u'for', u'bending', u'an', u'insertion', u'section', u'of', u'an', u'endoscope', u'using', u'a', u'shape', u'memory', u'alloy', u'catheter', u'guidewire', u'with', u'pseudo', u'elastic', u'shape', u'memory', u'alloy', u'two', u'way', u'shape', u'memory', u'alloy', u'medical', u'stent', u'method', u'of', u'fabricating', u'n-type', u'and', u'p-type', u'microcrystalline', u'semiconductor', u'alloy', u'material', u'including', u'band', u'gap', u'widening', u'elements', u'medical', u'devices', u'incorporating', u'sim', u'alloy', u'elements', u'incremental', u'motion', u'pump', u'mechanisms', u'powered', u'by', u'shape', u'memory', u'alloy', u'wire', u'or', u'the', u'like', u'device', u'and', u'method', u'employing', u'shape', u'memory', u'alloy', u'device', u'and', u'method', u'for', u'selectively', u'preventing', u'the', u'locking', u'of', u'a', u'shape-memory', u'alloy', u'coupling', u'system', u'catheter', u'apparatus', u'and', u'method', u'using', u'a', u'shape-memory', u'alloy', u'cuff', u'for', u'creating', u'a', u'bypass', u'graft', u'in-vivo', u'platinum', u'group', u'metal', u'alloy', u'catalysts', u'for', u'hydrogenation', u'of', u'carboxylic', u'acids', u'and', u'their', u'anhydrides', u'to', u'alcohols', u'and/or', u'esters', u'surgical', u'fastening', u'clip', u'formed', u'of', u'a', u'shape', u'memory', u'alloy,', u'a', u'method', u'of', u'making', u'such', u'a', u'clip', u'and', u'a', u'method', u'of', u'using', u'such', u'a', u'clip', u'hollow', u'metal', u'alloy', u'wood-type', u'golf', u'head', u'implantable', u'medical', u'devices', u'of', u'shape', u'memory', u'alloy', u'shape', u'memory', u'alloy', u'staple', u'shape', u'memory', u'alloy', u'film', u'actuated', u'microvalve', u'shape', u'memory', u'alloy', u'microactuator', u'having', u'an', u'electrostatic', u'force', u'and', u'heating', u'means', u'active', u'matrix', u'structure', u'for', u'liquid', u'crystal', u'display', u'elements', u'wherein', u'each', u'of', u'the', u'gate/data', u'lines', u'includes', u'at', u'least', u'a', u'molybdenum-base', u'alloy', u'layer', u'containing', u'0.5', u'to', u'10', u'wt.', u'%', u'of', u'chromium', u'composite', u'super-elastic', u'alloy', u'braid', u'reinforced', u'catheter', u'p', u'and', u'n-type', u'microcrystalline', u'semiconductor', u'alloy', u'material', u'including', u'band', u'gap', u'widening', u'elements,', u'devices', u'utilizing', u'same', u'heater', u'utilizing', u'copper-nickel', u'alloy', u'core', u'method', u'of', u'forming', u'copper/copper', u'alloy', u'interconnection', u'with', u'reduced', u'electromigration', u'high', u'temperature', u'multi-layered', u'alloy', u'heater', u'assembly', u'and', u'related', u'methods', u'magnetorheological', u'materials', u'based', u'on', u'alloy', u'particles', u'implantable', u'limb', u'lengthening', u'nail', u'driven', u'by', u'a', u'shape', u'memory', u'alloy', u'catheter', u'apparatus', u'having', u'an', u'improved', u'shape-memory', u'alloy', u'cuff', u'and', u'inflatable', u'on-demand', u'balloon', u'for', u'creating', u'a', u'bypass', u'graft', u'in-vivo', u'nickel/titanium/vanadium', u'shape', u'memory', u'alloy', u'method', u'and', u'apparatus', u'for', u'fabrication', u'of', u'cobalt', u'alloy', u'composite', u'inserts', u'solid', u'state', u'thin', u'film', u'battery', u'having', u'a', u'high', u'temperature', u'lithium', u'alloy', u'anode', u'structure', u'and', u'fabrication', u'process', u'for', u'an', u'aluminum', u'alloy', u'junction', u'self-aligned', u'back', u'contact', u'silicon', u'solar', u'cell', u'sputtered', u'films', u'of', u'metal', u'alloy', u'oxides', u'and', u'method', u'of', u'preparation', u'thereof', u'shape', u'memory', u'alloy', u'actuators', u'and', u'control', u'methods', u'catheter', u'apparatus', u'employing', u'shape', u'memory', u'alloy', u'structures', u'ultrasonic', u'angioplasty', u'device', u'incorporating', u'an', u'ultrasound', u'transmission', u'member', u'made', u'at', u'least', u'partially', u'from', u'a', u'superelastic', u'metal', u'alloy', u'low', u'melting', u'point', u'copper-manganese-zinc', u'alloy', u'for', u'infiltration', u'binder', u'in', u'matrix', u'body', u'rock', u'drill', u'bits', u'shape', u'memory', u'alloy', u'staple', u'method', u'of', u'making', u'a', u'superconducting', u'fullerene', u'composition', u'by', u'reacting', u'a', u'fullerene', u'with', u'an', u'alloy', u'containing', u'alkali', u'metal', u'shape', u'memory', u'alloy', u'internal', u'linear', u'actuator', u'for', u'use', u'in', u'orthopedic', u'correction', u'porous', u'nickel-titanium', u'alloy', u'article', u'use', u'of', u'a', u'shape', u'memory', u'alloy', u'to', u'modify', u'the', u'disposition', u'of', u'a', u'device', u'within', u'an', u'implantable', u'medical', u'probe', u'joint,', u'a', u'laminate,', u'and', u'a', u'method', u'of', u'preparing', u'a', u'nickel-titanium', u'alloy', u'member', u'surface', u'for', u'bonding', u'to', u'another', u'layer', u'of', u'metal', u'titanium', u'molybdenum', u'hafnium', u'alloy', u'semiconductor', u'device', u'having', u'cobalt', u'alloy', u'film', u'with', u'boron', u'titanium', u'alloy', u'blade', u'coupler', u'coated', u'with', u'nickel-chrome', u'for', u'ultrasonic', u'scalpel', u'ultrasonic', u'angioplasty', u'device', u'incorporating', u'all', u'ultrasound', u'transmission', u'member', u'made', u'at', u'least', u'partially', u'from', u'a', u'superlastic', u'metal', u'alloy', u'electrical', u'connector', u'using', u'shape', u'memory', u'alloy', u'coil', u'springs', u'shape', u'memory', u'alloy', u'wire', u'driven', u'positive', u'displacement', u'micropump', u'with', u'pulsatile', u'output', u'shape', u'memory', u'alloy', u'fastener', u'encapsulated', u'lithium', u'alloy', u'electrodes', u'having', u'barrier', u'layers', u'nickel-based', u'amorphous', u'alloy', u'compositions', u'drive', u'unit', u'using', u'shape', u'memory', u'alloy', u'steerable', u'memory', u'alloy', u'guide', u'wires', u'aluminum-palladium', u'alloy', u'for', u'initiation', u'of', u'electroless', u'plating', u'steerable', u'memory', u'alloy', u'guide', u'wires', u'chip', u'to', u'wiring', u'interface', u'with', u'single', u'metal', u'alloy', u'layer', u'applied', u'to', u'surface', u'of', u'copper', u'interconnect', u'copper', u'alloy', u'seed', u'layer', u'for', u'copper', u'metallization', u'in', u'an', u'integrated', u'circuit', u'high', u'strength', u'medical', u'devices', u'of', u'shape', u'memory', u'alloy', u'alloy', u'powder', u'mixture', u'for', u'brazing', u'of', u'superalloy', u'articles', u'linear', u'motion', u'actuator', u'utilizing', u'extended', u'shape', u'memory', u'alloy', u'member', u'copper', u'alloy', u'electroplating', u'bath', u'for', u'microelectronic', u'applications', u'composite', u'compact', u'having', u'a', u'base', u'of', u'a', u'hard-centered', u'alloy', u'in', u'which', u'the', u'base', u'is', u'joined', u'to', u'a', u'substrate', u'through', u'a', u'joint', u'layer', u'and', u'process', u'for', u'producing', u'the', u'same', u'endoscope', u'for', u'automatically', u'adjusting', u'an', u'angle', u'with', u'a', u'shape', u'memory', u'alloy', u'method', u'and', u'apparatus', u'for', u'spatially', u'orienting', u'movable', u'members', u'using', u'shape', u'memory', u'effect', u'alloy', u'actuator', u'adaptive', u'control', u'surface', u'using', u'antagonistic', u'shape', u'memory', u'alloy', u'tendons', u'shape', u'memory', u'alloy', u'treatment', u'non-evaporable', u'ternary', u'gettering', u'alloy', u'and', u'method', u'of', u'use', u'for', u'the', u'sorption', u'of', u'water,', u'water', u'vapor', u'and', u'other', u'gases', u'steerable', u'memory', u'alloy', u'guide', u'wires', u'aluminum', u'magnesium', u'alloy', u'product', u'containing', u'dispersoids', u'process', u'for', u'electroless', u'plating', u'tin,', u'lead', u'or', u'tin-lead', u'alloy', u'shape', u'memory', u'alloy', u'actuator', u'biocompatible', u'low', u'modulus', u'titanium', u'alloy', u'for', u'medical', u'implants', u'orthodontic', u'appliance', u'of', u'titanium', u'alloy', u'platinum', u'skeleton', u'alloy-supported', u'electrocatalyst,', u'electrode', u'using', u'the', u'electrocatalyst,', u'and', u'process', u'for', u'producing', u'the', u'electrocatalyst', u'selective', u'deposition', u'of', u'doped', u'silion-germanium', u'alloy', u'on', u'semiconductor', u'substrate', u'shape', u'memory', u'alloy', u'actuated', u'rod', u'for', u'endoscopic', u'instruments', u'method', u'for', u'imparting', u'shapes', u'to', u'shape', u'memory', u'alloy', u'wires', u'nickel/titanium/copper', u'shape', u'memory', u'alloy', u'quick', u'plastic', u'forming', u'of', u'aluminum', u'alloy', u'sheet', u'metal', u'method', u'of', u'treating', u'a', u'sample', u'of', u'an', u'alloy', u'thin-film', u'shape', u'memory', u'alloy', u'actuators', u'and', u'processing', u'methods', u'method', u'of', u'forming', u'biaxially', u'textured', u'alloy', u'substrates', u'and', u'devices', u'thereon', u'joint,', u'a', u'laminate,', u'and', u'a', u'method', u'of', u'preparing', u'a', u'nickel-titanium', u'alloy', u'member', u'surface', u'for', u'bonding', u'to', u'another', u'layer', u'of', u'metal', u'endoscope', u'shaft', u'with', u'superelastic', u'alloy', u'spiral', u'frame', u'and', u'braid', u'method', u'of', u'electroplating', u'a', u'copper', u'or', u'copper', u'alloy', u'interconnect', u'super-elastic', u'alloy', u'braid', u'structure', u'protective', u'metal', u'oxide', u'films', u'on', u'metal', u'or', u'alloy', u'substrate', u'surfaces', u'susceptible', u'to', u'coking,', u'corrosion', u'or', u'catalytic', u'activity', u'spin', u'dependent', u'tunneling', u'barriers', u'formed', u'with', u'a', u'magnetic', u'alloy', u'method', u'of', u'producing', u'a', u'silicon', u'membrane', u'using', u'a', u'silicon', u'alloy', u'etch', u'stop', u'layer', u'titanium', u'or', u'titanium', u'alloy', u'pin', u'for', u'cement-free', u'fixing', u'in', u'a', u'long', u'bone', u'to', u'form', u'a', u'prosthesis', u'encapsulated', u'lithium', u'alloy', u'electrodes', u'having', u'barrier', u'layers', u'actuation', u'system', u'for', u'the', u'control', u'of', u'multiple', u'shape', u'memory', u'alloy', u'elements', u'endoscope', u'with', u'a', u'memory', u'shape', u'alloy', u'to', u'control', u'tube', u'bending', u'catheter', u'apparatus', u'having', u'an', u'improved', u'shape-memory', u'alloy', u'cuff', u'and', u'inflatable', u'on-demand', u'balloon', u'for', u'creating', u'a', u'bypass', u'graft', u'in-vivo', u'method', u'for', u'synthesis', u'of', u'core-shell', u'type', u'and', u'solid', u'solution', u'alloy', u'type', u'metallic', u'nanoparticles', u'via', u'transmetalation', u'reactions', u'and', u'applications', u'of', u'same', u'semiconductor', u'material', u'on', u'a', u'substrate,', u'said', u'substrate', u'comprising,', u'in', u'order,', u'a', u'layer', u'of', u'organic', u'polymer,', u'a', u'layer', u'of', u'metal', u'or', u'metal', u'alloy', u'and', u'a', u'layer', u'of', u'dielectric', u'material', u'temperature', u'monitoring', u'device', u'containing', u'at', u'least', u'one', u'element', u'of', u'an', u'alloy', u'which', u'memorizes', u'its', u'shape', u'aluminum', u'alloy', u'back', u'junction', u'solar', u'cell', u'and', u'a', u'process', u'for', u'fabrication', u'thereof', u'electromagnetic', u'radiation', u'susceptor', u'material', u'employing', u'ferromagnetic', u'amorphous', u'alloy', u'particles', u'die', u'attach', u'using', u'gold', u'ribbon', u'with', u'gold/silicon', u'eutectic', u'alloy', u'cladding', u'continuous', u'production', u'of', u'metal', u'alloy', u'composites', u'neutral', u'sputtered', u'films', u'of', u'metal', u'alloy', u'oxides', u'platinum-aluminum', u'alloy', u'catalyst', u'for', u'fuel', u'cells', u'and', u'method', u'of', u'its', u'production', u'and', u'use', u'titanium', u'diboride/titanium', u'alloy', u'metal', u'matrix', u'microcomposite', u'material', u'and', u'process', u'for', u'powder', u'metal', u'cladding', u'manufacture', u'of', u'a', u'two-way', u'shape', u'memory', u'alloy', u'and', u'device', u'molded', u'plastic', u'semiconductor', u'package', u'including', u'an', u'aluminum', u'alloy', u'heat', u'spreader', u'platinum', u'alloy', u'electrocatalyst', u'low', u'melting', u'nickel-palladium-silicon', u'brazing', u'alloy', u'titanium', u'alloy', u'and', u'method', u'for', u'producing', u'the', u'same', u'use', u'of', u'shape', u'memory', u'alloy', u'for', u'internally', u'fixing', u'light', u'emitting', u'device', u'at', u'treatment', u'site', u'surgical', u'implant', u'and', u'alloy', u'for', u'use', u'in', u'making', u'an', u'implant', u'method', u'of', u'casting', u'articles', u'of', u'a', u'bulk-solidifying', u'amorphous', u'alloy', u'adjusting', u'alloy', u'compositions', u'for', u'selected', u'properties', u'in', u'temperature', u'limited', u'heaters', u'alloy', u'ingot', u'for', u'permanent', u'magnet,', u'anisotropic', u'powders', u'for', u'permanent', u'magnet,', u'method', u'for', u'producing', u'same', u'and', u'permanent', u'magnet', u'iron-chromium-aluminum', u'alloy', u'and', u'article', u'and', u'method', u'therefor', u'alloy', u'for', u'metallization', u'and', u'brazing', u'of', u'abrasive', u'materials', u'high', u'strength,', u'low', u'modulus,', u'ductile,', u'biopcompatible', u'titanium', u'alloy', u'titanium', u'porous', u'surface', u'bonded', u'to', u'a', u'cobalt-based', u'alloy', u'substrate', u'in', u'an', u'orthopaedic', u'implant', u'device', u'variable', u'area', u'nozzle', u'for', u'gas', u'turbine', u'engines', u'driven', u'by', u'shape', u'memory', u'alloy', u'actuators', u'aluminum', u'6xxx', u'alloy', u'products', u'of', u'high', u'strength', u'and', u'toughness', u'having', u'stable', u'response', u'to', u'high', u'temperature', u'artificial', u'aging', u'treatments', u'and', u'method', u'for', u'producing', u'single', u'crystal', u'alloy', u'technology', u'aluminum', u'alloy', u'product', u'having', u'improved', u'combinations', u'of', u'properties', u'camera', u'with', u'a', u'shape', u'memory', u'alloy', u'member', u'diffusion-bonded', u'palladium-copper', u'alloy', u'framed', u'membrane', u'for', u'pure', u'hydrogen', u'generators', u'and', u'the', u'like', u'and', u'method', u'of', u'preparing', u'the', u'same', u'treatments', u'to', u'reduce', u'friction', u'and', u'wear', u'on', u'metal', u'alloy', u'components', u'method', u'for', u'producing', u'environmentally', u'stable', u'reactive', u'alloy', u'powders', u'high', u'melting', u'point', u'process', u'for', u'au:sn:80:20', u'brazing', u'alloy', u'for', u'chip', u'carriers', u'dram', u'cell', u'in', u'which', u'a', u'silicon-germanium', u'alloy', u'layer', u'having', u'a', u'rough', u'surface', u'morphology', u'is', u'utilized', u'for', u'a', u'capacitive', u'surface', u'magnetoresistive', u'structure', u'comprising', u'ferromagnetic', u'thin', u'films', u'and', u'intermediate', u'alloy', u'layer', u'having', u'magnetic', u'concentrator', u'and', u'shielding', u'permeable', u'masses', u'temperature', u'monitoring', u'device', u'containing', u'at', u'least', u'one', u'element', u'of', u'an', u'alloy', u'which', u'memorizes', u'its', u'shape', u'shape', u'memory', u'alloy', u'rotary', u'actuator', u'semiconductor', u'device', u'with', u'crystalline', u'silicon-germanium-carbon', u'alloy', u'cobalt', u'base', u'alloy', u'end', u'effectors', u'for', u'laparoscopic', u'surgical', u'scissors', u'fiber', u'reinforced', u'metal', u'type', u'composite', u'material', u'with', u'high', u'purity', u'aluminum', u'alloy', u'containing', u'magnesium', u'as', u'matrix', u'metal', u'tin', u'whisker-free', u'tin', u'or', u'tin', u'alloy', u'plated', u'article', u'and', u'coating', u'technique', u'thereof', u'valve', u'driven', u'by', u'shape', u'memory', u'alloy', u'encapsulated', u'alloy', u'electrodes', u'method', u'for', u'treating', u'a', u'vessel', u'with', u'a', u'titanium', u'alloy', u'stent', u'method', u'of', u'repairing', u'directionally', u'solidified', u'and', u'single', u'crystal', u'alloy', u'parts', u'wear-resistant', u'alloy,', u'and', u'method', u'of', u'making', u'same', u'sputter', u'deposition', u'and', u'annealing', u'of', u'copper', u'alloy', u'metallization', u'optical', u'information', u'recording', u'medium', u'containing', u'a', u'metal', u'alloy', u'as', u'a', u'reflective', u'material', u'shape', u'memory', u'alloy', u'fibers', u'having', u'rapid', u'twitch', u'response', u'distributed', u'activator', u'for', u'a', u'two-dimensional', u'shape', u'memory', u'alloy', u'method', u'of', u'making', u'environmentally', u'stable', u'reactive', u'alloy', u'powders', u'damage', u'tolerant', u'aluminum', u'alloy', u'products', u'useful', u'for', u'aircraft', u'applications', u'such', u'as', u'skin', u'heat', u'recoverable', u'nickel/titanium', u'alloy', u'with', u'improved', u'stability', u'and', u'machinability', u'nickel-iron', u'(80:20)', u'alloy', u'thin', u'film', u'electroplating', u'method', u'and', u'electrochemical', u'treatment', u'and', u'plating', u'apparatus', u'high', u'stability', u'silver', u'based', u'alloy', u'reflectors', u'for', u'use', u'in', u'a', u'writable', u'compact', u'disk', u'intraocular', u'lens', u'with', u'shape', u'memory', u'alloy', u'haptic/optic', u'and', u'method', u'of', u'use', u'dispersion', u'strengthened', u'cobalt-chromium-molybdenum', u'alloy', u'produced', u'by', u'gas', u'atomization', u'dual', u'layer', u'optical', u'medium', u'having', u'partially', u'reflecting', u'metal', u'alloy', u'layer', u'liquid', u'crystal', u'display', u'device', u'having', u'wiring', u'layer', u'made', u'of', u'nitride', u'of', u'nb', u'or', u'nitride', u'alloy', u'containing', u'nb', u'as', u'a', u'main', u'component', u'chemical', u'synthesis', u'of', u'monodisperse', u'and', u'magnetic', u'alloy', u'nanocrystal', u'containing', u'thin', u'films', u'reflection-type', u'liquid', u'crystal', u'display', u'having', u'a', u'silver', u'or', u'silver', u'alloy', u'upper', u'electrode', u'layer', u'high', u'strength', u'aluminum', u'alloy', u'forming', u'process', u'of', u'amorphous', u'alloy', u'material', u'method', u'for', u'producing', u'a', u'shape', u'memory', u'alloy', u'member', u'having', u'specific', u'physical', u'and', u'mechanical', u'properties', u'shape', u'memory', u'alloy', u'wire', u'driven', u'positive', u'displacement', u'micropump', u'with', u'pulsatile', u'output', u'process', u'for', u'electrically', u'interconnecting', u'chips', u'with', u'substrates', u'employing', u'gold', u'alloy', u'bumps', u'and', u'magnetic', u'materials', u'therein', u'aluminum', u'alloy', u'semiconductor', u'packages', u'porous', u'fluoropolymer', u'alloy', u'and', u'process', u'of', u'manufacture', u'tm-polarized', u'laser', u'emitter', u'using', u'iii-v', u'alloy', u'with', u'nitrogen', u'process', u'for', u'fabricating', u'multi-alloy', u'components', u'dry', u'method', u'for', u'manufacturing', u'hydrogen', u'absorption', u'alloy', u'electrode', u'superalloy', u'article', u'repair', u'method', u'and', u'alloy', u'powder', u'mixture', u'surface-refined', u'sintered', u'alloy', u'body', u'and', u'method', u'for', u'making', u'the', u'same', u'optically', u'readable', u'information', u'disc', u'having', u'a', u'reflection', u'layer', u'formed', u'from', u'a', u'metal', u'alloy', u'conductive', u'noble-metal-insulator-alloy', u'barrier', u'layer', u'for', u'high-dielectric-constant', u'material', u'electrodes', u'actuator', u'apparatus', u'utilizing', u'a', u'shape-memory', u'alloy', u'fastening', u'apparatus', u'having', u'shape', u'memory', u'alloy', u'actuator', u'copper', u'alloy', u'metallurgies', u'for', u'vlsi', u'interconnection', u'structures', u'amorphous', u'metal', u'alloy', u'compositions', u'for', u'reversible', u'hydrogen', u'storage', u'and', u'electrodes', u'made', u'therefrom', u'laser', u'shock', u'peening', u'surface', u'enhancement', u'for', u'gas', u'turbine', u'engine', u'high', u'strength', u'rotor', u'alloy', u'repair', u'ti-zr', u'type', u'alloy', u'and', u'medical', u'appliance', u'formed', u'thereof', u'platinum-copper', u'alloy', u'electrocatalyst', u'and', u'acid-electrolyte', u'fuel', u'cell', u'electrode', u'using', u'the', u'same', u'aluminum', u'and', u'aluminum', u'alloy', u'radiator', u'for', u'semiconductor', u'device', u'and', u'process', u'for', u'producing', u'the', u'same', u'shape', u'memory', u'alloy', u'for', u'centering', u'a', u'transducer', u'carried', u'by', u'a', u'slider', u'in', u'a', u'support', u'arm', u'over', u'a', u'track', u'on', u'a', u'magnetic', u'disk', u'soft', u'magnetic', u'amorphous', u'alloy', u'and', u'high', u'hardness', u'amorphous', u'alloy', u'and', u'high', u'hardness', u'tool', u'using', u'the', u'same', u'noble', u'metal-chromium', u'alloy', u'catalysts', u'and', u'electrochemical', u'cell', u'method', u'of', u'bonding', u'titanium', u'to', u'a', u'cobalt-based', u'alloy', u'substrate', u'in', u'an', u'orthophedic', u'implant', u'device', u'high', u'performance', u'superelastic', u'alloy', u'braid', u'reinforced', u'catheter', u'thick', u'alznmgcu', u'alloy', u'products', u'with', u'improved', u'properties', u'medical', u'electrical', u'lead', u'conductor', u'formed', u'from', u'modified', u'mp35n', u'alloy', u'fatigue', u'crack', u'growth', u'resistant', u'nickel-base', u'article', u'and', u'alloy', u'and', u'method', u'for', u'making', u'\\xab\\xb1-\\xab_', u'type', u'titanium', u'alloy', u'cermet', u'alloy', u'and', u'process', u'for', u'its', u'production', u'aluminum', u'alloy', u'electrode', u'for', u'semiconductor', u'devices', u'valvular', u'annuloplasty', u'rings', u'of', u'a', u'biocompatible', u'low', u'elastic', u'modulus', u'titanium-niobium-zirconium', u'alloy', u'hose', u'including', u'an', u'aluminum', u'alloy', u'semiconductor', u'structures', u'having', u'electrically', u'insulating', u'and', u'conducting', u'portions', u'formed', u'from', u'an', u'alsb-alloy', u'layer', u'aluminum', u'material', u'for', u'brazing,', u'method', u'of', u'manufacturing', u'same,', u'and', u'method', u'of', u'manufacturing', u'heat', u'exchanger', u'made', u'of', u'aluminum', u'alloy', u'rotary', u'blade-type', u'apparatus', u'for', u'dissolving', u'alloy', u'elements', u'and', u'dispersing', u'gas', u'in', u'an', u'aluminum', u'bath', u'aluminum', u'alloy', u'products', u'suited', u'for', u'commercial', u'jet', u'aircraft', u'wing', u'members', u'fe-base', u'soft', u'magnetic', u'alloy', u'and', u'method', u'of', u'producing', u'same', u'method', u'of', u'forming', u'a', u'layer', u'of', u'doped', u'crystalline', u'semiconductor', u'alloy', u'material', u'ni-ti-pd', u'superelastic', u'alloy', u'material,', u'its', u'manufacturing', u'method,', u'and', u'orthodontic', u'archwire', u'made', u'of', u'this', u'alloy', u'material', u'pseudoelastic', u'\\xab_', u'titanium', u'alloy', u'and', u'uses', u'therefor', u'spark', u'plug', u'center', u'electrode', u'of', u'alloy', u'material', u'including', u'aluminum', u'and', u'chromium', u'dispersion-strengthened', u'aluminium', u'alloy', u'method', u'of', u'repairing', u'metallic', u'alloy', u'articles,', u'such', u'as', u'gas', u'turbine', u'engine', u'components', u'hardfacing', u'alloy,', u'methods,', u'and', u'products', u'method', u'of', u'processing', u'a', u'nickel/titanium-based', u'shape', u'memory', u'alloy', u'and', u'article', u'produced', u'therefrom', u'alloy', u'solder', u'connect', u'assembly', u'and', u'method', u'of', u'connection', u'nickel/titanium/niobium', u'shape', u'memory', u'alloy', u'&', u'article', u'platinum-cobalt', u'alloy', u'sputtering', u'target', u'and', u'method', u'for', u'manufacturing', u'same', u'process', u'for', u'fabricating', u'a', u'zirconium-niobium', u'alloy', u'and', u'articles', u'resulting', u'therefrom', u'high', u'transformation', u'temperature', u'shape', u'memory', u'alloy', u'rotary', u'actuator', u'utilizing', u'a', u'shape', u'memory', u'alloy', u'novel', u'nickel/indium/other', u'metal', u'alloy', u'for', u'use', u'in', u'the', u'manufacture', u'of', u'electrical', u'contact', u'areas', u'of', u'electrical', u'devices', u'shape', u'memory', u'polymer', u'or', u'alloy', u'ophthalmic', u'lens', u'mold', u'and', u'methods', u'of', u'forming', u'ophthalmic', u'products', u'shape', u'memory', u'alloy', u'controllable', u'hinge', u'apparatus', u'high-strength/high-toughness', u'alloy', u'steel', u'drill', u'bit', u'blank', u'dual', u'alloy', u'turbine', u'wheels', u'sintering', u'steel-bonded', u'carbide', u'hard', u'alloy', u'copper', u'alloy', u'metallurgies', u'for', u'vlsi', u'interconnection', u'structures', u'nitinol', u'alloy', u'design', u'for', u'sheath', u'deployable', u'and', u're-sheathable', u'vascular', u'devices', u'thermal', u'spray', u'iron', u'alloy', u'powder', u'containing', u'molybdenum,', u'copper', u'and', u'boron', u'method', u'and', u'apparatus', u'for', u'fabrication', u'of', u'cobalt', u'alloy', u'composite', u'inserts', u'chromium-titanium', u'alloy', u'sintered', u'alloy', u'based', u'on', u'carbides', u'shape', u'memory', u'alloy', u'recording', u'medium,', u'storage', u'devices', u'based', u'thereon,', u'and', u'method', u'for', u'using', u'these', u'storage', u'devices', u'metal', u'silicide', u'alloy', u'local', u'interconnect', u'thermoplastic', u'polyurethane', u'anticoagulant', u'alloy', u'coating', u'liquid', u'crystal', u'display', u'having', u'wires', u'made', u'of', u'molybdenum-tungsten', u'alloy', u'and', u'a', u'method', u'of', u'manufacturing', u'the', u'same', u'magnetic', u'recording', u'medium', u'with', u'a', u'chromium', u'alloy', u'underlayer', u'and', u'a', u'cobalt-based', u'magnetic', u'layer', u'sputtering', u'targets', u'of', u'high-purity', u'aluminum', u'or', u'alloy', u'thereof', u'composition', u'for', u'treating', u'copper', u'or', u'copper', u'alloy', u'surfaces', u'optical', u'recording', u'medium', u'having', u'a', u'reflective', u'layer', u'made', u'of', u'cu-ag', u'or', u'cu-au', u'alloy', u'magnetic', u'alloy', u'having', u'a', u'structured', u'nucleation', u'layer', u'and', u'method', u'for', u'manufacturing', u'same', u'high', u'machinability', u'iron', u'base', u'sintered', u'alloy', u'for', u'valve', u'seat', u'inserts', u'prosthesis', u'formed', u'from', u'dispersion', u'strengthened', u'cobalt-chromium-molybdenum', u'alloy', u'produced', u'by', u'gas', u'atomization', u'metal', u'gate', u'mosfet', u'by', u'full', u'semiconductor', u'metal', u'alloy', u'conversion', u'soft', u'magnetic', u'alloy', u'film', u'and', u'manufacturing', u'method', u'thereof,', u'and', u'magnetic', u'head', u'incorporating', u'the', u'same', u'shape', u'memory', u'alloy', u'clip', u'and', u'method', u'of', u'use', u'thereof', u'method', u'of', u'forming', u'conductive', u'noble-metal-insulator-alloy', u'barrier', u'layer', u'for', u'high-dielectric-constant', u'material', u'electrodes', u'enhanced', u'corrosion', u'resistant', u'amorphous', u'metal', u'alloy', u'coatings', u'environmentally', u'stable', u'reactive', u'alloy', u'powders', u'and', u'method', u'of', u'making', u'same', u'rotating', u'cylindrical', u'magnetron', u'structure', u'with', u'self', u'supporting', u'zinc', u'alloy', u'target', u'raney', u'nickel', u'alloy', u'expanded', u'mesh', u'hydrogenation', u'catalysts', u'alloy', u'powder', u'mixture', u'for', u'treating', u'alloys', u'methods', u'of', u'fabricating', u'and', u'testing', u'silver-tin', u'alloy', u'solder', u'bumps', u'method', u'of', u'manufacturing', u'aluminum', u'alloy', u'sheet', u'hydrogen-purification', u'apparatus', u'with', u'palladium-alloy', u'filter', u'coil', u'supported', u'platinum', u'alloy', u'electrocatalyst', u'method', u'of', u'manufacturing', u'amorphous', u'alloy', u'diamond-coated', u'tungsten', u'carbide-base', u'sintered', u'hard', u'alloy', u'material', u'for', u'insert', u'of', u'a', u'cutting', u'tool', u'method', u'for', u'producing', u'composite', u'material', u'having', u'an', u'aluminum', u'alloy', u'matrix', u'with', u'a', u'silicon', u'carbide', u'reinforcement', u'metal', u'composition', u'and', u'methods', u'for', u'preparing', u'liquid-solid', u'alloy', u'metal', u'composition', u'and', u'for', u'casting', u'the', u'metal', u'compositions', u'memory', u'alloy', u'heat', u'engine', u'and', u'method', u'of', u'operation', u'turbine', u'system', u'having', u'more', u'failure', u'resistant', u'rotors', u'and', u'repair', u'welding', u'of', u'low', u'alloy', u'ferrous', u'turbine', u'components', u'by', u'controlled', u'weld', u'build-up', u'shape', u'memory', u'alloy', u'actuator', u'composite', u'material', u'having', u'matrix', u'of', u'aluminum', u'or', u'aluminum', u'alloy', u'with', u'dispersed', u'fibrous', u'or', u'particulate', u'reinforcement', u'co-fused', u'alumina-zirconia', u'alloy', u'abrasive', u'containing', u'magnesium', u'oxide', u'hydrogen-absorbing', u'alloy', u'for', u'battery,', u'method', u'of', u'manufacturing', u'the', u'same,', u'and', u'secondary', u'nickel-metal', u'hydride', u'battery', u'cermet', u'alloy', u'containing', u'nitrogen', u'shape', u'memory', u'alloy', u'actuator', u'metallization', u'structure,', u'and', u'associated', u'method,', u'to', u'improve', u'crystallographic', u'texture', u'and', u'cavity', u'fill', u'for', u'cvd', u'aluminum/pvd', u'aluminum', u'alloy', u'films', u'shape', u'memory', u'alloy', u'ink', u'jet', u'printing', u'mechanism', u'shape', u'memory', u'alloy', u'device', u'and', u'control', u'method', u'shape', u'memory', u'effect', u'alloy', u'pull', u'wire', u'articulator', u'for', u'borescopes', u'method', u'of', u'producing', u'an', u'aluminum', u'alloy', u'product', u'corrosion', u'and', u'wear', u'resistant', u'alloy', u'process', u'for', u'coating', u'aluminum', u'or', u'aluminum', u'alloy', u'thin', u'film', u'magnetic', u'alloy', u'having', u'low', u'noise,', u'high', u'coercivity', u'and', u'high', u'squareness', u'metal', u'composition', u'and', u'methods', u'for', u'preparing', u'liquid-solid', u'alloy', u'metal', u'compositions', u'and', u'for', u'casting', u'the', u'metal', u'compositions', u'a1-n1-y', u'alloy', u'films', u'for', u'electrodes', u'of', u'semiconductor', u'devices', u'and', u'sputtering', u'targets', u'for', u'depositing', u'the', u'a1-n1-y', u'alloy', u'films', u'endoscope', u'having', u'a', u'temperature', u'sensitive', u'memory', u'alloy', u'plate', u'as', u'the', u'treatment', u'instrument', u'driving', u'device', u'internally', u'reinforced', u'hollow', u'titanium', u'alloy', u'components', u'process', u'of', u'shaping', u'a', u'metal', u'alloy', u'product', u'method', u'to', u'produce', u'superplastically', u'formed', u'titanium', u'alloy', u'components', u'alloy', u'compositions', u'and', u'devices', u'including', u'the', u'compositions', u'glass/glass-ceramic-plastic', u'alloy', u'articles', u'process', u'of', u'making', u'composite', u'stents', u'with', u'gold', u'alloy', u'cores', u'semicrystalline', u'polymer', u'alloy', u'and', u'process', u'for', u'preparation', u'supported', u'platinum', u'alloy', u'electrocatalyst', u'shape', u'memory', u'alloy', u'actuator', u'shape', u'memory', u'alloy', u'wire', u'actuator', u'method', u'for', u'producing', u'titanium', u'alloy', u'turbine', u'blades', u'and', u'titanium', u'alloy', u'turbine', u'blades', u'method', u'of', u'producing', u'thin', u'palladium-copper', u'and', u'the', u'like,', u'palladium', u'alloy', u'membranes', u'by', u'solid-solid', u'metallic', u'interdiffusion,', u'and', u'improved', u'membrane', u'multi-layer', u'thin-film,', u'flexible', u'silicon', u'alloy', u'photovoltaic', u'cell', u'method', u'of', u'making', u'high', u'strength,', u'tough', u'alloy', u'steel', u'ni-ti-nb', u'alloy', u'processing', u'method', u'and', u'articles', u'formed', u'from', u'the', u'alloy', u'production', u'of', u'bulk', u'single', u'crystals', u'of', u'aluminum', u'nitride,', u'silicon', u'carbide', u'and', u'aluminum', u'nitride:', u'silicon', u'carbide', u'alloy', u'fibrous', u'parallel', u'spring-loaded', u'shape', u'memory', u'alloy', u'rebotic', u'linear', u'system', u'and', u'method', u'for', u'controlling', u'shape', u'memory', u'alloy', u'actuators', u'tin,', u'lead,', u'and', u'tin-lead', u'alloy', u'plating', u'baths', u'dual-phase,', u'magnesium-based', u'alloy', u'having', u'improved', u'properties', u'process', u'for', u'production', u'of', u'titanium', u'alloy', u'composite', u'material', u'comprising', u'metallic', u'alloy', u'grains', u'coated', u'with', u'a', u'dielectric', u'substance', u'aluminum', u'alloy', u'clad', u'material', u'low', u'temperature', u'plasma', u'enhanced', u'cvd', u'ceramic', u'coating', u'process', u'for', u'metal,', u'alloy', u'and', u'ceramic', u'materials', u'process', u'for', u'fabricating', u'articles', u'of', u'tungsten-nickel-iron', u'alloy', u'process', u'for', u'direct', u'shaping', u'and', u'optimization', u'of', u'the', u'mechanical', u'characteristics', u'of', u'penetrating', u'projectiles', u'of', u'high-density', u'tungsten', u'alloy', u'golf', u'club', u'head', u'with', u'tungsten', u'alloy', u'sole', u'applications', u'platinum', u'alloy', u'catalyst', u'for', u'fuel', u'cells', u'and', u'method', u'of', u'its', u'production', u'molten', u'nitrate', u'salt', u'solar', u'central', u'receiver', u'of', u'low', u'cycle', u'fatigue', u'625', u'alloy', u'chemical', u'polishing', u'process', u'for', u'titanium', u'and', u'titanium', u'alloy', u'surgical', u'implants', u'plastics', u'alloy', u'compositions', u'aluminum-lithium', u'filler', u'alloy', u'for', u'brazing', u'metal', u'alloy', u'coatings', u'and', u'methods', u'for', u'applying', u'method', u'for', u'making', u'silver-palladium', u'alloy', u'powders', u'by', u'aerosol', u'decomposition', u'palladium', u'or', u'a', u'palladium', u'alloy', u'hydrogen', u'diffusion', u'membrane', u'treated', u'with', u'a', u'volatile', u'compound', u'of', u'silicon', u'is', u'used', u'to', u'separate', u'hydrogen', u'from', u'a', u'mixture', u'of', u'it', u'with', u'a', u'hydrocarbon', u'high', u'strength', u'galvanized', u'steel', u'plate', u'excellent', u'in', u'adhesion', u'of', u'plated', u'metal', u'and', u'formability', u'in', u'press', u'working', u'and', u'high', u'strength', u'alloy', u'galvanized', u'steel', u'plate', u'and', u'method', u'for', u'production', u'thereof', u'aluminium', u'alloy,', u'notably', u'for', u'a', u'layer', u'heat', u'exchanger', u'using', u'a', u'hydrogen', u'occlusion', u'alloy', u'method', u'of', u'forming', u'conductive', u'noble-metal-insulator-alloy', u'barrier', u'layer', u'for', u'high-dielectric-constant', u'material', u'electrodes', u'low', u'density', u'high', u'strength', u'al-li', u'alloy', u'electrodeposited', u'eutectic', u'tin-bismuth', u'alloy', u'on', u'a', u'conductive', u'substrate', u'metal', u'alloy', u'interconnections', u'for', u'integrated', u'circuits', u'alloy', u'having', u'variable', u'spectral', u'reflectance', u'and', u'information', u'recording', u'material', u'making', u'use', u'of', u'the', u'same', u'method', u'of', u'depositing', u'a', u'protective', u'layer', u'over', u'a', u'biaxially', u'textured', u'alloy', u'substrate', u'and', u'composition', u'therefrom', u'forming', u'process', u'of', u'amorphous', u'alloy', u'material', u'formation', u'of', u'alloy', u'material', u'using', u'alternating', u'depositions', u'of', u'alloy', u'doping', u'element', u'and', u'bulk', u'material', u'wear', u'resistant', u'alloy', u'aluminum', u'components', u'coated', u'with', u'zinc-antimony', u'alloy', u'for', u'manufacturing', u'assemblies', u'by', u'cab', u'brazing', u'cast', u'aluminum', u'alloy', u'for', u'can', u'stock', u'and', u'process', u'for', u'producing', u'the', u'alloy', u'method', u'of', u'forming', u'robust', u'metal,', u'metal', u'oxide,', u'and', u'metal', u'alloy', u'layers', u'on', u'ion-conductive', u'polymer', u'membranes', u'method', u'for', u'manufacturing', u'a', u'dual', u'alloy', u'cooled', u'turbine', u'wheel', u'spark', u'plug', u'for', u'internal', u'combustion', u'engines', u'having', u'an', u'alloy', u'layer', u'between', u'the', u'electrodes', u'and', u'tip', u'ends', u'wear', u'resistant', u'cast', u'iron', u'alloy', u'with', u'spheroidal', u'graphite', u'separation', u'and', u'manufacturing', u'method', u'therefor', u'proportional', u'valve', u'with', u'shape', u'memory', u'alloy', u'actuator', u'production', u'process', u'of', u'solidified', u'amorphous', u'alloy', u'material', u'multi-layer', u'thin', u'film,', u'flexible', u'silicon', u'alloy', u'photovoltaic', u'cell', u'modulating', u'pressure', u'regulator', u'with', u'shape', u'memory', u'alloy', u'actuator', u'bonding', u'of', u'integrated', u'circuit', u'chip', u'to', u'carrier', u'using', u'gold/tin', u'eutectic', u'alloy', u'and', u'refractory', u'metal', u'nitride', u'barrier', u'layer', u'to', u'block', u'migration', u'of', u'tin', u'through', u'via', u'holes', u'sputter', u'apparatus', u'for', u'producing', u'multi-component', u'metal', u'alloy', u'films', u'and', u'method', u'for', u'making', u'the', u'same', u'process', u'for', u'surface', u'treatment', u'of', u'copper', u'and', u'copper', u'alloy', u'shape', u'memory', u'alloy', u'actuator', u'method', u'of', u'producing', u'an', u'aluminum-zinc-magnesium-copper', u'alloy', u'having', u'improved', u'exfoliation', u'resistance', u'and', u'fracture', u'toughness', u'actuator', u'using', u'shape', u'memory', u'alloy', u'and', u'method', u'for', u'controlling', u'the', u'same', u'amorphous', u'metal', u'alloy', u'powders', u'and', u'synthesis', u'of', u'same', u'by', u'solid', u'state', u'chemical', u'reduction', u'reactions', u'method', u'for', u'producing', u'metal', u'or', u'alloy', u'articles', u'aneurism', u'patch', u'including', u'distributed', u'activator', u'for', u'a', u'two-dimensional', u'shape', u'memory', u'alloy', u'friction', u'bearing', u'having', u'an', u'intermediate', u'layer,', u'notably', u'binding', u'layer,', u'made', u'of', u'an', u'alloy', u'on', u'aluminium', u'basis', u'production', u'of', u'oxidic', u'superconductors', u'by', u'zone', u'oxidation', u'of', u'a', u'precursor', u'alloy', u'chemical', u'fluid', u'deposition', u'method', u'for', u'the', u'formation', u'of', u'metal', u'and', u'metal', u'alloy', u'films', u'on', u'patterned', u'and', u'unpatterned', u'substrates', u'zinc', u'alloy', u'plating', u'with', u'quaternary', u'ammonium', u'polymer', u'lead-free', u'alloy', u'containing', u'tin,', u'silver', u'and', u'indium', u'method', u'for', u'creating', u'self-aligned', u'alloy', u'capping', u'layers', u'for', u'copper', u'interconnect', u'structures', u'apparatus', u'for', u'electroplating', u'alloy', u'films', u'fe-base', u'soft', u'magnetic', u'alloy', u'powder', u'and', u'magnetic', u'core', u'thereof', u'and', u'method', u'of', u'producing', u'same', u'high', u'density', u'alloy', u'for', u'improved', u'mass', u'properties', u'of', u'an', u'article', u'method', u'for', u'electrically', u'interconnecting', u'large', u'contact', u'arrays', u'using', u'eutectic', u'alloy', u'bumping', u'copper', u'alloy', u'via', u'structure', u'purifying', u'device', u'for', u'hydrogen', u'comprising', u'a', u'base', u'made', u'of', u'an', u'alloy', u'of', u'the', u'same', u'composition', u'as', u'that', u'of', u'the', u'tubes', u'titanium', u'aluminum', u'alloy', u'wetting', u'layer', u'for', u'improved', u'aluminum', u'filling', u'of', u'damescene', u'trenches', u'method', u'for', u'preparing', u'pre-coated', u'aluminum', u'alloy', u'articles', u'and', u'articles', u'prepared', u'thereby', u'process', u'of', u'using', u'an', u'active', u'solder', u'alloy', u'rock', u'bit', u'with', u'cobalt', u'alloy', u'cemented', u'tungsten', u'carbide', u'inserts', u'catalyst', u'of', u'a', u'coating', u'on', u'an', u'alloy', u'substrate', u'synthesis', u'of', u'nanoscale', u'aluminum', u'alloy', u'powders', u'and', u'devices', u'therefrom', u'semi-solid', u'metal', u'processing', u'method', u'and', u'a', u'process', u'for', u'casting', u'alloy', u'billets', u'suitable', u'for', u'that', u'processing', u'method', u'method', u'for', u'improving', u'fatigue', u'properties', u'of', u'titanium', u'alloy', u'articles', u'alkaline', u'zinc', u'and', u'zinc', u'alloy', u'electroplating', u'baths', u'and', u'processes', u'composite', u'materials', u'having', u'a', u'matrix', u'of', u'magnesium', u'or', u'magnesium', u'alloy', u'reinforced', u'with', u'discontinuous', u'silicon', u'carbide', u'particles', u'amorphous', u'iron-based', u'alloy', u'excelling', u'in', u'fatigue', u'property', u'aluminum', u'alloy', u'products', u'having', u'improved', u'property', u'combinations', u'and', u'method', u'for', u'artificially', u'aging', u'same', u'distributed', u'activator', u'for', u'a', u'two-dimensional', u'shape', u'memory', u'alloy', u'flexible', u'bilayered', u'sheet,', u'one', u'layer', u'of', u'which', u'contains', u'abrasive', u'particles', u'in', u'a', u'volatilizable', u'organic', u'binder', u'and', u'the', u'other', u'layer', u'of', u'which', u'contains', u'alloy', u'particles', u'in', u'a', u'volatilizable', u'binder,', u'method', u'for', u'producing', u'same', u'and', u'coating', u'produced', u'by', u'heating', u'same', u'apparatus', u'for', u'synthesizing', u'and', u'densifying', u'materials', u'using', u'a', u'shape', u'memory', u'alloy', u'article', u'and', u'method', u'for', u'controlled', u'debonding', u'of', u'elements', u'using', u'shape', u'memory', u'alloy', u'actuators', u'aluminum-silicon', u'alloy', u'heatsink', u'for', u'semiconductor', u'devices', u'bulk', u'amorphous', u'metal', u'alloy', u'objects', u'and', u'process', u'for', u'making', u'the', u'same', u'process', u'for', u'producing', u'coarse-grain', u'crystalline/mono-crystalline', u'metal', u'and', u'alloy', u'films', u'biocompatible', u'low', u'modulus', u'titanium', u'alloy', u'for', u'medical', u'implant', u'liquid-solid', u'alloy', u'composition', u'method', u'of', u'chemically', u'polishing', u'copper', u'and', u'copper', u'alloy', u'process', u'for', u'producing', u'high', u'strength', u'and', u'high', u'toughness', u'aluminum', u'alloy', u'wear-resistant', u'titanium', u'or', u'titanium-alloy', u'member', u'and', u'a', u'method', u'for', u'manufacturing', u'the', u'same', u'process', u'for', u'electroplating', u'directly', u'plateable', u'plastic', u'with', u'nickel-iron', u'alloy', u'strike', u'and', u'article', u'thereof', u'ferrous', u'product', u'having', u'an', u'alloy', u'coating', u'thereon', u'of', u'al-zn-mg-si', u'alloy,', u'and', u'method', u'low', u'alloy', u'sintered', u'steel', u'and', u'method', u'of', u'preparing', u'the', u'same', u'lead', u'frames', u'having', u'a', u'chromium', u'and', u'zinc', u'alloy', u'coating', u'thermoplastic', u'polymer', u'alloy', u'composition', u'process', u'for', u'preparing', u'a', u'ceramic', u'electronic', u'circuit', u'board', u'and', u'process', u'for', u'preparing', u'aluminum', u'or', u'aluminum', u'alloy', u'bonded', u'ceramic', u'material', u'plating', u'bath', u'and', u'process', u'for', u'depositing', u'alloy', u'containing', u'tin', u'and', u'copper', u'high', u'strength', u'magnesium-based', u'amorphous', u'alloy', u'high', u'performance', u'high', u'strength', u'low', u'alloy', u'wrought', u'steel', u'ternary', u'alloy', u'fuel', u'cell', u'catalysts', u'and', u'phosphoric', u'acid', u'fuel', u'cell', u'containing', u'the', u'catalysts', u'process', u'for', u'the', u'production', u'of', u'multi-metallic', u'amorphous', u'alloy', u'coatings', u'on', u'a', u'substrate', u'and', u'product', u'cathode', u'alloy', u'electrocatalysts', u'recording', u'elements', u'comprising', u'write-once', u'thin', u'film', u'alloy', u'layers', u'core-shell', u'synthesis', u'of', u'carbon-supported', u'alloy', u'nanoparticle', u'catalysts', u'coated', u'hard', u'alloy', u'tool', u'lock', u'nut', u'having', u'lock', u'member', u'of', u'shape', u'memory', u'recovery', u'alloy', u'surface', u'treated', u'titanium/titanium', u'alloy', u'articles', u'and', u'process', u'for', u'producing', u'cemented', u'carbide', u'metal', u'alloy', u'containing', u'auxiliary', u'metal,', u'and', u'process', u'for', u'its', u'manufacture', u'ambient', u'temperature', u'shape', u'memory', u'alloy', u'actuator', u'corrosion-and-wear-resistant', u'cobalt-base', u'alloy', u'metal,', u'alloy,', u'or', u'metal', u'carbide', u'nanoparticles', u'and', u'a', u'process', u'for', u'forming', u'same', u'thin', u'film', u'magnetic', u'recording', u'disk', u'comprising', u'alternating', u'layers', u'of', u'a', u'coni', u'or', u'copt', u'alloy', u'and', u'a', u'non-magnetic', u'spacer', u'layer', u'hydrophilic', u'polymer', u'alloy,', u'fiber', u'and', u'porous', u'membrane', u'comprising', u'this', u'polymer', u'alloy,', u'and', u'methods', u'for', u'preparing', u'them', u'method', u'for', u'producing', u'high', u'strength', u'aluminum', u'alloy', u'welded', u'structures', u'method', u'of', u'forming', u'biaxially', u'textured', u'alloy', u'substrates', u'and', u'devices', u'thereon', u'process', u'for', u'manufacturing', u'strip', u'made', u'of', u'an', u'iron-carbon-manganese', u'alloy,', u'and', u'strip', u'thus', u'produced', u'separation', u'device', u'using', u'a', u'shape', u'memory', u'alloy', u'retainer', u'7000', u'alloy', u'having', u'high', u'mechanical', u'strength', u'and', u'a', u'process', u'for', u'obtaining', u'it', u'alloy', u'target,', u'its', u'fabrication,', u'and', u'regeneration', u'processes', u'vacuum-brazing', u'aluminum', u'cladding', u'material', u'consisting', u'of', u'al', u'or', u'al', u'alloy', u'core', u'and', u'two', u'superposed', u'aluminum', u'alloy', u'clads', u'which', u'cover', u'at', u'least', u'one', u'surface', u'of', u'the', u'core', u'chromium-free', u'black', u'zinc-nickel', u'alloy', u'surfaces', u'amorphous', u'metal', u'alloy', u'powders', u'and', u'synthesis', u'of', u'same', u'by', u'solid', u'state', u'decomposition', u'reactions', u'chemical', u'synthesis', u'of', u'monodisperse', u'and', u'magnetic', u'alloy', u'nanocrystal', u'containing', u'thin', u'films', u'multilayer', u'coated', u'hard', u'alloy', u'cutting', u'tool', u'magnetic', u'annealing', u'of', u'amorphous', u'alloy', u'for', u'motor', u'stators', u'electrochemical', u'cell', u'electrodes', u'incorporating', u'noble', u'metal-base', u'metal', u'alloy', u'catalysts', u'aluminum', u'alloy', u'product', u'having', u'good', u'combinations', u'of', u'mechanical', u'and', u'corrosion', u'resistance', u'properties', u'and', u'formability', u'and', u'process', u'for', u'producing', u'such', u'product', u'flexible', u'self-expandable', u'stent', u'using', u'shape', u'memory', u'alloy', u'and', u'method', u'and', u'apparatus', u'for', u'fabricating', u'the', u'same', u'microetching', u'composition', u'for', u'copper', u'or', u'copper', u'alloy', u'high', u'strength', u'and', u'high', u'rigidity', u'aluminum-based', u'alloy', u'and', u'production', u'method', u'therefor', u'corrosion', u'resistant,', u'magnetic', u'alloy', u'article', u'dual', u'alloy', u'turbine', u'disk', u'method', u'for', u'catalytic', u'growth', u'of', u'nanotubes', u'or', u'nanofibers', u'comprising', u'a', u'nisi', u'alloy', u'diffusion', u'barrier', u'powder', u'metal', u'alloy', u'process', u'method', u'for', u'preparing', u'pre-coated', u'aluminum', u'alloy', u'articles', u'and', u'articles', u'prepared', u'thereby', u'thin', u'film', u'shape', u'memory', u'alloy', u'actuated', u'microrelay', u'alloy', u'materials', u'platinum', u'alloy', u'electrocatalyst', u'and', u'acid-electrolyte', u'fuel', u'cell', u'electrode', u'using', u'the', u'same', u'low-density', u'fealmn', u'alloy', u'golf-club', u'heads', u'and', u'golf', u'clubs', u'comprising', u'same', u'heat', u'sink', u'device', u'using', u'composite', u'metal', u'alloy', u'shape', u'memory', u'alloy', u'actuated', u'fluid', u'control', u'valve', u'deodorant', u'composition', u'combining', u'transition', u'metal', u'oxide', u'or', u'alloy', u'with', u'catalytic', u'metal', u'on', u'carrier', u'shape', u'memory', u'alloy', u'actuators', u'for', u'toy', u'vehicles', u'low', u'temperature', u'photochemical', u'vapor', u'deposition', u'of', u'alloy', u'and', u'mixed', u'metal', u'oxide', u'films', u'diffusion', u'bonding', u'of', u'copper', u'sputtering', u'targets', u'to', u'backing', u'plates', u'using', u'nickel', u'alloy', u'interlayers', u'cyanide-free', u'aqueous', u'alkaline', u'bath', u'used', u'for', u'the', u'galvanic', u'application', u'of', u'zinc', u'or', u'zinc-alloy', u'coatings', u'high', u'strength,', u'high', u'toughness', u'aluminum-copper-magnesium-type', u'aluminum', u'alloy', u'method', u'of', u'welding', u'wallpaper', u'alloy', u'an', u'arc', u'welder', u'modified', u'to', u'practice', u'same', u'metal-alloy', u'air', u'battery', u'tin-silver', u'alloy', u'electroplating', u'bath', u'and', u'tin-silver', u'alloy', u'electroplating', u'process', u'micromagnetic', u'device', u'having', u'alloy', u'of', u'cobalt,', u'phosphorus', u'and', u'iron', u'aluminum', u'alloy', u'products', u'and', u'methods', u'zirconium', u'liner', u'thickness', u'measuring', u'method', u'and', u'an', u'apparatus', u'therefor', u'for', u'a', u'zirconium', u'alloy', u'tube', u'soft', u'magnetic', u'alloy,', u'method', u'for', u'making,', u'magnetic', u'core,', u'magnetic', u'shield', u'and', u'compressed', u'powder', u'core', u'using', u'the', u'same', u'fe-ni', u'alloy', u'having', u'high', u'strength', u'and', u'low', u'thermal', u'expansion,', u'a', u'shadow', u'mask', u'made', u'of', u'the', u'alloy,', u'a', u'braun', u'tube', u'with', u'the', u'shadow', u'mask,', u'a', u'lead', u'frame', u'made', u'of', u'the', u'alloy', u'and', u'a', u'semiconductor', u'element', u'with', u'lead', u'frame', u'particle-dispersion', u'type', u'amorphous', u'aluminum-alloy', u'having', u'high', u'strength', u'aluminum', u'alloy', u'thick', u'plate', u'product', u'and', u'method', u'process', u'for', u'preparing', u'low', u'earing', u'aluminum', u'alloy', u'strip', u'on', u'strip', u'casting', u'machine', u'titanium', u'alloy', u'having', u'high', u'elastic', u'deformation', u'capacity', u'and', u'method', u'for', u'production', u'thereof', u'thermal', u'barrier', u'coating', u'for', u'alloy', u'systems', u'copper', u'alloy', u'and', u'method', u'of', u'manufacturing', u'the', u'same', u'high-strength', u'aluminum', u'alloy', u'palladium-nickel', u'alloy', u'electroplating', u'and', u'solutions', u'therefor', u'porous', u'titanium-aluminum', u'alloy', u'and', u'method', u'for', u'producing', u'the', u'same', u'shape', u'memory', u'metal', u'alloy', u'preload', u'attenuation', u'device', u'method', u'of', u'forming', u'a', u'lead-free', u'tin-silver-copper', u'based', u'solder', u'alloy', u'on', u'an', u'electronic', u'substrate', u'copper', u'alloy', u'seed', u'layer', u'for', u'copper', u'metallization', u'shape', u'memory', u'alloy', u'lift', u'pins', u'for', u'semiconductor', u'processing', u'equipment', u'fe-base', u'soft', u'magnetic', u'alloy', u'and', u'method', u'of', u'producing', u'same', u'composite', u'article,', u'alloy', u'and', u'method', u'shape', u'memory', u'alloy', u'sealing', u'components', u'weldable', u'anti-corrosive', u'aluminum-magnesium', u'alloy', u'containing', u'a', u'high', u'amount', u'of', u'magnesium,', u'especially', u'for', u'use', u'in', u'automobiles', u'coated', u'hard', u'alloy', u'tool', u'ferrous', u'metal', u'body', u'coated', u'with', u'an', u'alloy', u'formed', u'by', u'an', u'iron/silicon', u'extended', u'molybdenum', u'plasma', u'spray', u'powder', u'lithium', u'aluminum', u'alloy', u'system', u'alloy', u'for', u'hydrogen', u'storage', u'electrodes', u'high', u'strength', u'aluminum', u'alloy', u'for', u'high', u'temperature', u'applications', u'aluminum', u'alloy', u'powders', u'for', u'coating', u'materials,', u'and', u'coating', u'materials', u'containing', u'the', u'alloy', u'powders', u'clad', u'shape', u'memory', u'alloy', u'composite', u'structure', u'and', u'method', u'clean', u'aluminum', u'alloy', u'for', u'semiconductor', u'processing', u'equipment', u'corrosion', u'resistant', u'amorphous', u'chromium', u'alloy', u'compositions', u'corrosion', u'resistant', u'amorphous', u'chromium-metalloid', u'alloy', u'compositions', u'method', u'of', u'producing', u'a', u'forged', u'article', u'from', u'prealloyed-premixed', u'water', u'atomized', u'ferrous', u'alloy', u'powder', u'soft', u'magnetic', u'alloy', u'strip,', u'magnetic', u'member', u'using', u'the', u'same,', u'and', u'manufacturing', u'method', u'thereof', u'cast', u'alloy', u'instrument', u'panel', u'beams', u'weldable', u'anti-corrosive', u'aluminium-magnesium', u'alloy', u'containing', u'a', u'high', u'amount', u'of', u'magnesium,', u'especially', u'for', u'use', u'in', u'aviation', u'high', u'strength,', u'high', u'toughness', u'aluminum-copper-magnesium-type', u'aluminum', u'alloy', u'process', u'for', u'reinforcing', u'aluminum', u'alloy', u'amorphous', u'metallic', u'alloy', u'electrical', u'heater', u'systems', u'method', u'of', u'forming', u'an', u'alloy', u'precipitate', u'to', u'surround', u'interconnect', u'to', u'minimize', u'electromigration', u'control', u'module', u'using', u'shape', u'memory', u'alloy', u'method', u'of', u'heat', u'treating', u'high', u'carbon', u'alloy', u'steel', u'parts', u'to', u'develop', u'surface', u'compressive', u'residual', u'stresses', u'continuous', u'strip', u'casting', u'of', u'aluminum', u'alloy', u'from', u'scrap', u'aluminum', u'for', u'container', u'components', u'reusable', u'shape', u'memory', u'alloy', u'activated', u'latch', u'active', u'matrix', u'type', u'liquid', u'crystal', u'display', u'device', u'having', u'chromium', u'alloy', u'connecting', u'portions', u'at', u'pixel', u'electrode', u'or', u'near', u'driving', u'circuit', u'terminals', u'method', u'of', u'and', u'process', u'for', u'cold-rolling', u'of', u'stainless-steel', u'and', u'titanium-alloy', u'strip', u'method', u'for', u'enhancing', u'the', u'oxidation', u'resistance', u'of', u'a', u'molybdenum', u'alloy,', u'and', u'a', u'method', u'of', u'making', u'a', u'molybdenum', u'alloy', u'high', u'density', u'ferrous', u'power', u'metal', u'alloy', u'cast', u'nickel-base', u'alloy', u'article', u'high', u'strength', u'iron-cobalt-vanadium', u'alloy', u'article', u'retrieval', u'device', u'made', u'of', u'precursor', u'alloy', u'cable', u'and', u'method', u'of', u'manufacturing', u'fe-based', u'soft', u'magnetic', u'alloy,', u'method', u'of', u'producing', u'same', u'and', u'magnetic', u'core', u'made', u'of', u'same', u'low', u'density', u'tungsten', u'alloy', u'article', u'and', u'method', u'for', u'producing', u'same', u'coating', u'process', u'for', u'aluminum', u'and', u'aluminum', u'alloy', u'method', u'involving', u'modified', u'hot', u'working', u'for', u'the', u'production', u'of', u'a', u'titanium', u'alloy', u'part', u'soft', u'magnetic', u'alloy', u'powder', u'for', u'electromagnetic', u'and', u'magnetic', u'shield,', u'and', u'shielding', u'members', u'containing', u'the', u'same', u'aluminum', u'alloy', u'clad', u'material', u'for', u'heat', u'exchangers', u'exhibiting', u'high', u'strength', u'and', u'excellent', u'corrosion', u'resistance', u'high', u'strength', u'high-toughness', u'aluminum', u'alloy', u'and', u'method', u'of', u'preparing', u'the', u'same', u'diffusion', u'bonding', u'of', u'high', u'purity', u'metals', u'and', u'metal', u'alloys', u'to', u'aluminum', u'backing', u'plates', u'using', u'nickel', u'or', u'nickel', u'alloy', u'interlayers', u'nanocrystalline', u'aluminum', u'alloy', u'metal', u'matrix', u'composites,', u'and', u'production', u'methods', u'high', u'strength', u'amorphous', u'aluminum-based', u'alloy', u'member', u'shape', u'memory', u'alloy', u'relays', u'and', u'switches', u'method', u'for', u'preparing', u'ultra-fine,', u'submicron', u'grain', u'titanium', u'and', u'titanium-alloy', u'articles', u'and', u'articles', u'prepared', u'thereby']\n"
     ]
    }
   ],
   "source": [
    "# document1 is a list of the title words in df_pat05\n",
    "\n",
    "title_word = [words for segments in df_pat05['title'] for words in segments.split()]\n",
    "document1 = [element.lower() for element in title_word]\n",
    "print (document1)"
   ]
  },
  {
   "cell_type": "markdown",
   "metadata": {},
   "source": [
    "### Calculating tf_idf by Mark Needham.  \n",
    "http://www.markhneedham.com/blog/2015/02/15/pythonscikit-learn-calculating-tfidf-on-how-i-met-your-mother-transcripts\n",
    "\n",
    "Python’s scikit-learn library gives you two ways to generate the TF/IDF representation:\n",
    "\n",
    "Generate a matrix of token/phrase counts from a collection of text documents using CountVectorizer and feed it to TfidfTransformer to generate the TF/IDF representation.\n",
    "Feed the collection of text documents directly to TfidfVectorizer and go straight to the TF/IDF representation skipping the middle man.\n",
    "\n",
    "I started out using the first approach and hadn’t quite got it working when I realised there was a much easier way!"
   ]
  },
  {
   "cell_type": "code",
   "execution_count": 15,
   "metadata": {
    "collapsed": false
   },
   "outputs": [
    {
     "data": {
      "text/plain": [
       "1206"
      ]
     },
     "execution_count": 15,
     "metadata": {},
     "output_type": "execute_result"
    }
   ],
   "source": [
    "from sklearn.feature_extraction.text import TfidfVectorizer\n",
    "tf = TfidfVectorizer(analyzer='word', ngram_range=(1,3), min_df = 0, stop_words = 'english')\n",
    "\n",
    "tfidf_matrix =  tf.fit_transform(document1)\n",
    "feature_names = tf.get_feature_names() \n",
    "len(feature_names)\n"
   ]
  },
  {
   "cell_type": "code",
   "execution_count": 16,
   "metadata": {
    "collapsed": false,
    "scrolled": true
   },
   "outputs": [
    {
     "name": "stdout",
     "output_type": "stream",
     "text": [
      "[u'10', u'20', u'625', u'6xxx', u'7000', u'80', u'80 20', u'a1', u'a1 n1', u'abrasive', u'absorbing', u'absorption', u'acid', u'acid electrolyte', u'acids', u'activated', u'activator', u'active', u'activity', u'actuated', u'actuation', u'actuator', u'actuators', u'adaptive', u'adhesion', u'adjusting', u'aerosol', u'ag', u'aging', u'air', u'aircraft', u'al', u'al li', u'al zn', u'al zn mg', u'alcohols', u'aligned', u'alkali', u'alkaline', u'alloy', u'alloy supported', u'alloys', u'alsb', u'alsb alloy', u'alternating', u'alumina', u'alumina zirconia', u'aluminium', u'aluminium magnesium', u'aluminum', u'aluminum alloy', u'aluminum based', u'aluminum copper', u'aluminum copper magnesium', u'aluminum lithium', u'aluminum magnesium', u'aluminum palladium', u'aluminum pvd', u'aluminum silicon', u'aluminum zinc', u'aluminum zinc magnesium', u'alznmgcu', u'ambient', u'ammonium', u'amorphous', u'aneurism', u'angioplasty', u'angle', u'anhydrides', u'anisotropic', u'annealing', u'annuloplasty', u'anode', u'antagonistic', u'anti', u'anti corrosive', u'anticoagulant', u'antimony', u'apparatus', u'appliance', u'application', u'applications', u'applied', u'applying', u'aqueous', u'arc', u'archwire', u'area', u'areas', u'arm', u'arrays', u'article', u'articles', u'articulator', u'artificial', u'artificially', u'assemblies', u'assembly', u'associated', u'atomization', u'atomized', u'attach', u'attenuation', u'au', u'au sn', u'au sn 80', u'automatically', u'automobiles', u'auxiliary', u'aviation', u'backing', u'balloon', u'band', u'barrier', u'barriers', u'base', u'based', u'basis', u'bath', u'baths', u'battery', u'beams', u'bearing', u'bending', u'biaxially', u'bilayered', u'billets', u'binder', u'binding', u'biocompatible', u'biopcompatible', u'bismuth', u'bit', u'bits', u'black', u'blade', u'blade type', u'blades', u'blank', u'block', u'board', u'body', u'bonded', u'bonding', u'bone', u'borescopes', u'boron', u'braid', u'braun', u'brazing', u'build', u'bulk', u'bulk solidifying', u'bumping', u'bumps', u'bypass', u'cab', u'cable', u'camera', u'capacitive', u'capacity', u'capping', u'carbide', u'carbide base', u'carbides', u'carbon', u'carbon manganese', u'carbon supported', u'carboxylic', u'carried', u'carrier', u'carriers', u'cast', u'casting', u'catalyst', u'catalysts', u'catalytic', u'catheter', u'cathode', u'cavity', u'cell', u'cells', u'cement', u'cement free', u'cemented', u'center', u'centered', u'centering', u'central', u'ceramic', u'ceramic plastic', u'cermet', u'characteristics', u'chemical', u'chemically', u'chip', u'chips', u'chrome', u'chromium', u'chromium aluminum', u'chromium free', u'chromium metalloid', u'chromium molybdenum', u'chromium titanium', u'circuit', u'circuits', u'clad', u'cladding', u'clads', u'clean', u'clip', u'club', u'clubs', u'coarse', u'coarse grain', u'coated', u'coating', u'coatings', u'cobalt', u'cobalt base', u'cobalt based', u'cobalt chromium', u'cobalt chromium molybdenum', u'cobalt vanadium', u'coercivity', u'coil', u'coking', u'cold', u'cold rolling', u'combinations', u'combining', u'combustion', u'commercial', u'compact', u'component', u'components', u'composite', u'composites', u'composition', u'compositions', u'compound', u'compressed', u'compressive', u'comprising', u'concentrator', u'conducting', u'conductive', u'conductor', u'coni', u'connect', u'connecting', u'connection', u'connector', u'consisting', u'constant', u'contact', u'container', u'containing', u'contains', u'continuous', u'control', u'controllable', u'controlled', u'controlling', u'conversion', u'cooled', u'copper', u'copper copper', u'copper magnesium', u'copper magnesium type', u'copper manganese', u'copper manganese zinc', u'copper nickel', u'copt', u'core', u'core shell', u'cores', u'correction', u'corrosion', u'corrosion wear', u'corrosion wear resistant', u'corrosive', u'coupler', u'coupling', u'cover', u'crack', u'creating', u'crystal', u'crystalline', u'crystalline mono', u'crystalline mono crystalline', u'crystallographic', u'crystals', u'cu', u'cu ag', u'cu au', u'cuff', u'cutting', u'cvd', u'cyanide', u'cyanide free', u'cycle', u'cylindrical', u'damage', u'damescene', u'data', u'debonding', u'decomposition', u'deformation', u'demand', u'densifying', u'density', u'deodorant', u'dependent', u'deployable', u'depositing', u'deposition', u'depositions', u'design', u'develop', u'device', u'devices', u'diamond', u'diamond coated', u'diboride', u'diboride titanium', u'die', u'dielectric', u'dielectric constant', u'diffusion', u'diffusion bonded', u'dimensional', u'direct', u'directionally', u'directly', u'disc', u'discontinuous', u'disk', u'dispersed', u'dispersing', u'dispersion', u'dispersion strengthened', u'dispersoids', u'displacement', u'display', u'disposition', u'dissolving', u'distributed', u'doped', u'doping', u'dram', u'drill', u'drive', u'driven', u'driving', u'dry', u'dual', u'dual phase', u'ductile', u'earing', u'effect', u'effectors', u'elastic', u'electrical', u'electrically', u'electrocatalyst', u'electrocatalysts', u'electrochemical', u'electrode', u'electrodeposited', u'electrodes', u'electroless', u'electrolyte', u'electromagnetic', u'electromigration', u'electronic', u'electroplating', u'electrostatic', u'element', u'elements', u'emitter', u'emitting', u'employing', u'encapsulated', u'end', u'endoscope', u'endoscopic', u'ends', u'engine', u'engines', u'enhanced', u'enhancement', u'enhancing', u'environmentally', u'equipment', u'especially', u'esters', u'etch', u'eutectic', u'evaporable', u'excellent', u'excelling', u'exchanger', u'exchangers', u'exfoliation', u'exhibiting', u'expandable', u'expanded', u'expanding', u'expansion', u'extended', u'fabricating', u'fabrication', u'failure', u'fastener', u'fastening', u'fatigue', u'fe', u'fe base', u'fe based', u'fe ni', u'fealmn', u'ferromagnetic', u'ferrous', u'fiber', u'fibers', u'fibrous', u'filler', u'filling', u'film', u'films', u'filter', u'fine', u'fixing', u'flexible', u'fluid', u'fluoropolymer', u'force', u'forged', u'form', u'formability', u'formation', u'formed', u'forming', u'fracture', u'frame', u'framed', u'frames', u'free', u'friction', u'fuel', u'fullerene', u'fused', u'galvanic', u'galvanized', u'gap', u'gas', u'gases', u'gate', u'gate data', u'generators', u'germanium', u'germanium carbon', u'gettering', u'glass', u'glass ceramic', u'glass ceramic plastic', u'glass glass', u'glass glass ceramic', u'gold', u'gold silicon', u'gold tin', u'golf', u'golf club', u'good', u'graft', u'grain', u'grains', u'graphite', u'group', u'growth', u'guide', u'guidewire', u'hafnium', u'haptic', u'haptic optic', u'hard', u'hard centered', u'hardfacing', u'hardness', u'having', u'head', u'heads', u'heat', u'heater', u'heaters', u'heating', u'heatsink', u'high', u'high density', u'high dielectric', u'high dielectric constant', u'high purity', u'high strength', u'high strength high', u'high toughness', u'hinge', u'holes', u'hollow', u'hose', u'hot', u'hydride', u'hydrocarbon', u'hydrogen', u'hydrogen absorbing', u'hydrogen purification', u'hydrogenation', u'hydrophilic', u'iii', u'imparting', u'implant', u'implantable', u'implanting', u'implants', u'improve', u'improved', u'improving', u'includes', u'including', u'incorporating', u'incremental', u'indium', u'infiltration', u'inflatable', u'information', u'ingot', u'initiation', u'ink', u'insert', u'inserting', u'insertion', u'inserts', u'instrument', u'instruments', u'insulating', u'insulator', u'insulator alloy', u'integrated', u'interconnect', u'interconnecting', u'interconnection', u'interconnections', u'interdiffusion', u'interface', u'interlayers', u'intermediate', u'internal', u'internally', u'intraocular', u'involving', u'ion', u'ion conductive', u'iron', u'iron based', u'iron carbon', u'iron carbon manganese', u'iron chromium', u'iron chromium aluminum', u'iron cobalt', u'iron cobalt vanadium', u'iron silicon', u'jet', u'joined', u'joint', u'junction', u'laminate', u'laparoscopic', u'large', u'laser', u'latch', u'layer', u'layered', u'layers', u'lead', u'lead free', u'lengthening', u'lens', u'li', u'lift', u'light', u'like', u'limb', u'limited', u'linear', u'liner', u'lines', u'liquid', u'liquid solid', u'lithium', u'loaded', u'local', u'lock', u'locking', u'long', u'low', u'low density', u'machinability', u'machine', u'magnesium', u'magnesium based', u'magnesium copper', u'magnesium type', u'magnet', u'magnetic', u'magnetoresistive', u'magnetorheological', u'magnetron', u'main', u'making', u'manganese', u'manganese zinc', u'manufacture', u'manufacturing', u'mask', u'mass', u'masses', u'material', u'materials', u'matrix', u'means', u'measuring', u'mechanical', u'mechanism', u'mechanisms', u'medical', u'medium', u'melting', u'member', u'members', u'membrane', u'membranes', u'memorizes', u'memory', u'mesh', u'metal', u'metal alloy', u'metal base', u'metal chromium', u'metal insulator', u'metal insulator alloy', u'metallic', u'metallization', u'metalloid', u'metallurgies', u'metals', u'method', u'methods', u'mg', u'mg si', u'micro', u'micro actuator', u'microactuator', u'microcomposite', u'microcrystalline', u'microelectronic', u'microetching', u'micromagnetic', u'micropump', u'microrelay', u'microvalve', u'migration', u'minimize', u'mixed', u'mixture', u'modified', u'modify', u'modulating', u'module', u'modulus', u'mold', u'molded', u'molten', u'molybdenum', u'molybdenum base', u'molybdenum tungsten', u'monitoring', u'mono', u'mono crystalline', u'monodisperse', u'morphology', u'mosfet', u'motion', u'motor', u'movable', u'mp35n', u'multi', u'multi alloy', u'multi component', u'multi layer', u'multi layered', u'multi metallic', u'multilayer', u'multiple', u'n1', u'nail', u'nanocrystal', u'nanocrystalline', u'nanofibers', u'nanoparticle', u'nanoparticles', u'nanoscale', u'nanotubes', u'nb', u'near', u'neutral', u'ni', u'ni ti', u'ni ti nb', u'ni ti pd', u'nickel', u'nickel base', u'nickel based', u'nickel chrome', u'nickel indium', u'nickel iron', u'nickel metal', u'nickel palladium', u'nickel palladium silicon', u'nickel titanium', u'nickel titanium based', u'nickel titanium copper', u'nickel titanium niobium', u'nickel titanium vanadium', u'niobium', u'niobium zirconium', u'nisi', u'nitinol', u'nitrate', u'nitride', u'nitrogen', u'noble', u'noble metal', u'noble metal insulator', u'noise', u'non', u'non evaporable', u'non magnetic', u'notably', u'novel', u'nozzle', u'nucleation', u'nut', u'objects', u'obtaining', u'occlusion', u'operation', u'ophthalmic', u'optic', u'optical', u'optically', u'optimization', u'order', u'organic', u'orienting', u'orthodontic', u'orthopaedic', u'orthopedic', u'orthophedic', u'output', u'oxidation', u'oxide', u'oxides', u'oxidic', u'package', u'packages', u'palladium', u'palladium alloy', u'palladium copper', u'palladium nickel', u'palladium silicon', u'panel', u'parallel', u'partially', u'particle', u'particle dispersion', u'particles', u'particulate', u'parts', u'patch', u'patterned', u'pd', u'peening', u'penetrating', u'performance', u'permanent', u'permeable', u'phase', u'phosphoric', u'phosphorus', u'photochemical', u'photovoltaic', u'physical', u'pin', u'pins', u'pixel', u'plasma', u'plastic', u'plastics', u'plate', u'plateable', u'plated', u'plates', u'plating', u'platinum', u'platinum aluminum', u'platinum cobalt', u'platinum copper', u'plug', u'point', u'polarized', u'polishing', u'polymer', u'polyurethane', u'porous', u'portions', u'positive', u'powder', u'powders', u'power', u'powered', u'practice', u'pre', u'pre coated', u'prealloyed', u'prealloyed premixed', u'precipitate', u'precursor', u'preload', u'premixed', u'preparation', u'prepared', u'preparing', u'press', u'pressure', u'preventing', u'printing', u'probe', u'process', u'processes', u'processing', u'produce', u'produced', u'producing', u'product', u'production', u'products', u'projectiles', u'properties', u'property', u'proportional', u'prosthesis', u'protective', u'pseudo', u'pseudoelastic', u'pull', u'pulsatile', u'pump', u'pure', u'purification', u'purifying', u'purity', u'pvd', u'quaternary', u'quick', u'radiation', u'radiator', u'raney', u'rapid', u'reacting', u'reactions', u'reactive', u'readable', u'rebotic', u'receiver', u'recording', u'recoverable', u'recovery', u'reduce', u'reduced', u'reduction', u'refined', u'reflectance', u'reflecting', u'reflection', u'reflection type', u'reflective', u'reflectors', u'refractory', u'regeneration', u'regulator', u'reinforced', u'reinforcement', u'reinforcing', u'related', u'relays', u'repair', u'repairing', u'residual', u'resistance', u'resistant', u'response', u'resulting', u'retainer', u'retrieval', u'reusable', u'reversible', u'ribbon', u'rigidity', u'rings', u'robust', u'rock', u'rod', u'rolling', u'rotary', u'rotating', u'rotor', u'rotors', u'rough', u'said', u'salt', u'sample', u'scalpel', u'scissors', u'scrap', u'sealing', u'seat', u'secondary', u'section', u'seed', u'selected', u'selective', u'selectively', u'self', u'self aligned', u'self expandable', u'self expanding', u'semi', u'semi solid', u'semiconductor', u'semicrystalline', u'sensitive', u'separate', u'separation', u'shadow', u'shaft', u'shape', u'shape memory', u'shapes', u'shaping', u'sheath', u'sheathable', u'sheet', u'shell', u'shield', u'shielding', u'shock', u'si', u'silicide', u'silicon', u'silicon germanium', u'silicon germanium carbon', u'silion', u'silion germanium', u'silver', u'silver copper', u'silver palladium', u'silver tin', u'sim', u'single', u'sink', u'sintered', u'sintering', u'site', u'skeleton', u'skin', u'slider', u'sn', u'sn 80', u'sn 80 20', u'soft', u'solar', u'solder', u'sole', u'solid', u'solid solid', u'solidified', u'solidifying', u'solution', u'solutions', u'sorption', u'spacer', u'spark', u'spatially', u'specific', u'spectral', u'spheroidal', u'spin', u'spiral', u'spray', u'spreader', u'spring', u'spring loaded', u'springs', u'sputter', u'sputtered', u'sputtering', u'squareness', u'stability', u'stable', u'stainless', u'stainless steel', u'staple', u'state', u'stators', u'steel', u'steel bonded', u'steerable', u'stent', u'stent graft', u'stents', u'stock', u'stop', u'storage', u'strength', u'strength high', u'strength high toughness', u'strengthened', u'stresses', u'strike', u'strip', u'structure', u'structured', u'structures', u'submicron', u'substance', u'substrate', u'substrates', u'suitable', u'suited', u'super', u'super elastic', u'superalloy', u'superconducting', u'superconductors', u'superelastic', u'superlastic', u'superplastically', u'superposed', u'support', u'supported', u'supporting', u'surface', u'surface refined', u'surfaces', u'surgical', u'surround', u'susceptible', u'susceptor', u'switches', u'synthesis', u'synthesizing', u'systems', u'target', u'targets', u'technique', u'technology', u'temperature', u'tendons', u'terminals', u'ternary', u'testing', u'texture', u'textured', u'therefor', u'therefrom', u'thereof', u'thereon', u'thermal', u'thermoplastic', u'thickness', u'ti', u'ti nb', u'ti pd', u'ti zr', u'tin', u'tin bismuth', u'tin lead', u'tin silver', u'tin silver copper', u'tip', u'titanium', u'titanium alloy', u'titanium aluminum', u'titanium based', u'titanium copper', u'titanium niobium', u'titanium niobium zirconium', u'titanium titanium', u'titanium vanadium', u'tm', u'tm polarized', u'tolerant', u'tool', u'tough', u'toughness', u'toy', u'track', u'transducer', u'transformation', u'transition', u'transmetalation', u'transmission', u'treated', u'treating', u'treatment', u'treatments', u'trenches', u'tube', u'tubes', u'tungsten', u'tungsten nickel', u'tungsten nickel iron', u'tunneling', u'turbine', u'twitch', u'type', u'ultra', u'ultra fine', u'ultrasonic', u'ultrasound', u'underlayer', u'unit', u'unpatterned', u'upper', u'use', u'used', u'useful', u'uses', u'using', u'utilized', u'utilizing', u'vacuum', u'vacuum brazing', u'valve', u'valvular', u'vanadium', u'vapor', u'variable', u'vascular', u'vehicles', u'vessel', u'vivo', u'vlsi', u'volatile', u'volatilizable', u'wallpaper', u'water', u'way', u'wear', u'wear resistant', u'weld', u'weldable', u'welded', u'welder', u'welding', u'wetting', u'wheel', u'wheels', u'whisker', u'whisker free', u'widening', u'wing', u'wire', u'wires', u'wiring', u'wood', u'wood type', u'working', u'writable', u'write', u'wrought', u'wt', u'zinc', u'zinc alloy', u'zinc antimony', u'zinc magnesium', u'zinc magnesium copper', u'zinc nickel', u'zirconia', u'zirconium', u'zirconium niobium', u'zn', u'zn mg', u'zn mg si', u'zone', u'zr']\n"
     ]
    }
   ],
   "source": [
    "print (feature_names)"
   ]
  },
  {
   "cell_type": "code",
   "execution_count": 17,
   "metadata": {
    "collapsed": false
   },
   "outputs": [
    {
     "data": {
      "text/plain": [
       "<5024x1206 sparse matrix of type '<type 'numpy.float64'>'\n",
       "\twith 4348 stored elements in Compressed Sparse Row format>"
      ]
     },
     "execution_count": 17,
     "metadata": {},
     "output_type": "execute_result"
    }
   ],
   "source": [
    "tfidf_matrix"
   ]
  },
  {
   "cell_type": "code",
   "execution_count": 18,
   "metadata": {
    "collapsed": false
   },
   "outputs": [
    {
     "data": {
      "text/plain": [
       "1206"
      ]
     },
     "execution_count": 18,
     "metadata": {},
     "output_type": "execute_result"
    }
   ],
   "source": [
    "dense = tfidf_matrix.todense()\n",
    "len(dense[0].tolist()[0])"
   ]
  },
  {
   "cell_type": "code",
   "execution_count": 19,
   "metadata": {
    "collapsed": false
   },
   "outputs": [
    {
     "data": {
      "text/plain": [
       "1"
      ]
     },
     "execution_count": 19,
     "metadata": {},
     "output_type": "execute_result"
    }
   ],
   "source": [
    "episode = dense[0].tolist()[0]\n",
    "phrase_scores = [pair for pair in zip(range(0, len(episode)), episode) if pair[1] > 0]\n",
    " \n",
    "len(phrase_scores)"
   ]
  },
  {
   "cell_type": "code",
   "execution_count": 20,
   "metadata": {
    "collapsed": false
   },
   "outputs": [
    {
     "data": {
      "text/plain": [
       "[(634, 1.0)]"
      ]
     },
     "execution_count": 20,
     "metadata": {},
     "output_type": "execute_result"
    }
   ],
   "source": [
    "sorted(phrase_scores, key=lambda t: t[1] * -1)[:5]"
   ]
  },
  {
   "cell_type": "code",
   "execution_count": 21,
   "metadata": {
    "collapsed": false
   },
   "outputs": [
    {
     "data": {
      "text/plain": [
       "u'medical'"
      ]
     },
     "execution_count": 21,
     "metadata": {},
     "output_type": "execute_result"
    }
   ],
   "source": [
    "feature_names[634]"
   ]
  },
  {
   "cell_type": "markdown",
   "metadata": {},
   "source": [
    "### Count vectorizer and tf_df with:  Ultraviolet Analytics    --- use top 5% of patents \n",
    "\n",
    "#### http://www.ultravioletanalytics.com/2016/11/18/tf-idf-basics-with-pandas-scikit-learn/"
   ]
  },
  {
   "cell_type": "code",
   "execution_count": 22,
   "metadata": {
    "collapsed": false
   },
   "outputs": [
    {
     "data": {
      "text/plain": [
       "CountVectorizer(analyzer=u'word', binary=False, decode_error=u'strict',\n",
       "        dtype=<type 'numpy.int64'>, encoding=u'utf-8', input=u'content',\n",
       "        lowercase=True, max_df=0.5, max_features=None, min_df=1,\n",
       "        ngram_range=(1, 2), preprocessor=None, stop_words='english',\n",
       "        strip_accents=None, token_pattern=u'(?u)\\\\b\\\\w\\\\w+\\\\b',\n",
       "        tokenizer=None, vocabulary=None)"
      ]
     },
     "execution_count": 22,
     "metadata": {},
     "output_type": "execute_result"
    }
   ],
   "source": [
    "# Starting with the CountVectorizer/TfidfTransformer approach...\n",
    "\n",
    "from sklearn.feature_extraction.text import CountVectorizer\n",
    "from sklearn.feature_extraction.text import TfidfTransformer\n",
    "\n",
    "cvec = CountVectorizer(stop_words='english', min_df=1, max_df=.5, ngram_range=(1,2))\n",
    "cvec"
   ]
  },
  {
   "cell_type": "code",
   "execution_count": 23,
   "metadata": {
    "collapsed": false
   },
   "outputs": [
    {
     "data": {
      "text/plain": [
       "[(u'matrix structure', 1874),\n",
       " (u'limited', 1736),\n",
       " (u'method producing', 2007),\n",
       " (u'layer block', 1687),\n",
       " (u'gate mosfet', 1393),\n",
       " (u'blades titanium', 529),\n",
       " (u'magnetic', 1789),\n",
       " (u'transducer carried', 3097),\n",
       " (u'implants', 1561),\n",
       " (u'powders', 2362),\n",
       " (u'extended molybdenum', 1236),\n",
       " (u'valve shape', 3217),\n",
       " (u'growth nanotubes', 1427),\n",
       " (u'device using', 1005),\n",
       " (u'sputtered', 2841),\n",
       " (u'material comprising', 1846),\n",
       " (u'alloy method', 210),\n",
       " (u'matrix microcomposite', 1872),\n",
       " (u'having matrix', 1463),\n",
       " (u'minimize electromigration', 2047),\n",
       " (u'microetching', 2036),\n",
       " (u'process powder', 2426),\n",
       " (u'alloy internal', 192),\n",
       " (u'nickel iron', 2145),\n",
       " (u'sputter', 2838),\n",
       " (u'protective layer', 2504),\n",
       " (u'alternating', 304),\n",
       " (u'alloy blade', 101),\n",
       " (u'having specific', 1471),\n",
       " (u'shielding', 2735),\n",
       " (u'electroless plating', 1133),\n",
       " (u'method heat', 1991),\n",
       " (u'titanium diboride', 3074),\n",
       " (u'amorphous', 340),\n",
       " (u'method formation', 1989),\n",
       " (u'devices utilizing', 1014),\n",
       " (u'molybdenum base', 2075),\n",
       " (u'compositions selected', 795),\n",
       " (u'superconducting fullerene', 2947),\n",
       " (u'deployable sheathable', 977),\n",
       " (u'internally', 1644),\n",
       " (u'heat sink', 1489),\n",
       " (u'method artificially', 1973),\n",
       " (u'incorporating noble', 1584),\n",
       " (u'enhanced corrosion', 1194),\n",
       " (u'solution', 2809),\n",
       " (u'implanting', 1559),\n",
       " (u'comprising', 802),\n",
       " (u'alloy bumping', 107),\n",
       " (u'mg si', 2025)]"
      ]
     },
     "execution_count": 23,
     "metadata": {},
     "output_type": "execute_result"
    }
   ],
   "source": [
    "# Calculate all the n-grams found in all documents\n",
    "\n",
    "from itertools import islice\n",
    "cvec.fit(df_pat05['title'])\n",
    "list(islice(cvec.vocabulary_.items(), 50))\n"
   ]
  },
  {
   "cell_type": "code",
   "execution_count": 24,
   "metadata": {
    "collapsed": false
   },
   "outputs": [
    {
     "data": {
      "text/plain": [
       "3315"
      ]
     },
     "execution_count": 24,
     "metadata": {},
     "output_type": "execute_result"
    }
   ],
   "source": [
    "# Check how many 2_grams are in the list above. \n",
    "\n",
    "len(cvec.vocabulary_)"
   ]
  },
  {
   "cell_type": "code",
   "execution_count": 25,
   "metadata": {
    "collapsed": false
   },
   "outputs": [
    {
     "name": "stdout",
     "output_type": "stream",
     "text": [
      "sparse matrix shape: (502, 3315)\n",
      "nonzero count: 6920\n",
      "sparsity: 0.42%\n"
     ]
    }
   ],
   "source": [
    "# A separate column for each term containing the count within each document. \n",
    "\n",
    "cvec_counts = cvec.transform(df_pat05['title'])\n",
    "print 'sparse matrix shape:', cvec_counts.shape\n",
    "print 'nonzero count:', cvec_counts.nnz\n",
    "print 'sparsity: %.2f%%' % (100.0 * cvec_counts.nnz / (cvec_counts.shape[0] * cvec_counts.shape[1]))"
   ]
  },
  {
   "cell_type": "code",
   "execution_count": 61,
   "metadata": {
    "collapsed": false
   },
   "outputs": [
    {
     "data": {
      "text/html": [
       "<div>\n",
       "<table border=\"1\" class=\"dataframe\">\n",
       "  <thead>\n",
       "    <tr style=\"text-align: right;\">\n",
       "      <th></th>\n",
       "      <th>occurrences</th>\n",
       "      <th>term</th>\n",
       "    </tr>\n",
       "  </thead>\n",
       "  <tbody>\n",
       "    <tr>\n",
       "      <th>1969</th>\n",
       "      <td>131</td>\n",
       "      <td>method</td>\n",
       "    </tr>\n",
       "    <tr>\n",
       "      <th>1922</th>\n",
       "      <td>100</td>\n",
       "      <td>memory</td>\n",
       "    </tr>\n",
       "    <tr>\n",
       "      <th>2714</th>\n",
       "      <td>97</td>\n",
       "      <td>shape</td>\n",
       "    </tr>\n",
       "    <tr>\n",
       "      <th>1923</th>\n",
       "      <td>94</td>\n",
       "      <td>memory alloy</td>\n",
       "    </tr>\n",
       "    <tr>\n",
       "      <th>2716</th>\n",
       "      <td>94</td>\n",
       "      <td>shape memory</td>\n",
       "    </tr>\n",
       "    <tr>\n",
       "      <th>313</th>\n",
       "      <td>80</td>\n",
       "      <td>aluminum</td>\n",
       "    </tr>\n",
       "    <tr>\n",
       "      <th>1931</th>\n",
       "      <td>76</td>\n",
       "      <td>metal</td>\n",
       "    </tr>\n",
       "    <tr>\n",
       "      <th>1501</th>\n",
       "      <td>59</td>\n",
       "      <td>high</td>\n",
       "    </tr>\n",
       "    <tr>\n",
       "      <th>315</th>\n",
       "      <td>53</td>\n",
       "      <td>aluminum alloy</td>\n",
       "    </tr>\n",
       "    <tr>\n",
       "      <th>2406</th>\n",
       "      <td>49</td>\n",
       "      <td>process</td>\n",
       "    </tr>\n",
       "    <tr>\n",
       "      <th>1446</th>\n",
       "      <td>46</td>\n",
       "      <td>having</td>\n",
       "    </tr>\n",
       "    <tr>\n",
       "      <th>3068</th>\n",
       "      <td>46</td>\n",
       "      <td>titanium</td>\n",
       "    </tr>\n",
       "    <tr>\n",
       "      <th>1683</th>\n",
       "      <td>38</td>\n",
       "      <td>layer</td>\n",
       "    </tr>\n",
       "    <tr>\n",
       "      <th>1932</th>\n",
       "      <td>38</td>\n",
       "      <td>metal alloy</td>\n",
       "    </tr>\n",
       "    <tr>\n",
       "      <th>880</th>\n",
       "      <td>37</td>\n",
       "      <td>copper</td>\n",
       "    </tr>\n",
       "    <tr>\n",
       "      <th>3190</th>\n",
       "      <td>31</td>\n",
       "      <td>using</td>\n",
       "    </tr>\n",
       "    <tr>\n",
       "      <th>2449</th>\n",
       "      <td>31</td>\n",
       "      <td>producing</td>\n",
       "    </tr>\n",
       "    <tr>\n",
       "      <th>1789</th>\n",
       "      <td>30</td>\n",
       "      <td>magnetic</td>\n",
       "    </tr>\n",
       "    <tr>\n",
       "      <th>1844</th>\n",
       "      <td>30</td>\n",
       "      <td>material</td>\n",
       "    </tr>\n",
       "    <tr>\n",
       "      <th>3069</th>\n",
       "      <td>30</td>\n",
       "      <td>titanium alloy</td>\n",
       "    </tr>\n",
       "    <tr>\n",
       "      <th>2883</th>\n",
       "      <td>26</td>\n",
       "      <td>strength</td>\n",
       "    </tr>\n",
       "    <tr>\n",
       "      <th>1517</th>\n",
       "      <td>25</td>\n",
       "      <td>high strength</td>\n",
       "    </tr>\n",
       "    <tr>\n",
       "      <th>2139</th>\n",
       "      <td>25</td>\n",
       "      <td>nickel</td>\n",
       "    </tr>\n",
       "    <tr>\n",
       "      <th>993</th>\n",
       "      <td>24</td>\n",
       "      <td>device</td>\n",
       "    </tr>\n",
       "    <tr>\n",
       "      <th>340</th>\n",
       "      <td>23</td>\n",
       "      <td>amorphous</td>\n",
       "    </tr>\n",
       "    <tr>\n",
       "      <th>2007</th>\n",
       "      <td>22</td>\n",
       "      <td>method producing</td>\n",
       "    </tr>\n",
       "    <tr>\n",
       "      <th>840</th>\n",
       "      <td>21</td>\n",
       "      <td>containing</td>\n",
       "    </tr>\n",
       "    <tr>\n",
       "      <th>210</th>\n",
       "      <td>19</td>\n",
       "      <td>alloy method</td>\n",
       "    </tr>\n",
       "    <tr>\n",
       "      <th>371</th>\n",
       "      <td>19</td>\n",
       "      <td>apparatus</td>\n",
       "    </tr>\n",
       "    <tr>\n",
       "      <th>1006</th>\n",
       "      <td>19</td>\n",
       "      <td>devices</td>\n",
       "    </tr>\n",
       "    <tr>\n",
       "      <th>1828</th>\n",
       "      <td>19</td>\n",
       "      <td>manufacturing</td>\n",
       "    </tr>\n",
       "    <tr>\n",
       "      <th>1763</th>\n",
       "      <td>18</td>\n",
       "      <td>low</td>\n",
       "    </tr>\n",
       "    <tr>\n",
       "      <th>43</th>\n",
       "      <td>18</td>\n",
       "      <td>actuator</td>\n",
       "    </tr>\n",
       "    <tr>\n",
       "      <th>2689</th>\n",
       "      <td>18</td>\n",
       "      <td>semiconductor</td>\n",
       "    </tr>\n",
       "    <tr>\n",
       "      <th>881</th>\n",
       "      <td>17</td>\n",
       "      <td>copper alloy</td>\n",
       "    </tr>\n",
       "    <tr>\n",
       "      <th>3056</th>\n",
       "      <td>16</td>\n",
       "      <td>tin</td>\n",
       "    </tr>\n",
       "    <tr>\n",
       "      <th>1811</th>\n",
       "      <td>16</td>\n",
       "      <td>making</td>\n",
       "    </tr>\n",
       "    <tr>\n",
       "      <th>410</th>\n",
       "      <td>16</td>\n",
       "      <td>article</td>\n",
       "    </tr>\n",
       "    <tr>\n",
       "      <th>418</th>\n",
       "      <td>16</td>\n",
       "      <td>articles</td>\n",
       "    </tr>\n",
       "    <tr>\n",
       "      <th>476</th>\n",
       "      <td>16</td>\n",
       "      <td>based</td>\n",
       "    </tr>\n",
       "    <tr>\n",
       "      <th>2744</th>\n",
       "      <td>16</td>\n",
       "      <td>silicon</td>\n",
       "    </tr>\n",
       "    <tr>\n",
       "      <th>3145</th>\n",
       "      <td>15</td>\n",
       "      <td>type</td>\n",
       "    </tr>\n",
       "    <tr>\n",
       "      <th>737</th>\n",
       "      <td>15</td>\n",
       "      <td>cobalt</td>\n",
       "    </tr>\n",
       "    <tr>\n",
       "      <th>1297</th>\n",
       "      <td>14</td>\n",
       "      <td>films</td>\n",
       "    </tr>\n",
       "    <tr>\n",
       "      <th>1777</th>\n",
       "      <td>14</td>\n",
       "      <td>magnesium</td>\n",
       "    </tr>\n",
       "    <tr>\n",
       "      <th>1343</th>\n",
       "      <td>14</td>\n",
       "      <td>forming</td>\n",
       "    </tr>\n",
       "    <tr>\n",
       "      <th>2472</th>\n",
       "      <td>14</td>\n",
       "      <td>production</td>\n",
       "    </tr>\n",
       "    <tr>\n",
       "      <th>2389</th>\n",
       "      <td>14</td>\n",
       "      <td>preparing</td>\n",
       "    </tr>\n",
       "    <tr>\n",
       "      <th>686</th>\n",
       "      <td>14</td>\n",
       "      <td>chromium</td>\n",
       "    </tr>\n",
       "    <tr>\n",
       "      <th>1790</th>\n",
       "      <td>14</td>\n",
       "      <td>magnetic alloy</td>\n",
       "    </tr>\n",
       "  </tbody>\n",
       "</table>\n",
       "</div>"
      ],
      "text/plain": [
       "      occurrences              term\n",
       "1969          131            method\n",
       "1922          100            memory\n",
       "2714           97             shape\n",
       "1923           94      memory alloy\n",
       "2716           94      shape memory\n",
       "313            80          aluminum\n",
       "1931           76             metal\n",
       "1501           59              high\n",
       "315            53    aluminum alloy\n",
       "2406           49           process\n",
       "1446           46            having\n",
       "3068           46          titanium\n",
       "1683           38             layer\n",
       "1932           38       metal alloy\n",
       "880            37            copper\n",
       "3190           31             using\n",
       "2449           31         producing\n",
       "1789           30          magnetic\n",
       "1844           30          material\n",
       "3069           30    titanium alloy\n",
       "2883           26          strength\n",
       "1517           25     high strength\n",
       "2139           25            nickel\n",
       "993            24            device\n",
       "340            23         amorphous\n",
       "2007           22  method producing\n",
       "840            21        containing\n",
       "210            19      alloy method\n",
       "371            19         apparatus\n",
       "1006           19           devices\n",
       "1828           19     manufacturing\n",
       "1763           18               low\n",
       "43             18          actuator\n",
       "2689           18     semiconductor\n",
       "881            17      copper alloy\n",
       "3056           16               tin\n",
       "1811           16            making\n",
       "410            16           article\n",
       "418            16          articles\n",
       "476            16             based\n",
       "2744           16           silicon\n",
       "3145           15              type\n",
       "737            15            cobalt\n",
       "1297           14             films\n",
       "1777           14         magnesium\n",
       "1343           14           forming\n",
       "2472           14        production\n",
       "2389           14         preparing\n",
       "686            14          chromium\n",
       "1790           14    magnetic alloy"
      ]
     },
     "execution_count": 61,
     "metadata": {},
     "output_type": "execute_result"
    }
   ],
   "source": [
    "# Find the most common words.  \n",
    "\n",
    "occ = np.asarray(cvec_counts.sum(axis=0)).ravel().tolist()\n",
    "counts_df = pd.DataFrame({'term': cvec.get_feature_names(), 'occurrences': occ})\n",
    "counts_df.sort_values(by='occurrences', ascending=False).head(50)"
   ]
  },
  {
   "cell_type": "code",
   "execution_count": 27,
   "metadata": {
    "collapsed": false
   },
   "outputs": [
    {
     "data": {
      "text/plain": [
       "<502x3315 sparse matrix of type '<type 'numpy.float64'>'\n",
       "\twith 6920 stored elements in Compressed Sparse Row format>"
      ]
     },
     "execution_count": 27,
     "metadata": {},
     "output_type": "execute_result"
    }
   ],
   "source": [
    "# Use tf_idf to calcualte the weights of each term in each document. \n",
    "\n",
    "transformer = TfidfTransformer()\n",
    "transformed_weights = transformer.fit_transform(cvec_counts)\n",
    "transformed_weights"
   ]
  },
  {
   "cell_type": "code",
   "execution_count": 62,
   "metadata": {
    "collapsed": false
   },
   "outputs": [
    {
     "data": {
      "text/html": [
       "<div>\n",
       "<table border=\"1\" class=\"dataframe\">\n",
       "  <thead>\n",
       "    <tr style=\"text-align: right;\">\n",
       "      <th></th>\n",
       "      <th>term</th>\n",
       "      <th>weight</th>\n",
       "    </tr>\n",
       "  </thead>\n",
       "  <tbody>\n",
       "    <tr>\n",
       "      <th>1922</th>\n",
       "      <td>memory</td>\n",
       "      <td>0.031973</td>\n",
       "    </tr>\n",
       "    <tr>\n",
       "      <th>1923</th>\n",
       "      <td>memory alloy</td>\n",
       "      <td>0.031290</td>\n",
       "    </tr>\n",
       "    <tr>\n",
       "      <th>2714</th>\n",
       "      <td>shape</td>\n",
       "      <td>0.031249</td>\n",
       "    </tr>\n",
       "    <tr>\n",
       "      <th>2716</th>\n",
       "      <td>shape memory</td>\n",
       "      <td>0.030839</td>\n",
       "    </tr>\n",
       "    <tr>\n",
       "      <th>1969</th>\n",
       "      <td>method</td>\n",
       "      <td>0.030313</td>\n",
       "    </tr>\n",
       "    <tr>\n",
       "      <th>313</th>\n",
       "      <td>aluminum</td>\n",
       "      <td>0.025008</td>\n",
       "    </tr>\n",
       "    <tr>\n",
       "      <th>1931</th>\n",
       "      <td>metal</td>\n",
       "      <td>0.020859</td>\n",
       "    </tr>\n",
       "    <tr>\n",
       "      <th>315</th>\n",
       "      <td>aluminum alloy</td>\n",
       "      <td>0.019193</td>\n",
       "    </tr>\n",
       "    <tr>\n",
       "      <th>1501</th>\n",
       "      <td>high</td>\n",
       "      <td>0.018586</td>\n",
       "    </tr>\n",
       "    <tr>\n",
       "      <th>3068</th>\n",
       "      <td>titanium</td>\n",
       "      <td>0.017728</td>\n",
       "    </tr>\n",
       "    <tr>\n",
       "      <th>2406</th>\n",
       "      <td>process</td>\n",
       "      <td>0.016678</td>\n",
       "    </tr>\n",
       "    <tr>\n",
       "      <th>880</th>\n",
       "      <td>copper</td>\n",
       "      <td>0.014957</td>\n",
       "    </tr>\n",
       "    <tr>\n",
       "      <th>1932</th>\n",
       "      <td>metal alloy</td>\n",
       "      <td>0.013377</td>\n",
       "    </tr>\n",
       "    <tr>\n",
       "      <th>3069</th>\n",
       "      <td>titanium alloy</td>\n",
       "      <td>0.012940</td>\n",
       "    </tr>\n",
       "    <tr>\n",
       "      <th>1446</th>\n",
       "      <td>having</td>\n",
       "      <td>0.012882</td>\n",
       "    </tr>\n",
       "    <tr>\n",
       "      <th>43</th>\n",
       "      <td>actuator</td>\n",
       "      <td>0.012125</td>\n",
       "    </tr>\n",
       "    <tr>\n",
       "      <th>2449</th>\n",
       "      <td>producing</td>\n",
       "      <td>0.011776</td>\n",
       "    </tr>\n",
       "    <tr>\n",
       "      <th>1683</th>\n",
       "      <td>layer</td>\n",
       "      <td>0.010807</td>\n",
       "    </tr>\n",
       "    <tr>\n",
       "      <th>1789</th>\n",
       "      <td>magnetic</td>\n",
       "      <td>0.010794</td>\n",
       "    </tr>\n",
       "    <tr>\n",
       "      <th>2883</th>\n",
       "      <td>strength</td>\n",
       "      <td>0.010628</td>\n",
       "    </tr>\n",
       "    <tr>\n",
       "      <th>3190</th>\n",
       "      <td>using</td>\n",
       "      <td>0.010445</td>\n",
       "    </tr>\n",
       "    <tr>\n",
       "      <th>1517</th>\n",
       "      <td>high strength</td>\n",
       "      <td>0.010350</td>\n",
       "    </tr>\n",
       "    <tr>\n",
       "      <th>340</th>\n",
       "      <td>amorphous</td>\n",
       "      <td>0.010236</td>\n",
       "    </tr>\n",
       "    <tr>\n",
       "      <th>1844</th>\n",
       "      <td>material</td>\n",
       "      <td>0.009947</td>\n",
       "    </tr>\n",
       "    <tr>\n",
       "      <th>2139</th>\n",
       "      <td>nickel</td>\n",
       "      <td>0.009929</td>\n",
       "    </tr>\n",
       "    <tr>\n",
       "      <th>210</th>\n",
       "      <td>alloy method</td>\n",
       "      <td>0.009590</td>\n",
       "    </tr>\n",
       "    <tr>\n",
       "      <th>2007</th>\n",
       "      <td>method producing</td>\n",
       "      <td>0.009517</td>\n",
       "    </tr>\n",
       "    <tr>\n",
       "      <th>993</th>\n",
       "      <td>device</td>\n",
       "      <td>0.009316</td>\n",
       "    </tr>\n",
       "    <tr>\n",
       "      <th>88</th>\n",
       "      <td>alloy actuator</td>\n",
       "      <td>0.008568</td>\n",
       "    </tr>\n",
       "    <tr>\n",
       "      <th>881</th>\n",
       "      <td>copper alloy</td>\n",
       "      <td>0.008484</td>\n",
       "    </tr>\n",
       "    <tr>\n",
       "      <th>1006</th>\n",
       "      <td>devices</td>\n",
       "      <td>0.008413</td>\n",
       "    </tr>\n",
       "    <tr>\n",
       "      <th>1828</th>\n",
       "      <td>manufacturing</td>\n",
       "      <td>0.008351</td>\n",
       "    </tr>\n",
       "    <tr>\n",
       "      <th>371</th>\n",
       "      <td>apparatus</td>\n",
       "      <td>0.007900</td>\n",
       "    </tr>\n",
       "    <tr>\n",
       "      <th>410</th>\n",
       "      <td>article</td>\n",
       "      <td>0.007678</td>\n",
       "    </tr>\n",
       "    <tr>\n",
       "      <th>840</th>\n",
       "      <td>containing</td>\n",
       "      <td>0.007509</td>\n",
       "    </tr>\n",
       "    <tr>\n",
       "      <th>2689</th>\n",
       "      <td>semiconductor</td>\n",
       "      <td>0.007270</td>\n",
       "    </tr>\n",
       "    <tr>\n",
       "      <th>418</th>\n",
       "      <td>articles</td>\n",
       "      <td>0.007221</td>\n",
       "    </tr>\n",
       "    <tr>\n",
       "      <th>476</th>\n",
       "      <td>based</td>\n",
       "      <td>0.006976</td>\n",
       "    </tr>\n",
       "    <tr>\n",
       "      <th>1999</th>\n",
       "      <td>method manufacturing</td>\n",
       "      <td>0.006835</td>\n",
       "    </tr>\n",
       "    <tr>\n",
       "      <th>1887</th>\n",
       "      <td>medical</td>\n",
       "      <td>0.006817</td>\n",
       "    </tr>\n",
       "    <tr>\n",
       "      <th>1811</th>\n",
       "      <td>making</td>\n",
       "      <td>0.006689</td>\n",
       "    </tr>\n",
       "    <tr>\n",
       "      <th>1763</th>\n",
       "      <td>low</td>\n",
       "      <td>0.006638</td>\n",
       "    </tr>\n",
       "    <tr>\n",
       "      <th>2610</th>\n",
       "      <td>resistant</td>\n",
       "      <td>0.006603</td>\n",
       "    </tr>\n",
       "    <tr>\n",
       "      <th>341</th>\n",
       "      <td>amorphous alloy</td>\n",
       "      <td>0.006482</td>\n",
       "    </tr>\n",
       "    <tr>\n",
       "      <th>2472</th>\n",
       "      <td>production</td>\n",
       "      <td>0.006442</td>\n",
       "    </tr>\n",
       "    <tr>\n",
       "      <th>737</th>\n",
       "      <td>cobalt</td>\n",
       "      <td>0.006439</td>\n",
       "    </tr>\n",
       "    <tr>\n",
       "      <th>686</th>\n",
       "      <td>chromium</td>\n",
       "      <td>0.006351</td>\n",
       "    </tr>\n",
       "    <tr>\n",
       "      <th>1790</th>\n",
       "      <td>magnetic alloy</td>\n",
       "      <td>0.006154</td>\n",
       "    </tr>\n",
       "    <tr>\n",
       "      <th>1287</th>\n",
       "      <td>film</td>\n",
       "      <td>0.006138</td>\n",
       "    </tr>\n",
       "    <tr>\n",
       "      <th>1343</th>\n",
       "      <td>forming</td>\n",
       "      <td>0.006113</td>\n",
       "    </tr>\n",
       "  </tbody>\n",
       "</table>\n",
       "</div>"
      ],
      "text/plain": [
       "                      term    weight\n",
       "1922                memory  0.031973\n",
       "1923          memory alloy  0.031290\n",
       "2714                 shape  0.031249\n",
       "2716          shape memory  0.030839\n",
       "1969                method  0.030313\n",
       "313               aluminum  0.025008\n",
       "1931                 metal  0.020859\n",
       "315         aluminum alloy  0.019193\n",
       "1501                  high  0.018586\n",
       "3068              titanium  0.017728\n",
       "2406               process  0.016678\n",
       "880                 copper  0.014957\n",
       "1932           metal alloy  0.013377\n",
       "3069        titanium alloy  0.012940\n",
       "1446                having  0.012882\n",
       "43                actuator  0.012125\n",
       "2449             producing  0.011776\n",
       "1683                 layer  0.010807\n",
       "1789              magnetic  0.010794\n",
       "2883              strength  0.010628\n",
       "3190                 using  0.010445\n",
       "1517         high strength  0.010350\n",
       "340              amorphous  0.010236\n",
       "1844              material  0.009947\n",
       "2139                nickel  0.009929\n",
       "210           alloy method  0.009590\n",
       "2007      method producing  0.009517\n",
       "993                 device  0.009316\n",
       "88          alloy actuator  0.008568\n",
       "881           copper alloy  0.008484\n",
       "1006               devices  0.008413\n",
       "1828         manufacturing  0.008351\n",
       "371              apparatus  0.007900\n",
       "410                article  0.007678\n",
       "840             containing  0.007509\n",
       "2689         semiconductor  0.007270\n",
       "418               articles  0.007221\n",
       "476                  based  0.006976\n",
       "1999  method manufacturing  0.006835\n",
       "1887               medical  0.006817\n",
       "1811                making  0.006689\n",
       "1763                   low  0.006638\n",
       "2610             resistant  0.006603\n",
       "341        amorphous alloy  0.006482\n",
       "2472            production  0.006442\n",
       "737                 cobalt  0.006439\n",
       "686               chromium  0.006351\n",
       "1790        magnetic alloy  0.006154\n",
       "1287                  film  0.006138\n",
       "1343               forming  0.006113"
      ]
     },
     "execution_count": 62,
     "metadata": {},
     "output_type": "execute_result"
    }
   ],
   "source": [
    "# The top 20 terms by average tf-idf weight.\n",
    "\n",
    "weights = np.asarray(transformed_weights.mean(axis=0)).ravel().tolist()\n",
    "weights_df = pd.DataFrame({'term': cvec.get_feature_names(), 'weight': weights})\n",
    "weights_df.sort_values(by='weight', ascending=False).head(50)"
   ]
  },
  {
   "cell_type": "code",
   "execution_count": null,
   "metadata": {
    "collapsed": true
   },
   "outputs": [],
   "source": [
    "# In a future post, we’ll take a look at how to take this tf-idf weight matrix and feed it into a predictive model."
   ]
  },
  {
   "cell_type": "markdown",
   "metadata": {
    "collapsed": true
   },
   "source": [
    "### More natural language processing. "
   ]
  },
  {
   "cell_type": "code",
   "execution_count": 60,
   "metadata": {
    "collapsed": false,
    "scrolled": false
   },
   "outputs": [
    {
     "name": "stdout",
     "output_type": "stream",
     "text": [
      "Extracting tf-idf features for NMF...\n",
      "done in 0.054s.\n",
      "Extracting tf features for LDA...\n",
      "done in 0.057s.\n",
      "Fitting the NMF model with tf-idf features, n_samples=100 and n_features=30...\n",
      "done in 0.599s.\n",
      "\n",
      "Topics in NMF model:\n",
      "Topic #0:\n",
      "alloy using titanium aluminum amorphous apparatus based containing\n",
      "Topic #1:\n",
      "method using low alloy aluminum amorphous apparatus based\n",
      "Topic #2:\n",
      "memory using low alloy aluminum amorphous apparatus based\n",
      "Topic #3:\n",
      "shape using low alloy aluminum amorphous apparatus based\n",
      "Topic #4:\n",
      "aluminum based silicon using low alloy amorphous apparatus\n",
      "Topic #5:\n",
      "metal nickel using low alloy aluminum amorphous apparatus\n",
      "Topic #6:\n",
      "high using titanium alloy aluminum amorphous apparatus based\n",
      "Topic #7:\n",
      "process using low alloy aluminum amorphous apparatus based\n",
      "Topic #8:\n",
      "having using titanium alloy aluminum amorphous apparatus based\n",
      "Topic #9:\n",
      "titanium nickel based using low alloy aluminum amorphous\n",
      "Topic #10:\n",
      "layer using titanium alloy aluminum amorphous apparatus based\n",
      "Topic #11:\n",
      "copper nickel using low alloy aluminum amorphous apparatus\n",
      "Topic #12:\n",
      "producing using low alloy aluminum amorphous apparatus based\n",
      "Topic #13:\n",
      "using titanium alloy aluminum amorphous apparatus based containing\n",
      "Topic #14:\n",
      "material using low alloy aluminum amorphous apparatus based\n",
      "Topic #15:\n",
      "magnetic titanium alloy aluminum amorphous apparatus based containing\n",
      "Topic #16:\n",
      "strength using low alloy aluminum amorphous apparatus based\n",
      "Topic #17:\n",
      "device using titanium alloy aluminum amorphous apparatus based\n",
      "Topic #18:\n",
      "amorphous using titanium alloy aluminum apparatus based containing\n",
      "Topic #19:\n",
      "containing using titanium alloy aluminum amorphous apparatus based\n",
      "\n",
      "Fitting LDA models with tf features, n_samples=100 and n_features=30...\n",
      "done in 5.752s.\n",
      "\n",
      "Topics in LDA model:\n",
      "Topic #0:\n",
      "aluminum containing based nickel magnetic actuator manufacturing having\n",
      "Topic #1:\n",
      "strength manufacturing memory alloy shape nickel making device\n",
      "Topic #2:\n",
      "high devices using actuator producing nickel based alloy\n",
      "Topic #3:\n",
      "method memory nickel semiconductor apparatus alloy copper shape\n",
      "Topic #4:\n",
      "apparatus semiconductor method nickel actuator making shape material\n",
      "Topic #5:\n",
      "using devices high manufacturing apparatus low silicon metal\n",
      "Topic #6:\n",
      "metal magnetic devices titanium having strength low nickel\n",
      "Topic #7:\n",
      "process layer silicon using titanium material nickel manufacturing\n",
      "Topic #8:\n",
      "producing actuator titanium layer containing device alloy manufacturing\n",
      "Topic #9:\n",
      "having alloy memory producing apparatus metal devices device\n",
      "Topic #10:\n",
      "low alloy actuator device having using producing nickel\n",
      "Topic #11:\n",
      "amorphous memory alloy using making magnetic aluminum semiconductor\n",
      "Topic #12:\n",
      "shape nickel actuator aluminum metal copper making apparatus\n",
      "Topic #13:\n",
      "alloy method memory amorphous apparatus manufacturing copper material\n",
      "Topic #14:\n",
      "titanium nickel alloy based manufacturing copper shape silicon\n",
      "Topic #15:\n",
      "copper alloy memory making producing apparatus material process\n",
      "Topic #16:\n",
      "device nickel copper metal aluminum manufacturing having silicon\n",
      "Topic #17:\n",
      "material devices layer high silicon nickel copper amorphous\n",
      "Topic #18:\n",
      "memory shape using copper alloy based making apparatus\n",
      "Topic #19:\n",
      "magnetic making producing high nickel having manufacturing using\n",
      "\n"
     ]
    }
   ],
   "source": [
    "# Author: Olivier Grisel <olivier.grisel@ensta.org>\n",
    "#         Lars Buitinck\n",
    "#         Chyi-Kwei Yau <chyikwei.yau@gmail.com>\n",
    "# License: BSD 3 clause\n",
    "\n",
    "#   http://scikit-learn.org/stable/auto_examples/applications/topics_extraction_with_nmf_lda.html\n",
    "#   + #sphx-glr-auto-examples-applications-topics-extraction-with-nmf-lda-py\n",
    "\n",
    "# NMF is Non-negative Matrix Factorization \n",
    "# data is \"document1\"\n",
    "\n",
    "from __future__ import print_function\n",
    "from time import time\n",
    "\n",
    "from sklearn.feature_extraction.text import TfidfVectorizer, CountVectorizer\n",
    "from sklearn.decomposition import NMF, LatentDirichletAllocation\n",
    "\n",
    "n_samples = 100\n",
    "n_features = 30\n",
    "n_topics = 20\n",
    "n_top_words = 8\n",
    "\n",
    "\n",
    "def print_top_words(model, feature_names, n_top_words):\n",
    "    for topic_idx, topic in enumerate(model.components_):\n",
    "        print(\"Topic #%d:\" % topic_idx)\n",
    "        print(\" \".join([feature_names[i]\n",
    "                        for i in topic.argsort()[:-n_top_words - 1:-1]]))\n",
    "    print()\n",
    "\n",
    "\n",
    "# Use tf-idf features for NMF.\n",
    "print(\"Extracting tf-idf features for NMF...\")\n",
    "tfidf_vectorizer = TfidfVectorizer(max_df=0.95, min_df=2,\n",
    "                                   max_features=n_features,\n",
    "                                   stop_words='english')\n",
    "t0 = time()\n",
    "tfidf = tfidf_vectorizer.fit_transform(document1)\n",
    "print(\"done in %0.3fs.\" % (time() - t0))\n",
    "\n",
    "# Use tf (raw term count) features for LDA.\n",
    "print(\"Extracting tf features for LDA...\")\n",
    "tf_vectorizer = CountVectorizer(max_df=0.95, min_df=2,\n",
    "                                max_features=n_features,\n",
    "                                stop_words='english')\n",
    "t0 = time()\n",
    "tf = tf_vectorizer.fit_transform(document1)\n",
    "print(\"done in %0.3fs.\" % (time() - t0))\n",
    "\n",
    "# Fit the NMF model\n",
    "print(\"Fitting the NMF model with tf-idf features, \"\n",
    "      \"n_samples=%d and n_features=%d...\"\n",
    "      % (n_samples, n_features))\n",
    "t0 = time()\n",
    "nmf = NMF(n_components=n_topics, random_state=1,\n",
    "          alpha=0.1, l1_ratio=0.5).fit(tfidf)\n",
    "print(\"done in %0.3fs.\" % (time() - t0))\n",
    "\n",
    "print(\"\\nTopics in NMF model:\")\n",
    "tfidf_feature_names = tfidf_vectorizer.get_feature_names()\n",
    "print_top_words(nmf, tfidf_feature_names, n_top_words)\n",
    "\n",
    "print(\"Fitting LDA models with tf features, \"\n",
    "      \"n_samples=%d and n_features=%d...\"\n",
    "      % (n_samples, n_features))\n",
    "lda = LatentDirichletAllocation(n_topics=n_topics, max_iter=15,\n",
    "                                learning_method='online',\n",
    "                                learning_offset=50.,\n",
    "                                random_state=0)\n",
    "t0 = time()\n",
    "lda.fit(tf)\n",
    "print(\"done in %0.3fs.\" % (time() - t0))\n",
    "\n",
    "print(\"\\nTopics in LDA model:\")\n",
    "tf_feature_names = tf_vectorizer.get_feature_names()\n",
    "print_top_words(lda, tf_feature_names, n_top_words)\n"
   ]
  },
  {
   "cell_type": "code",
   "execution_count": 30,
   "metadata": {
    "collapsed": false
   },
   "outputs": [
    {
     "data": {
      "text/plain": [
       "500"
      ]
     },
     "execution_count": 30,
     "metadata": {},
     "output_type": "execute_result"
    }
   ],
   "source": [
    "len(data_samples)"
   ]
  },
  {
   "cell_type": "code",
   "execution_count": 31,
   "metadata": {
    "collapsed": false
   },
   "outputs": [
    {
     "data": {
      "text/plain": [
       "5024"
      ]
     },
     "execution_count": 31,
     "metadata": {},
     "output_type": "execute_result"
    }
   ],
   "source": [
    "len (document1)"
   ]
  },
  {
   "cell_type": "code",
   "execution_count": 56,
   "metadata": {
    "collapsed": false
   },
   "outputs": [
    {
     "data": {
      "text/plain": [
       "1206"
      ]
     },
     "execution_count": 56,
     "metadata": {},
     "output_type": "execute_result"
    }
   ],
   "source": [
    "dense = tfidf_matrix.todense()\n",
    "len(dense[0].tolist()[0])"
   ]
  },
  {
   "cell_type": "code",
   "execution_count": 55,
   "metadata": {
    "collapsed": false
   },
   "outputs": [
    {
     "name": "stdout",
     "output_type": "stream",
     "text": [
      "[[ 0.  0.  0. ...,  0.  0.  0.]\n",
      " [ 0.  0.  0. ...,  0.  0.  0.]\n",
      " [ 0.  0.  0. ...,  0.  0.  0.]\n",
      " ..., \n",
      " [ 0.  0.  0. ...,  0.  0.  0.]\n",
      " [ 0.  0.  0. ...,  0.  0.  0.]\n",
      " [ 0.  0.  0. ...,  0.  0.  0.]]\n"
     ]
    }
   ],
   "source": [
    "print (dense) "
   ]
  },
  {
   "cell_type": "code",
   "execution_count": null,
   "metadata": {
    "collapsed": true
   },
   "outputs": [],
   "source": []
  }
 ],
 "metadata": {
  "kernelspec": {
   "display_name": "Python 2",
   "language": "python",
   "name": "python2"
  },
  "language_info": {
   "codemirror_mode": {
    "name": "ipython",
    "version": 2
   },
   "file_extension": ".py",
   "mimetype": "text/x-python",
   "name": "python",
   "nbconvert_exporter": "python",
   "pygments_lexer": "ipython2",
   "version": "2.7.13"
  }
 },
 "nbformat": 4,
 "nbformat_minor": 0
}
