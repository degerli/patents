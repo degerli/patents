{
 "cells": [
  {
   "cell_type": "markdown",
   "metadata": {},
   "source": [
    "##  patent-extractor\n"
   ]
  },
  {
   "cell_type": "markdown",
   "metadata": {},
   "source": [
    "### Data Dictionary\n",
    "\n",
    "df_patents (dataframe)\n",
    "\n",
    "titles -- patent titles\n",
    "\n",
    "dates -- issue date of patents\n",
    "\n",
    "num_inventors -- number or inventors\n",
    "\n",
    "num_pc -- number of patent citations\n",
    "\n",
    "num_npc -- number of non-patent citations\n",
    "\n",
    "num_rb -- number of references by other patents\n",
    "\n",
    "num_class -- number of patent classifications\n",
    "\n",
    "num_le -- number of legal events\n",
    "\n",
    "cum_rbs -- cumulative references (sum of num_rbs)\n",
    "\n",
    "yearly_sales"
   ]
  },
  {
   "cell_type": "code",
   "execution_count": null,
   "metadata": {
    "collapsed": false
   },
   "outputs": [],
   "source": [
    "# US Patents are reported by Google as html files.  Extract data from US Patents.  \n",
    "# The requests library allows us to send a request to the API with the specific variables and parameters it takes\n",
    "# The BeautifulSoup library allows us to parse the html formmated file we'll received after we make our request\n",
    " \n",
    "import urllib2  \n",
    "from bs4 import BeautifulSoup  \n",
    "import numpy as np\n",
    "import pandas as pd\n",
    "import requests\n",
    "from dateutil import parser\n",
    "    \n",
    "# read data into a DataFrame\n",
    "df_patents = pd.read_csv('Pfizer_1.3.csv')\n",
    "\n",
    "# Concatenate http and patent_no to find the appropriate url for google patents.  \n",
    "\n",
    "df_patents[\"url\"] = df_patents[\"http\"].map(str) + df_patents[\"patent_no\"]\n",
    "del df_patents[\"http\"]\n",
    "print (df_patents.head(8))\n",
    "\n",
    "patent_url = df_patents[\"url\"].tolist()\n",
    "patent_url = str(patent_url) \n",
    "print (len(patent_url))\n",
    "\n",
    "patent_url = str(patent_url) \n",
    "patent_url = patent_url.replace(\",\",\"\")\n",
    "print (len(patent_url))\n",
    "\n",
    "\n",
    "# m is counter for http string, iterate over all https \n",
    "# n is counter for filling dataframe with consecutive numbers.   \n",
    "\n",
    "m = 0\n",
    "n = 0\n",
    "titles = []\n",
    "dates = []\n",
    "num_inventors = []\n",
    "num_pcs = []\n",
    "num_npcs = [] \n",
    "num_rbs = []\n",
    "num_classes = []\n",
    "num_les = []\n",
    "issue_dates = []\n",
    "num_patents = []\n",
    "\n",
    "# Each patent url is extracted by a string of 43 characters.  m <= 430 will extract 11 patents. (m = 73,229)\n",
    "while m <= 73229:\n",
    "    u1 = patent_url [m+2:m+42]\n",
    "    print (u1)\n",
    "    patent_info = requests.get(u1)  \n",
    "    m = m + 43\n",
    "\n",
    "# Save the text that was returned into a string\n",
    "# Specify the URL patent information from Google using requests.get\n",
    "\n",
    "    content_string = patent_info.content       \n",
    "    print len(content_string)\n",
    "    #print (content_string) \n",
    "\n",
    "# Cut the patent url from the string of patents \n",
    "# Parse with BeautifulSoup, store in variable `soup`\n",
    "\n",
    "    soup = BeautifulSoup(content_string, 'html.parser')  \n",
    "    name_box = soup.find('span', attrs={\"class\": \"main-title\"})  \n",
    "    name = name_box.text.strip() # strip() is used to remove starting and trailing  \n",
    "\n",
    "# Cut the 'Patent 1234567 - ' from the name and save the title\n",
    "    title = name [19:]\n",
    "    print (len(titles))\n",
    "    print (title)  \n",
    "    titles.append(title)\n",
    "    df_patents.ix[n, 'title'] = title\n",
    "    \n",
    "    name_box = soup.find('tr', attrs={\"class\": 'patent-internal-links'}) \n",
    "    events = name_box.getText()\n",
    "    print(events)\n",
    "\n",
    "# Find the publication date of the patent. \n",
    "    name_box = soup.find('table', attrs={\"class\": \"patent-bibdata\"})  \n",
    "    date = name_box.getText().replace(\"\",\"\")\n",
    "\n",
    "#assignee = find \"Publication date\"  \n",
    "    d1 = date.find(\"Publication date\")\n",
    "    d2 = date.find(\"Filing date\")\n",
    "    date = date[d1+16:d2]\n",
    "    dt = parser.parse(date)\n",
    "    print (dt)\n",
    "    print (\"Publication date = \" + str(date))\n",
    "    dates.append(date)\n",
    "    issue_dates.append(dt)\n",
    "    num_patents.append(n)\n",
    "\n",
    "# Add values to dataframe.  \n",
    "    df_patents.ix[n, 'issue_date'] = dt\n",
    "    df_patents.ix[n, 'date'] = date\n",
    "    df_patents.ix[n, 'num_patent'] = n+620\n",
    "   \n",
    "    \n",
    "# Extract the inventors in this box. \n",
    "    name_box = soup.find('table', attrs={\"class\": \"patent-bibdata\"}) \n",
    "    inventors = name_box.getText()\n",
    "\n",
    "    i1 = inventors.find(\"Inventor\") \n",
    "    i2 = inventors.find(\"Original Assignee\")\n",
    "\n",
    "# Inventors are contained between i1 and i2 in the string, +9 eliminates 'Inventors' from showing\n",
    "    inventors = inventors[i1+9:i2]\n",
    "    num_inventor = inventors.count(\",\") + 1 \n",
    "    print (\"Number of inventors = \" + str(num_inventor))\n",
    "    num_inventors.append(num_inventor)\n",
    "    df_patents.ix[n, 'num_inventor'] = num_inventor\n",
    "\n",
    "    \n",
    "# This section extracts the 5 key values from the Google patent page.  \n",
    "\n",
    "    name_box = soup.find('tr', attrs={\"class\": 'patent-internal-links'}) \n",
    "    events = (name_box.getText().replace(\",\",\"\"))\n",
    "    #print(events)\n",
    "\n",
    "    a = events.count('Patent Citations') \n",
    "    b = events.count('Non-Patent Citations')\n",
    "    c = events.count('Referenced by')\n",
    "    d = events.count('Classifications')\n",
    "    e = events.count('Legal Events')\n",
    "    f = events.count('Non')\n",
    "    print (a,b,c,d,e,f)\n",
    "    \n",
    "    \n",
    "# Remove 'Patent Citations' from event string. num_pc = number of patent citations.  \n",
    "\n",
    "    if a > 1 and f >= 1: \n",
    "        a1 = events.find(\"(\")\n",
    "        pc = events[0:a1]\n",
    "        a2 = events.find(\")\")\n",
    "        num_pc = events[a1+1:a2]\n",
    "        print (\"Patent Citations = \" + str(num_pc))\n",
    "        num_pcs.append(num_pc)\n",
    "    \n",
    "        # slice off 'Patent Citations' from event string. \n",
    "        events = events [a2+2:] \n",
    "    \n",
    "    elif a >= 1 and f < 1: \n",
    "        a1 = events.find(\"(\")\n",
    "        pc = events[0:a1]\n",
    "        a2 = events.find(\")\")\n",
    "        num_pc = events[a1+1:a2]\n",
    "        print (\"Patent Citations = \" + str(num_pc))\n",
    "        num_pcs.append(num_pc)\n",
    "    \n",
    "        # slice off 'Patent Citations' from event string. \n",
    "        events = events [a2+2:]   \n",
    "\n",
    "    elif a <= 1 and f >= 1:\n",
    "        num_pc = 0\n",
    "        print (\"Patent Citations = \" + str(num_pc)) \n",
    "        num_pcs.append(num_pc)\n",
    "        \n",
    "    elif a <= 0: \n",
    "        num_pc = 0\n",
    "        print (\"Patent Citations = \" + str(num_pc)) \n",
    "        num_pcs.append(num_pc)\n",
    "        \n",
    "    df_patents.ix[n, 'num_pc'] = num_pc\n",
    "    \n",
    "# Remove 'Non-Patent Citations' from event string.  num_npc = number of non-patent citations. \n",
    "    if b > 0: \n",
    "        b1 = events.find(\"(\")\n",
    "        npc = events[0:b1]\n",
    "        b2 = events.find(\")\")\n",
    "        num_npc = events[b1+1:b2]\n",
    "        print (\"Non-patent citations = \" + str(num_npc))\n",
    "        num_npcs.append(num_npc)\n",
    "    \n",
    "        # slice off 'Non-Patent Citations' from event string\n",
    "        events = events [b2+2:]\n",
    "\n",
    "    elif b <= 0: \n",
    "        num_npc = 0 \n",
    "        print (\"Non-patent Citations = \" + str(num_npc))\n",
    "        num_npcs.append(num_npc)\n",
    "    df_patents.ix[n, 'num_npc'] = num_npc\n",
    "    \n",
    "# Remove 'Referenced by' citations from event string.  num_rb = number of referenced by citations.\n",
    "    if c > 0: \n",
    "        c1 = events.find(\"(\")\n",
    "        rb = events[0:c1]\n",
    "        c2 = events.find(\")\")\n",
    "        num_rb = events[c1+1:c2]\n",
    "        print (\"Referenced by = \" + str(num_rb))\n",
    "        num_rbs.append(num_rb)\n",
    "    \n",
    "        # slice off 'Referenced by' from event string\n",
    "        events = events [c2+2:]\n",
    "        \n",
    "    elif c <= 0: \n",
    "        num_rb = 0 \n",
    "        print (\"Referenced by = \" + str(num_rb))\n",
    "        num_rbs.append(num_rb)\n",
    "    df_patents.ix[n, 'num_rb'] = num_rb\n",
    "\n",
    "# Remove 'Classifications' citations.  num_classif = number of classifications\n",
    "    if d > 0: \n",
    "        d1 = events.find(\"(\")\n",
    "        classif = events[0:d1]\n",
    "        d2 = events.find(\")\")\n",
    "        num_class = events[d1+1:d2]\n",
    "        print (\"Number classifications = \" + str(num_class))\n",
    "        num_classes.append(num_class)\n",
    "        \n",
    "        # slice off 'Classifications' from event string\n",
    "        events = events [d2+2:]\n",
    "\n",
    "    elif d <= 0: \n",
    "        num_class = 0 \n",
    "        print (\"Number classifications = \" + str(num_class)) \n",
    "        num_classes.append(num_class)\n",
    "    df_patents.ix[n, 'num_class'] = num_class\n",
    "\n",
    "# Remove 'Legal Events' citations.\n",
    "    if e > 0: \n",
    "        e1 = events.find(\"(\")\n",
    "        legal = events[0:e1]\n",
    "        e2 = events.find(\")\")\n",
    "        num_le = events[e1+1:e2]\n",
    "        print (\"Legal events =\" + str(num_le))\n",
    "        num_les.append(num_le)\n",
    "    \n",
    "        # slice off 'Legal Events' from event string\n",
    "        events = events [e2+2:]\n",
    "\n",
    "    elif e <= 0: \n",
    "        num_le = 0 \n",
    "        print (\"Legal Events = \" + str (num_le))\n",
    "        num_les.append(num_le)\n",
    "    df_patents.ix[n, 'num_le'] = num_le\n",
    "    n = n + 1\n",
    "    \n",
    "print (titles)\n",
    "print (dates)\n",
    "print (num_inventors)\n",
    "print (num_pcs)\n",
    "print (num_npcs)\n",
    "print (num_rbs)\n",
    "print (num_classes)\n",
    "print (num_les) \n",
    "print (issue_dates)\n",
    "print (df_patents)\n"
   ]
  },
  {
   "cell_type": "markdown",
   "metadata": {},
   "source": [
    "#### Input year and net sales data.  (Pfizer)"
   ]
  },
  {
   "cell_type": "code",
   "execution_count": null,
   "metadata": {
    "collapsed": false
   },
   "outputs": [],
   "source": [
    "sales = {1981: 3250, 1982: 3454, 1983: 3750, 1984: 3855, 1985: 4025, 1986: 4476, \n",
    "         1987: 4920, 1988: 5385, 1989: 5903, 1990: 6600, 1991: 7144, 1992: 7415, \n",
    "         1993: 7478, 1994: 8281, 1995: 10021, 1996: 11306, 1997: 12504, 1998: 14704, \n",
    "         1999: 16204}    "
   ]
  },
  {
   "cell_type": "code",
   "execution_count": null,
   "metadata": {
    "collapsed": false
   },
   "outputs": [],
   "source": [
    "# Add yearly sales to dataframe. \n",
    "\n",
    "yearly_sales = []\n",
    "\n",
    "for row in df_patents.iterrows():\n",
    "    row_idx = row[0]\n",
    "    year = row[1]['issue_date'].year\n",
    "    if not year in sales:\n",
    "        continue\n",
    "    fy_sales = sales[year]  \n",
    "    yearly_sales.append(fy_sales)\n",
    "    df_patents.loc[row_idx, 'yearly_sales'] = fy_sales\n",
    "    \n",
    "\n",
    "# Print yearly_sales and dataframe.\n",
    "print df_patents.head(25)\n",
    "print df_patents.tail(25)\n"
   ]
  },
  {
   "cell_type": "markdown",
   "metadata": {
    "collapsed": false
   },
   "source": [
    "####  Save raw data to Output.csv  "
   ]
  },
  {
   "cell_type": "code",
   "execution_count": null,
   "metadata": {
    "collapsed": false
   },
   "outputs": [],
   "source": [
    "df_Pfizer = df_patents\n",
    "df_patents.to_csv('Output_Pfizer.csv', encoding='utf-8')\n",
    "\n",
    "len (df_patents) "
   ]
  },
  {
   "cell_type": "markdown",
   "metadata": {
    "collapsed": false
   },
   "source": [
    "### Drop NaN cells.  "
   ]
  },
  {
   "cell_type": "code",
   "execution_count": null,
   "metadata": {
    "collapsed": false
   },
   "outputs": [],
   "source": [
    "df_patents.dropna()"
   ]
  },
  {
   "cell_type": "markdown",
   "metadata": {
    "collapsed": false
   },
   "source": [
    "#### Turn string values into integers. "
   ]
  },
  {
   "cell_type": "code",
   "execution_count": null,
   "metadata": {
    "collapsed": false
   },
   "outputs": [],
   "source": [
    "#  Turn string values into integers. \n",
    "\n",
    "df_patents['num_inventor'] = df_patents['num_inventor'].astype(int)\n",
    "df_patents['num_pc'] = df_patents['num_pc'].astype(int)\n",
    "df_patents['num_npc'] = df_patents['num_npc'].astype(int)\n",
    "df_patents['num_rb'] = df_patents['num_rb'].astype(int)\n",
    "df_patents['num_class'] = df_patents['num_class'].astype(int)\n",
    "df_patents['num_le'] = df_patents['num_le'].astype(int)\n",
    "df_patents['num_patent'] = df_patents['num_patent'].astype(int)\n",
    "df_patents['yearly_sales'] = df_patents['yearly_sales'].astype(int)\n"
   ]
  },
  {
   "cell_type": "markdown",
   "metadata": {},
   "source": [
    "### Diagnostics of the Pfizer data set. "
   ]
  },
  {
   "cell_type": "code",
   "execution_count": null,
   "metadata": {
    "collapsed": false
   },
   "outputs": [],
   "source": [
    "\n",
    "print (len (num_pcs))\n",
    "print (len (num_npcs))\n",
    "print (len (num_rbs))\n",
    "print (len (num_classes))\n",
    "print (len (num_les))\n",
    "print (len (num_patents))\n",
    "\n",
    "print (len (num_patents))\n",
    "print (len (yearly_sales))\n",
    "print (len (issue_dates))\n",
    "\n",
    "# Diagnostics of Pfizer dataset.  \n",
    "\n",
    "df_patents.info()\n",
    "df_patents.describe()"
   ]
  },
  {
   "cell_type": "code",
   "execution_count": null,
   "metadata": {
    "collapsed": false
   },
   "outputs": [],
   "source": [
    "#  Patent sum is the number of patents issued.  It starts at 430 (total no. of patents when exercise begins, in 1981).\n",
    "\n",
    "import matplotlib.pyplot as plt\n",
    "import matplotlib\n",
    "%matplotlib inline\n",
    "import seaborn as sns\n",
    "sns.set()\n",
    "\n"
   ]
  },
  {
   "cell_type": "markdown",
   "metadata": {},
   "source": [
    "#### Plot number of \"Referenced by\" plotted against \"Patent Citations\".  \n",
    "One hypothesis is that a low no. of 'Patent Citations' and large no. of 'Referenced by' favors sales growth because the idea is novel and is widely cited.  "
   ]
  },
  {
   "cell_type": "code",
   "execution_count": null,
   "metadata": {
    "collapsed": false,
    "scrolled": true
   },
   "outputs": [],
   "source": [
    "plt.scatter(num_rbs, num_pcs)\n",
    "plt.xlabel(\"No. of 'Referenced by' \")\n",
    "plt.ylabel(\"Number of Patent Citations\")\n",
    "plt.show()\n"
   ]
  },
  {
   "cell_type": "code",
   "execution_count": null,
   "metadata": {
    "collapsed": false
   },
   "outputs": [],
   "source": [
    "# Plot the number of 'Referenced by' versus 'num_inventors'.  Best inventions have less than 5 inventors. \n",
    "\n",
    "plt.scatter(num_rbs, num_inventors)\n",
    "plt.xlabel(\"No. of 'Referenced by' \")\n",
    "plt.ylabel(\"Number of Inventors\")\n",
    "plt.show()\n"
   ]
  },
  {
   "cell_type": "code",
   "execution_count": null,
   "metadata": {
    "collapsed": false
   },
   "outputs": [],
   "source": [
    "# Plot no. of patents issued versus date.  Pfizer had already 430 patents at start of plot. \n",
    "\n",
    "import seaborn; seaborn.set()\n",
    "import matplotlib.pyplot as plt\n",
    "import matplotlib\n",
    "%matplotlib inline\n",
    "import seaborn as sns\n",
    "sns.set()\n",
    "plt.style.use('seaborn-white')\n",
    "\n",
    "\n",
    "num_patents = []\n",
    "\n",
    "value  = (df_patents['num_patent'])\n",
    "num_patents.append(value)\n",
    "#print value    \n",
    "\n",
    "for row in df_patents.iterrows():      \n",
    "    df_patents['num_patent'] = value \n",
    "\n",
    "#print (df_patents)\n",
    "\n",
    "plt.scatter(issue_dates, num_patents, marker = 'o', color = 'black', s = 10)\n",
    "plt.xlabel(\"Issue date of patent \")\n",
    "plt.ylabel(\"No. of patents\")\n",
    "\n",
    "\n",
    "\n"
   ]
  },
  {
   "cell_type": "code",
   "execution_count": null,
   "metadata": {
    "collapsed": false
   },
   "outputs": [],
   "source": []
  },
  {
   "cell_type": "code",
   "execution_count": null,
   "metadata": {
    "collapsed": true
   },
   "outputs": [],
   "source": []
  }
 ],
 "metadata": {
  "kernelspec": {
   "display_name": "Python 2",
   "language": "python",
   "name": "python2"
  },
  "language_info": {
   "codemirror_mode": {
    "name": "ipython",
    "version": 2
   },
   "file_extension": ".py",
   "mimetype": "text/x-python",
   "name": "python",
   "nbconvert_exporter": "python",
   "pygments_lexer": "ipython2",
   "version": "2.7.13"
  }
 },
 "nbformat": 4,
 "nbformat_minor": 0
}
