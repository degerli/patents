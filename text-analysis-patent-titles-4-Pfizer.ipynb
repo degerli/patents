{
 "cells": [
  {
   "cell_type": "markdown",
   "metadata": {},
   "source": [
    "## text-analysis-patent-titles-4-Pfizer"
   ]
  },
  {
   "cell_type": "markdown",
   "metadata": {},
   "source": [
    "### Load all patents from patent extraction - Pfizer"
   ]
  },
  {
   "cell_type": "code",
   "execution_count": 3,
   "metadata": {
    "collapsed": false
   },
   "outputs": [],
   "source": [
    "import numpy as np\n",
    "import pandas as pd\n",
    "\n",
    "df_patents = pd.read_csv('/Users/stevehansen/Desktop/Data_Science_iPython_Chicago/working-directory/output_pfizer.csv')\n",
    "df_titles = df_patents['title']"
   ]
  },
  {
   "cell_type": "markdown",
   "metadata": {},
   "source": [
    "###  Parse titles and print results.  \n"
   ]
  },
  {
   "cell_type": "code",
   "execution_count": 4,
   "metadata": {
    "collapsed": false
   },
   "outputs": [],
   "source": [
    "title_word = [words for segments in df_titles for words in segments.split()]\n",
    "title_word = [element.lower() for element in title_word]\n",
    "#print (title_word)"
   ]
  },
  {
   "cell_type": "markdown",
   "metadata": {},
   "source": [
    "### Remove stop words from patent titles. "
   ]
  },
  {
   "cell_type": "code",
   "execution_count": 5,
   "metadata": {
    "collapsed": false
   },
   "outputs": [],
   "source": [
    "# Make a list of the words you want remove.  Remove non-chemical stop words.  Method from:  \n",
    "# https://gist.githubusercontent.com/glenbot/4684356/raw/e55ff0ed411763d5db28043b739f4fe2f44d1b69/remove_stop_words.py\n",
    "# for methods of removing stop words. \n",
    "\n",
    "stop_words = ['and', 'or', 'not', 'treatment', 'of', 'for', 'derivatives', 'novel', 'production', 'composition',\n",
    "              'process', 'the', 'methods', 'product', 'compounds', 'thereof', 'related', 'compositions',\n",
    "              'related', 'prepared', 'certain', 'use', 'used', 'uses', 'thereof', 'method', 'therefor', 'vectors',\n",
    "              'agent', 'agents', 'preparing', 'intermediates', 'its', 'having', 'system', 'from', 'coupled' \n",
    "              'permissibly-substituted', 'levels', 'release', 'therefore', 'activity', 'pharmaceutical',\n",
    "              'controlled', 'pharmacologically', 'as', 'in', 'to', 'thereby', 'a', 'by', 'lower', 'host',\n",
    "              'storage', 'binding', 'coupled', 'isolation', 'organism', 'resistance', 'solution', 'synthetic',\n",
    "              'inverse', '  pharmaceutically', 'treating', 'stable', 'small', 'with', 'cells', 'reset', 'plastic',\n",
    "              'dual', 'treat', 'hindered', 'conferring', 'response', 'using', 'prodrug', 'drive', 'disorders',\n",
    "              'stabilizing', 'cell', 'humanized', 'stabilizing', 'agents', 'responsiveness', 'provokes', 'signaling',\n",
    "              'module', 'notch', 'modulating', 'automatic', 'peripheral', 'analog','analogue','co-',\n",
    "              'administration', 'producing', 'useful', 'bind', 'delay', 'their', 'airborne', 'restore','substituted',\n",
    "              'permissibly', 'and...', 'substituted', 'an', 'at', 'making', 'selective', 'healing', 'that', \n",
    "              'based', 'them', 'create', 'comprising', 'diseases', 'disease', 'wound', 'growth', 'pain', 'same', \n",
    "              'forms', 'advantage', 'with', 'late', 'paper', 'thermal', 'optical', 'cleaning', \n",
    "             ]\n",
    "\n",
    "def sanitize_1(user_input, stop_words):\n",
    "    \"\"\"Sanitize using set subtraction then wrapped in list()\"\"\"\n",
    "    return list(set(user_input) - set(stop_words))\n",
    "\n",
    "cleaned_text = sanitize_1 (title_word, stop_words)\n",
    "#print (cleaned_text)\n"
   ]
  },
  {
   "cell_type": "markdown",
   "metadata": {},
   "source": [
    "### Use ntlk stemmer. "
   ]
  },
  {
   "cell_type": "code",
   "execution_count": 6,
   "metadata": {
    "collapsed": false
   },
   "outputs": [],
   "source": [
    "from nltk.stem.snowball import SnowballStemmer\n",
    "stemmer = SnowballStemmer(\"english\")\n",
    "\n",
    "def stem_words(content):\n",
    "    stemmed_words = [stemmer.stem(word) for word in str(cleaned_text).split()]\n",
    "    return \" \".join(stemmed_words)\n",
    "\n",
    "#stem_words('cleaned_text')"
   ]
  },
  {
   "cell_type": "markdown",
   "metadata": {
    "collapsed": false
   },
   "source": [
    "### Apply count vectorizer."
   ]
  },
  {
   "cell_type": "code",
   "execution_count": 7,
   "metadata": {
    "collapsed": false
   },
   "outputs": [
    {
     "name": "stdout",
     "output_type": "stream",
     "text": [
      "  (0, 1949)\t1\n",
      "  (1, 1976)\t1\n",
      "  (2, 1248)\t1\n",
      "  (3, 1303)\t1\n",
      "  (4, 1158)\t1\n",
      "  (5, 1466)\t1\n",
      "  (5, 23)\t1\n",
      "  (5, 1758)\t1\n",
      "  (6, 1537)\t1\n",
      "  (6, 60)\t1\n",
      "  (6, 85)\t1\n",
      "  (6, 173)\t1\n",
      "  (7, 1460)\t1\n",
      "  (7, 1669)\t1\n",
      "  (7, 2159)\t1\n",
      "  (7, 2101)\t1\n",
      "  (7, 291)\t1\n",
      "  (7, 2097)\t1\n",
      "  (8, 337)\t1\n",
      "  (9, 1145)\t1\n",
      "  (10, 1671)\t1\n",
      "  (11, 2122)\t1\n",
      "  (12, 1185)\t1\n",
      "  (13, 502)\t1\n",
      "  (13, 1358)\t1\n",
      "  :\t:\n",
      "  (2287, 1433)\t1\n",
      "  (2288, 404)\t1\n",
      "  (2289, 320)\t1\n",
      "  (2290, 2114)\t1\n",
      "  (2292, 1480)\t1\n",
      "  (2293, 1518)\t1\n",
      "  (2294, 75)\t1\n",
      "  (2295, 1918)\t1\n",
      "  (2296, 218)\t1\n",
      "  (2297, 136)\t1\n",
      "  (2297, 1349)\t1\n",
      "  (2298, 2065)\t1\n",
      "  (2299, 1180)\t1\n",
      "  (2300, 1938)\t1\n",
      "  (2300, 1091)\t1\n",
      "  (2301, 1385)\t1\n",
      "  (2302, 1544)\t1\n",
      "  (2303, 636)\t1\n",
      "  (2304, 1472)\t1\n",
      "  (2305, 120)\t1\n",
      "  (2306, 1003)\t1\n",
      "  (2306, 158)\t1\n",
      "  (2307, 215)\t1\n",
      "  (2308, 1864)\t1\n",
      "  (2309, 1227)\t1\n"
     ]
    }
   ],
   "source": [
    "from sklearn.feature_extraction.text import CountVectorizer\n",
    "\n",
    "vectorizer = CountVectorizer()\n",
    "counts = vectorizer.fit_transform(cleaned_text)\n",
    "counts.shape\n",
    "\n",
    "print (counts)"
   ]
  },
  {
   "cell_type": "markdown",
   "metadata": {},
   "source": [
    " We can use the tf_idf transformer to take our counts and make it into a Document X Term Matrix with tfidf values in the cells."
   ]
  },
  {
   "cell_type": "code",
   "execution_count": 8,
   "metadata": {
    "collapsed": false
   },
   "outputs": [
    {
     "name": "stdout",
     "output_type": "stream",
     "text": [
      "  (0, 1949)\t1.0\n",
      "  (1, 1976)\t1.0\n",
      "  (2, 1248)\t1.0\n",
      "  (3, 1303)\t1.0\n",
      "  (4, 1158)\t1.0\n",
      "  (5, 1758)\t0.656415387631\n",
      "  (5, 23)\t0.566857491436\n",
      "  (5, 1466)\t0.497786523807\n",
      "  (6, 173)\t0.370503273102\n",
      "  (6, 85)\t0.568382570961\n",
      "  (6, 60)\t0.519455762144\n",
      "  (6, 1537)\t0.519455762144\n",
      "  (7, 2097)\t0.44269318026\n",
      "  (7, 291)\t0.332453236657\n",
      "  (7, 2101)\t0.484389829279\n",
      "  (7, 2159)\t0.319513093571\n",
      "  (7, 1669)\t0.44269318026\n",
      "  (7, 1460)\t0.40099653124\n",
      "  (8, 337)\t1.0\n",
      "  (9, 1145)\t1.0\n",
      "  (10, 1671)\t1.0\n",
      "  (11, 2122)\t1.0\n",
      "  (12, 1185)\t1.0\n",
      "  (13, 1358)\t0.725127607905\n",
      "  (13, 502)\t0.688614516441\n",
      "  :\t:\n",
      "  (2287, 1433)\t1.0\n",
      "  (2288, 404)\t1.0\n",
      "  (2289, 320)\t1.0\n",
      "  (2290, 2114)\t1.0\n",
      "  (2292, 1480)\t1.0\n",
      "  (2293, 1518)\t1.0\n",
      "  (2294, 75)\t1.0\n",
      "  (2295, 1918)\t1.0\n",
      "  (2296, 218)\t1.0\n",
      "  (2297, 1349)\t0.584526945819\n",
      "  (2297, 136)\t0.811374296864\n",
      "  (2298, 2065)\t1.0\n",
      "  (2299, 1180)\t1.0\n",
      "  (2300, 1091)\t0.56313661452\n",
      "  (2300, 1938)\t0.82636381418\n",
      "  (2301, 1385)\t1.0\n",
      "  (2302, 1544)\t1.0\n",
      "  (2303, 636)\t1.0\n",
      "  (2304, 1472)\t1.0\n",
      "  (2305, 120)\t1.0\n",
      "  (2306, 158)\t0.664492074998\n",
      "  (2306, 1003)\t0.747295311283\n",
      "  (2307, 215)\t1.0\n",
      "  (2308, 1864)\t1.0\n",
      "  (2309, 1227)\t1.0\n"
     ]
    }
   ],
   "source": [
    "from sklearn.feature_extraction.text import TfidfTransformer\n",
    "tf_transformer = TfidfTransformer(use_idf=True).fit(counts)\n",
    "tf_idf = tf_transformer.transform(counts)\n",
    "\n",
    "print (tf_idf)"
   ]
  },
  {
   "cell_type": "markdown",
   "metadata": {},
   "source": [
    "###  Use Latent Dirichlet Allocation (LDA) example"
   ]
  },
  {
   "cell_type": "code",
   "execution_count": 9,
   "metadata": {
    "collapsed": false
   },
   "outputs": [
    {
     "name": "stdout",
     "output_type": "stream",
     "text": [
      "                                                      0\n",
      "0                                      sulfonamidoalkyl\n",
      "1                                            sweetening\n",
      "2                                             japonicus\n",
      "3                                              magnetic\n",
      "4                                              implants\n",
      "5                                  quinazolin-4(3h)-one\n",
      "6     6'-(2-amino-2-[4-acyloxyphenyl]acetamido)penic...\n",
      "7     1-triazolyl-2-aryl-3-(5-trifluoromethylimidazo...\n",
      "8                                   azahomoerythromycin\n",
      "9                                    imidazolylpyridine\n",
      "10                                         propanediols\n",
      "11                                               unroll\n",
      "12                                         infestations\n",
      "13                   3-methylthiophene-2-carboxaldehyde\n",
      "14                                               trauma\n",
      "15                                 hypercholesterolemia\n",
      "16                                           erythorbic\n",
      "17                                              hormone\n",
      "18                                           activation\n",
      "19                                              pigment\n",
      "20                                            (3h)-ones\n",
      "21                              spiro-3-hetero-azolones\n",
      "22                                       polyacrylamide\n",
      "23                                       5-lipoxygenase\n",
      "24                                                 beam\n",
      "25                                                albus\n",
      "26                                          cholesterol\n",
      "27                                              osmotic\n",
      "28                                              bicycle\n",
      "29                           tetrahydrofuran-containing\n",
      "...                                                 ...\n",
      "2280                                      n-nitrosamine\n",
      "2281                                            oxicams\n",
      "2282                              1-[n-(alkoxycarbonyl)\n",
      "2283                                           crystals\n",
      "2284                                           sulfonyl\n",
      "2285                                       permeability\n",
      "2286                                          antiviral\n",
      "2287                                          nicotinic\n",
      "2288                                      benzoxazepine\n",
      "2289                                         auermectin\n",
      "2290                                            tubular\n",
      "2291                                                 4,\n",
      "2292                                              other\n",
      "2293                                        parathyroid\n",
      "2294                                            acrylic\n",
      "2295                                          stimulant\n",
      "2296                                          ansamycin\n",
      "2297                             6-(alkoxyamino-methyl)\n",
      "2298                                           titanate\n",
      "2299                                           indolone\n",
      "2300                2-substitutedmethylamino-5-(hydroxy\n",
      "2301                                          morphinan\n",
      "2302                                             peptic\n",
      "2303                                           coupling\n",
      "2304                                               oral\n",
      "2305                                             aldose\n",
      "2306                           6-alpha-halopenicillanic\n",
      "2307                              4-anilinoquinazolines\n",
      "2308                                             silica\n",
      "2309                                          ischaemia\n",
      "\n",
      "[2310 rows x 1 columns]\n",
      "LatentDirichletAllocation(batch_size=128, doc_topic_prior=None,\n",
      "             evaluate_every=-1, learning_decay=0.7,\n",
      "             learning_method='online', learning_offset=10.0,\n",
      "             max_doc_update_iter=100, max_iter=1, mean_change_tol=0.001,\n",
      "             n_jobs=1, n_topics=25, perp_tol=0.1, random_state=0,\n",
      "             topic_word_prior=None, total_samples=1000000.0, verbose=0)\n"
     ]
    }
   ],
   "source": [
    "from sklearn.decomposition import LatentDirichletAllocation\n",
    "\n",
    "n_samples = 1000\n",
    "n_features = 60\n",
    "\n",
    "# In this model, we need to explicitly specify the number of topics we want the model to uncover.\n",
    "\n",
    "n_topics = 25\n",
    "n_top_words = 40\n",
    "\n",
    "dataset = pd.DataFrame(cleaned_text)\n",
    "print (dataset)\n",
    "data_samples = dataset[:n_samples]\n",
    "\n",
    "\n",
    "vectorizer = CountVectorizer(max_df=.90, min_df=2,max_features=n_features)\n",
    "tf = vectorizer.fit_transform(cleaned_text)\n",
    "lda = LatentDirichletAllocation(n_topics=n_topics, max_iter=1,learning_method='online', random_state=0)\n",
    "tf_feature_names = vectorizer.get_feature_names()\n",
    "\n",
    "print (lda.fit(tf))"
   ]
  },
  {
   "cell_type": "code",
   "execution_count": 10,
   "metadata": {
    "collapsed": false
   },
   "outputs": [
    {
     "name": "stdout",
     "output_type": "stream",
     "text": [
      "Topic #0:\n",
      "pyrido fluorophenyl spiro 1h fluoro tetrahydro aryl benzyl 2h 11 bis carbonate carboxylic pyridines chloro piperazinyl oxo alkyl imidazolyl pyrimidine benzo penicillanic imidazoles amino gamma alkoxy non anti methyl quinolines alpha ones acyl piperidino aza disubstituted one heteroaryl pyridine triazol\n",
      "Topic #1:\n",
      "dihydropyridine pyridine fluoro 11 aza dihydro pyridines anti chloro quinolines alkoxy heterocyclic 1h gamma acid imidazoles beta spiro carboxamides one acyl benzo piperazinyl bis alkyl hydroxy amino triazol phenyl carboxamide oxo substituted cis yl piperidino pyrimidine 2h non pyrido aryl\n",
      "Topic #2:\n",
      "heterocyclic acid tetrahydro yl penicillanic acyl methyl ol ones carboxylic chloro 11 piperazinyl beta dione substituted dihydropyridine carbonate bis disubstituted piperidino cis hydroxyoctahydrobenzo alpha benzo hydroxy 1h pyridines anti gamma amino heteroaryl alkoxy fluoro triazol imidazoles pyrido carboxamide carboxamides guanidino\n",
      "Topic #3:\n",
      "aryl yl triazol 1h tetrahydro hydroxy substituted bis 2h pyrido alkyl one acid phenyl benzyl heterocyclic anti ethyl penicillanic spiro hydroxyoctahydrobenzo disubstituted benzo methyl pyridines fluoro acyl ones gamma chloro pyrimidine non fluorophenyl guanidino carboxamides alpha oxindole carboxylic 11 carboxamide\n",
      "Topic #4:\n",
      "dihydro chloro yl piperazinyl ethyl 2h one pyridine oxo non pyridines heterocyclic pyrimidine piperidino methyl oxindole alkyl imidazolyl 1h gamma 11 azabicyclo guanidino amino fluorophenyl ones hydroxy bis substituted alkoxy pyrido carbonate alpha dione imidazoles acid aryl anti hydroxyoctahydrobenzo ol\n",
      "Topic #5:\n",
      "oxindole carboxamides acyl substituted heteroaryl yl benzo 11 amino aryl oxo chloro fluoro dihydro piperazinyl guanidino quinolines gamma methyl hydroxy heterocyclic phenyl penicillanic tetrahydro bis one pyrimidine 1h cis carboxylic pyrido triazol acid imidazoles fluorophenyl 2h aza spiro pyridine ones\n",
      "Topic #6:\n",
      "dione pyridine chloro fluorophenyl heteroaryl gamma 2h 11 carboxamides heterocyclic penicillanic alkyl imidazoles phenyl pyrido tetrahydro alpha beta yl acyl hydroxy dihydropyridine acid amino methyl ethyl one azabicyclo ol piperazinyl ones carboxylic benzo cis imidazolyl hydroxyoctahydrobenzo fluoro substituted guanidino non\n",
      "Topic #7:\n",
      "1h fluorophenyl carboxamide pyrido bis fluoro alkyl pyrimidine oxo triazol tetrahydro one imidazoles ethyl dione heterocyclic phenyl dihydro piperidino quinolines 2h carbonate pyridine 11 gamma oxindole penicillanic pyridines benzo piperazinyl carboxamides aryl diones ol acyl alpha methyl aza anti non\n",
      "Topic #8:\n",
      "bis methyl one 2h hydroxy triazol 1h chloro phenyl ol substituted pyridines imidazoles carboxamide amino heteroaryl alkyl aryl quinolines carboxamides heterocyclic diones pyridine non alpha pyrimidine disubstituted acid tetrahydro alkoxy benzyl azabicyclo imidazolyl acyl pyrido spiro beta ones oxindole yl\n",
      "Topic #9:\n",
      "dihydropyridine fluoro alpha pyrimidine oxo ol pyridines 1h alkoxy non beta acyl oxindole diones bis penicillanic benzo yl carboxamides one tetrahydro aryl carboxamide triazol alkyl guanidino quinolines dione carbonate methyl dihydro substituted heteroaryl acid aza pyridine chloro 11 benzyl amino\n",
      "Topic #10:\n",
      "benzyl imidazoles pyridine diones carboxylic oxindole acid pyrido fluorophenyl quinolines triazol non cis pyrimidine aryl phenyl chloro dione alkoxy spiro piperidino substituted hydroxyoctahydrobenzo penicillanic tetrahydro 2h piperazinyl aza heteroaryl carbonate 11 beta yl heterocyclic gamma ones dihydropyridine one disubstituted oxo\n",
      "Topic #11:\n",
      "hydroxy anti azabicyclo 2h pyrimidine triazol tetrahydro 11 amino piperidino alpha penicillanic benzo acid hydroxyoctahydrobenzo dione carboxylic gamma methyl diones phenyl beta disubstituted ones cis non quinolines one dihydro spiro ol heteroaryl ethyl alkyl 1h imidazoles dihydropyridine aryl fluorophenyl carboxamide\n",
      "Topic #12:\n",
      "piperidino diones oxo azabicyclo anti imidazoles fluorophenyl acyl pyridines one tetrahydro quinolines alkoxy imidazolyl carboxylic 1h acid oxindole aryl ones non 11 pyrimidine gamma bis piperazinyl spiro benzyl heteroaryl amino guanidino yl carbonate fluoro cis dihydro carboxamide phenyl penicillanic pyrido\n",
      "Topic #13:\n",
      "quinolines hydroxyoctahydrobenzo one benzyl carboxamide 1h acid cis alkoxy alpha dione pyridine 11 aza fluorophenyl phenyl ones hydroxy triazol diones methyl heterocyclic fluoro imidazoles tetrahydro 2h imidazolyl piperidino dihydropyridine alkyl guanidino spiro amino oxindole penicillanic yl pyrido piperazinyl dihydro beta\n",
      "Topic #14:\n",
      "11 non tetrahydro chloro ethyl dihydro beta pyridines ones pyrimidine fluorophenyl penicillanic dione bis hydroxyoctahydrobenzo pyrido imidazoles spiro alkoxy aryl heterocyclic carbonate methyl benzo azabicyclo oxo hydroxy carboxamide pyridine yl oxindole imidazolyl heteroaryl carboxamides cis anti carboxylic guanidino 1h alkyl\n",
      "Topic #15:\n",
      "spiro disubstituted carbonate pyridines fluoro chloro acid gamma hydroxyoctahydrobenzo phenyl 1h benzyl guanidino 11 carboxamides hydroxy dione tetrahydro yl oxo ol piperidino alpha beta cis acyl ethyl imidazolyl methyl pyrido dihydro non fluorophenyl diones substituted piperazinyl pyridine triazol one ones\n",
      "Topic #16:\n",
      "carboxylic oxo fluoro alkoxy pyridines chloro cis fluorophenyl dihydro tetrahydro ethyl one acid methyl substituted phenyl benzyl ones imidazoles piperidino ol alpha diones carboxamide heterocyclic aryl spiro carbonate hydroxyoctahydrobenzo oxindole acyl heteroaryl hydroxy yl anti non 1h guanidino pyridine carboxamides\n",
      "Topic #17:\n",
      "phenyl tetrahydro guanidino methyl imidazolyl cis substituted ones 1h fluorophenyl disubstituted oxo hydroxy amino pyridines triazol diones dihydro fluoro carboxamides non hydroxyoctahydrobenzo yl ol one pyridine piperazinyl quinolines aza dihydropyridine aryl pyrido heterocyclic azabicyclo bis imidazoles piperidino carboxylic spiro acid\n",
      "Topic #18:\n",
      "amino alkoxy disubstituted dihydro dione penicillanic oxindole anti guanidino benzo ethyl pyrimidine cis azabicyclo substituted pyrido spiro yl quinolines beta alkyl 11 tetrahydro non 1h diones phenyl chloro acid benzyl fluorophenyl ones hydroxy gamma ol pyridine 2h imidazolyl dihydropyridine oxo\n",
      "Topic #19:\n",
      "substituted beta hydroxy penicillanic pyrimidine ones 1h triazol phenyl carboxylic yl heterocyclic alkyl one anti piperidino dione imidazolyl pyridine aryl alkoxy carbonate acyl guanidino spiro alpha piperazinyl diones fluoro ol fluorophenyl chloro azabicyclo oxindole aza pyridines gamma benzo ethyl 2h\n",
      "Topic #20:\n",
      "ol yl aryl carbonate oxindole heteroaryl triazol penicillanic pyrimidine disubstituted dihydro benzo carboxylic carboxamides alkoxy imidazolyl carboxamide 1h hydroxy piperidino fluorophenyl methyl tetrahydro bis spiro quinolines alpha fluoro amino acyl cis oxo non 11 ones benzyl piperazinyl acid imidazoles substituted\n",
      "Topic #21:\n",
      "amino heteroaryl acyl benzo hydroxy quinolines imidazolyl heterocyclic guanidino acid ethyl triazol anti carbonate ones dione substituted pyridine oxindole alkoxy 2h one carboxamide aza penicillanic bis 1h pyrimidine oxo diones non imidazoles pyridines benzyl dihydro spiro beta azabicyclo disubstituted ol\n",
      "Topic #22:\n",
      "aza benzo gamma pyridine pyridines alpha triazol carboxamide guanidino piperazinyl carbonate disubstituted imidazoles 1h chloro oxindole dione dihydropyridine substituted quinolines alkyl cis imidazolyl benzyl spiro bis fluoro carboxamides fluorophenyl dihydro one penicillanic azabicyclo phenyl aryl piperidino carboxylic 11 non hydroxy\n",
      "Topic #23:\n",
      "alkyl carboxamide azabicyclo 2h bis gamma benzo alpha non carboxylic triazol beta aryl imidazoles yl 1h one ones piperazinyl pyridine aza phenyl substituted ol benzyl fluoro spiro methyl heteroaryl hydroxyoctahydrobenzo penicillanic ethyl hydroxy oxo guanidino cis imidazolyl pyridines pyrimidine dihydropyridine\n",
      "Topic #24:\n",
      "alpha disubstituted fluorophenyl pyrimidine cis ethyl substituted chloro penicillanic non heteroaryl amino oxindole diones triazol pyrido gamma pyridines imidazolyl ones one guanidino spiro hydroxyoctahydrobenzo acyl heterocyclic fluoro benzyl phenyl methyl alkoxy alkyl oxo 1h pyridine piperidino bis piperazinyl dihydropyridine aza\n"
     ]
    }
   ],
   "source": [
    "tf_feature_names = vectorizer.get_feature_names()\n",
    "\n",
    "# lda.components_ is stored as an unnormalized probability distribution, meaning the sum of the probabilities \n",
    "# of the words isn't 1 for the topics, but we can ensure the sum is 1 by dividing each element by its row's sum.  \n",
    "\n",
    "normalized_components = lda.components_ / lda.components_.sum(axis=1)[:,None]\n",
    "\n",
    "for topic_idx, topic in enumerate(normalized_components):\n",
    "    print (\"Topic #%d:\" % topic_idx)\n",
    "    topic_words = [tf_feature_names[i] for i in topic.argsort()[:-n_top_words-1:-1]]\n",
    "    print (\" \".join(topic_words))\n",
    "  "
   ]
  },
  {
   "cell_type": "markdown",
   "metadata": {
    "collapsed": false
   },
   "source": [
    "Sum of probabilities."
   ]
  },
  {
   "cell_type": "code",
   "execution_count": 11,
   "metadata": {
    "collapsed": false
   },
   "outputs": [
    {
     "name": "stdout",
     "output_type": "stream",
     "text": [
      "document: 0 sum:   (0, 1949)\t1\n",
      "document: 1 sum:   (0, 1976)\t1\n",
      "document: 2 sum:   (0, 1248)\t1\n",
      "document: 3 sum:   (0, 1303)\t1\n",
      "document: 4 sum:   (0, 1158)\t1\n",
      "document: 5 sum:   (0, 1466)\t1\n",
      "  (0, 23)\t1\n",
      "  (0, 1758)\t1\n",
      "document: 6 sum:   (0, 1537)\t1\n",
      "  (0, 60)\t1\n",
      "  (0, 85)\t1\n",
      "  (0, 173)\t1\n",
      "document: 7 sum:   (0, 1460)\t1\n",
      "  (0, 1669)\t1\n",
      "  (0, 2159)\t1\n",
      "  (0, 2101)\t1\n",
      "  (0, 291)\t1\n",
      "  (0, 2097)\t1\n",
      "document: 8 sum:   (0, 337)\t1\n",
      "document: 9 sum:   (0, 1145)\t1\n",
      "document: 10 sum:   (0, 1671)\t1\n",
      "document: 11 sum:   (0, 2122)\t1\n",
      "document: 12 sum:   (0, 1185)\t1\n",
      "document: 13 sum:   (0, 502)\t1\n",
      "  (0, 1358)\t1\n",
      "document: 14 sum:   (0, 2083)\t1\n",
      "document: 15 sum:   (0, 1122)\t1\n",
      "document: 16 sum:   (0, 873)\t1\n",
      "document: 17 sum:   (0, 1071)\t1\n",
      "document: 18 sum:   (0, 79)\t1\n",
      "document: 19 sum:   (0, 1587)\t1\n",
      "document: 20 sum:   (0, 1467)\t1\n",
      "  (0, 23)\t1\n",
      "document: 21 sum:   (0, 352)\t1\n",
      "  (0, 1021)\t1\n",
      "  (0, 1890)\t1\n",
      "document: 22 sum:   (0, 1611)\t1\n",
      "document: 23 sum:   (0, 1285)\t1\n",
      "document: 24 sum:   (0, 364)\t1\n",
      "document: 25 sum:   (0, 114)\t1\n",
      "document: 26 sum:   (0, 562)\t1\n",
      "document: 27 sum:   (0, 1477)\t1\n",
      "document: 28 sum:   (0, 423)\t1\n",
      "document: 29 sum:   (0, 618)\t1\n",
      "  (0, 2006)\t1\n"
     ]
    }
   ],
   "source": [
    "# Sum of probabilities. \n",
    "\n",
    "for n in range(30):\n",
    "    sum_pr = sum(counts[n,:])\n",
    "    print(\"document: {} sum: {}\".format(n, sum_pr))"
   ]
  },
  {
   "cell_type": "code",
   "execution_count": 12,
   "metadata": {
    "collapsed": false
   },
   "outputs": [
    {
     "name": "stdout",
     "output_type": "stream",
     "text": [
      "doc: 0 topic: 1949\n",
      "alpha...\n",
      "doc: 1 topic: 1976\n",
      "disubstituted...\n",
      "doc: 2 topic: 1248\n",
      "fluorophenyl...\n",
      "doc: 3 topic: 1303\n",
      "pyrimidine...\n",
      "doc: 4 topic: 1158\n",
      "cis...\n",
      "doc: 5 topic: 23\n",
      "ethyl...\n",
      "doc: 6 topic: 60\n",
      "substituted...\n",
      "doc: 7 topic: 291\n",
      "chloro...\n",
      "doc: 8 topic: 337\n",
      "penicillanic...\n",
      "doc: 9 topic: 1145\n",
      "non...\n",
      "doc: 10 topic: 1671\n",
      "heteroaryl...\n",
      "doc: 11 topic: 2122\n",
      "amino...\n",
      "doc: 12 topic: 1185\n",
      "oxindole...\n",
      "doc: 13 topic: 502\n",
      "diones...\n",
      "doc: 14 topic: 2083\n",
      "triazol...\n",
      "doc: 15 topic: 1122\n",
      "pyrido...\n",
      "doc: 16 topic: 873\n",
      "gamma...\n",
      "doc: 17 topic: 1071\n",
      "pyridines...\n",
      "doc: 18 topic: 79\n",
      "imidazolyl...\n",
      "doc: 19 topic: 1587\n",
      "ones...\n",
      "doc: 20 topic: 23\n",
      "one...\n",
      "doc: 21 topic: 352\n",
      "guanidino...\n",
      "doc: 22 topic: 1611\n",
      "spiro...\n",
      "doc: 23 topic: 1285\n",
      "hydroxyoctahydrobenzo...\n",
      "doc: 24 topic: 364\n",
      "acyl...\n",
      "doc: 25 topic: 114\n",
      "heterocyclic...\n",
      "doc: 26 topic: 562\n",
      "fluoro...\n",
      "doc: 27 topic: 1477\n",
      "benzyl...\n",
      "doc: 28 topic: 423\n",
      "phenyl...\n",
      "doc: 29 topic: 618\n",
      "methyl...\n"
     ]
    }
   ],
   "source": [
    "chemwords = [x.encode('UTF8') for x in topic_words]\n",
    "\n",
    "for n in range (30):\n",
    "    topic_most_pr = counts[n].argmax()\n",
    "    print(\"doc: {} topic: {}\\n{}...\".format(n, topic_most_pr, chemwords[n][:60]))"
   ]
  },
  {
   "cell_type": "code",
   "execution_count": null,
   "metadata": {
    "collapsed": true
   },
   "outputs": [],
   "source": []
  }
 ],
 "metadata": {
  "kernelspec": {
   "display_name": "Python 2",
   "language": "python",
   "name": "python2"
  },
  "language_info": {
   "codemirror_mode": {
    "name": "ipython",
    "version": 2
   },
   "file_extension": ".py",
   "mimetype": "text/x-python",
   "name": "python",
   "nbconvert_exporter": "python",
   "pygments_lexer": "ipython2",
   "version": "2.7.13"
  }
 },
 "nbformat": 4,
 "nbformat_minor": 0
}
